{
  "nbformat": 4,
  "nbformat_minor": 0,
  "metadata": {
    "colab": {
      "name": "Trabalho Prático 2 - Analisando dados criminais.ipynb",
      "provenance": [],
      "collapsed_sections": [],
      "toc_visible": true,
      "authorship_tag": "ABX9TyNyfbeaw/hUIjAhj3K8MSx8",
      "include_colab_link": true
    },
    "kernelspec": {
      "name": "python3",
      "display_name": "Python 3"
    },
    "language_info": {
      "name": "python"
    }
  },
  "cells": [
    {
      "cell_type": "markdown",
      "metadata": {
        "id": "view-in-github",
        "colab_type": "text"
      },
      "source": [
        "<a href=\"https://colab.research.google.com/github/matheusnalmeida/Analise-de-dados-criminais-Sinesp/blob/main/Trabalho_Pr%C3%A1tico_2_Analisando_dados_criminais.ipynb\" target=\"_parent\"><img src=\"https://colab.research.google.com/assets/colab-badge.svg\" alt=\"Open In Colab\"/></a>"
      ]
    },
    {
      "cell_type": "markdown",
      "metadata": {
        "id": "YU1eKJfXutnH"
      },
      "source": [
        "# Trabalho Prático 2 - Analisando dados criminais\n"
      ]
    },
    {
      "cell_type": "markdown",
      "metadata": {
        "id": "-wJPvVq2y07O"
      },
      "source": [
        "## Análise dos dados(Teórica)"
      ]
    },
    {
      "cell_type": "markdown",
      "metadata": {
        "id": "6OQ0QYgPzvfn"
      },
      "source": [
        "- Os dados escolhidos para análise, foram extraídos das soluções SinespJC e Sinesp e possuem dados agrupados por mês de cada ano, \n",
        "que apresentam a quantidade de vítimas e ocorrências para cada tipo de crime em cada estado. \n",
        "<br><br>\n",
        "- As colunas que temos para a base de dados de ocorrência são:\n",
        "1. UF: Estado das ocorrências dos crimes registrados.\n",
        "\n",
        "2. Tipo do crime: Descrição do respectivo tipo do crime associado.\n",
        "\n",
        "3. Ano: Ano em que foi registrada a respectiva ocorrência.\n",
        "\n",
        "4. Mês: Mês em que foi registrada a ocorrência.\n",
        "\n",
        "5. Ocorrência: Quantidade de ocorrências relacionadas com o mês e ano, para a respectiva UF.\n",
        "<br><br>\n",
        "\n",
        "- As colunas que temos para a base de dados de vítimas são:\n",
        "1. UF: Estado das vítimas dos crimes registrados.\n",
        "\n",
        "2. Tipo do crime: Descrição do respectivo tipo do crime associado.\n",
        "\n",
        "3. Ano: Ano em que foi registrada as respectivas vítimas.\n",
        "\n",
        "4. Mês: Mês em que foram registradas as respectivas vítimas.\n",
        "\n",
        "5. Vítimas: Quantidade de vítimas relacionadas com o mês e ano, para a respectiva UF.\n",
        "\n"
      ]
    },
    {
      "cell_type": "markdown",
      "metadata": {
        "id": "XXAz4LVD4Hkm"
      },
      "source": [
        "Em relação a classificação dos dados em qualitativos e quantitativos, temos as seguintes classificações para cada base:\n",
        "\n",
        "#### <center> Ocorrências\n",
        "\n",
        "| Variável    |   Tipo   |      Escala  | \n",
        "|:--------------|:------------------:|:---------------:|\n",
        "| UF | Qualitativo | Nominal |\n",
        "| Tipo Crime | Qualitativo | Nominal |\n",
        "| Ano | Quantitativo | Ordinal |\n",
        "| Mês | Qualitativo | Ordinal |\n",
        "| Ocorrências | Quantitativo Discreto | Racional |\n",
        "\n",
        "#### <center> Vítimas\n",
        "\n",
        "| Variável    |   Tipo   |      Escala  | \n",
        "|:--------------|:------------------:|:---------------:|\n",
        "| UF | Qualitativo | Nominal |\n",
        "| Tipo Crime | Qualitativo | Nominal |\n",
        "| Ano | Quantitativo | Ordinal |\n",
        "| Mês | Qualitativo | Ordinal |\n",
        "| Vítimas | Quantitativo Discreto | Racional |"
      ]
    },
    {
      "cell_type": "markdown",
      "metadata": {
        "id": "WixlMH747tgG"
      },
      "source": [
        "## Análise dos dados(Prática)"
      ]
    },
    {
      "cell_type": "code",
      "metadata": {
        "id": "w3KijdwQ8_IC"
      },
      "source": [
        "# Imports\n",
        "import pandas as pd\n",
        "import numpy as np \n",
        "import seaborn as sns\n",
        "import matplotlib.pyplot as plt\n",
        "from matplotlib.cbook import boxplot_stats\n",
        "from sklearn import preprocessing\n"
      ],
      "execution_count": 259,
      "outputs": []
    },
    {
      "cell_type": "code",
      "metadata": {
        "id": "dNY1Uw4w1ZGh"
      },
      "source": [
        "xls = pd.ExcelFile('indicadoressegurancapublicauf.xlsx')\n",
        "dados_ocorrencias = pd.read_excel(xls, 'Ocorrências')\n",
        "dados_vitimas  = pd.read_excel(xls, 'Vítimas')"
      ],
      "execution_count": 260,
      "outputs": []
    },
    {
      "cell_type": "code",
      "metadata": {
        "colab": {
          "base_uri": "https://localhost:8080/",
          "height": 197
        },
        "id": "oHozVXkc9gSm",
        "outputId": "fc8d8d66-26f5-48aa-fa9f-e5192a926e11"
      },
      "source": [
        "dados_ocorrencias.head()"
      ],
      "execution_count": 261,
      "outputs": [
        {
          "output_type": "execute_result",
          "data": {
            "text/html": [
              "<div>\n",
              "<style scoped>\n",
              "    .dataframe tbody tr th:only-of-type {\n",
              "        vertical-align: middle;\n",
              "    }\n",
              "\n",
              "    .dataframe tbody tr th {\n",
              "        vertical-align: top;\n",
              "    }\n",
              "\n",
              "    .dataframe thead th {\n",
              "        text-align: right;\n",
              "    }\n",
              "</style>\n",
              "<table border=\"1\" class=\"dataframe\">\n",
              "  <thead>\n",
              "    <tr style=\"text-align: right;\">\n",
              "      <th></th>\n",
              "      <th>UF</th>\n",
              "      <th>Tipo Crime</th>\n",
              "      <th>Ano</th>\n",
              "      <th>Mês</th>\n",
              "      <th>Ocorrências</th>\n",
              "    </tr>\n",
              "  </thead>\n",
              "  <tbody>\n",
              "    <tr>\n",
              "      <th>0</th>\n",
              "      <td>Acre</td>\n",
              "      <td>Estupro</td>\n",
              "      <td>2015</td>\n",
              "      <td>janeiro</td>\n",
              "      <td>6</td>\n",
              "    </tr>\n",
              "    <tr>\n",
              "      <th>1</th>\n",
              "      <td>Acre</td>\n",
              "      <td>Furto de veículo</td>\n",
              "      <td>2015</td>\n",
              "      <td>janeiro</td>\n",
              "      <td>0</td>\n",
              "    </tr>\n",
              "    <tr>\n",
              "      <th>2</th>\n",
              "      <td>Acre</td>\n",
              "      <td>Homicídio doloso</td>\n",
              "      <td>2015</td>\n",
              "      <td>janeiro</td>\n",
              "      <td>13</td>\n",
              "    </tr>\n",
              "    <tr>\n",
              "      <th>3</th>\n",
              "      <td>Acre</td>\n",
              "      <td>Lesão corporal seguida de morte</td>\n",
              "      <td>2015</td>\n",
              "      <td>janeiro</td>\n",
              "      <td>0</td>\n",
              "    </tr>\n",
              "    <tr>\n",
              "      <th>4</th>\n",
              "      <td>Acre</td>\n",
              "      <td>Roubo a instituição financeira</td>\n",
              "      <td>2015</td>\n",
              "      <td>janeiro</td>\n",
              "      <td>0</td>\n",
              "    </tr>\n",
              "  </tbody>\n",
              "</table>\n",
              "</div>"
            ],
            "text/plain": [
              "     UF                       Tipo Crime   Ano      Mês  Ocorrências\n",
              "0  Acre                          Estupro  2015  janeiro            6\n",
              "1  Acre                 Furto de veículo  2015  janeiro            0\n",
              "2  Acre                 Homicídio doloso  2015  janeiro           13\n",
              "3  Acre  Lesão corporal seguida de morte  2015  janeiro            0\n",
              "4  Acre   Roubo a instituição financeira  2015  janeiro            0"
            ]
          },
          "metadata": {
            "tags": []
          },
          "execution_count": 261
        }
      ]
    },
    {
      "cell_type": "code",
      "metadata": {
        "colab": {
          "base_uri": "https://localhost:8080/",
          "height": 197
        },
        "id": "GkTY4kr09iw4",
        "outputId": "fc04cba0-7929-47d2-e8bf-9350cf9b8793"
      },
      "source": [
        "dados_vitimas.head()"
      ],
      "execution_count": 262,
      "outputs": [
        {
          "output_type": "execute_result",
          "data": {
            "text/html": [
              "<div>\n",
              "<style scoped>\n",
              "    .dataframe tbody tr th:only-of-type {\n",
              "        vertical-align: middle;\n",
              "    }\n",
              "\n",
              "    .dataframe tbody tr th {\n",
              "        vertical-align: top;\n",
              "    }\n",
              "\n",
              "    .dataframe thead th {\n",
              "        text-align: right;\n",
              "    }\n",
              "</style>\n",
              "<table border=\"1\" class=\"dataframe\">\n",
              "  <thead>\n",
              "    <tr style=\"text-align: right;\">\n",
              "      <th></th>\n",
              "      <th>UF</th>\n",
              "      <th>Tipo Crime</th>\n",
              "      <th>Ano</th>\n",
              "      <th>Mês</th>\n",
              "      <th>Vítimas</th>\n",
              "    </tr>\n",
              "  </thead>\n",
              "  <tbody>\n",
              "    <tr>\n",
              "      <th>0</th>\n",
              "      <td>Acre</td>\n",
              "      <td>Homicídio doloso</td>\n",
              "      <td>2015</td>\n",
              "      <td>janeiro</td>\n",
              "      <td>13</td>\n",
              "    </tr>\n",
              "    <tr>\n",
              "      <th>1</th>\n",
              "      <td>Acre</td>\n",
              "      <td>Homicídio doloso</td>\n",
              "      <td>2015</td>\n",
              "      <td>fevereiro</td>\n",
              "      <td>10</td>\n",
              "    </tr>\n",
              "    <tr>\n",
              "      <th>2</th>\n",
              "      <td>Acre</td>\n",
              "      <td>Homicídio doloso</td>\n",
              "      <td>2015</td>\n",
              "      <td>março</td>\n",
              "      <td>16</td>\n",
              "    </tr>\n",
              "    <tr>\n",
              "      <th>3</th>\n",
              "      <td>Acre</td>\n",
              "      <td>Homicídio doloso</td>\n",
              "      <td>2015</td>\n",
              "      <td>abril</td>\n",
              "      <td>22</td>\n",
              "    </tr>\n",
              "    <tr>\n",
              "      <th>4</th>\n",
              "      <td>Acre</td>\n",
              "      <td>Homicídio doloso</td>\n",
              "      <td>2015</td>\n",
              "      <td>maio</td>\n",
              "      <td>15</td>\n",
              "    </tr>\n",
              "  </tbody>\n",
              "</table>\n",
              "</div>"
            ],
            "text/plain": [
              "     UF        Tipo Crime   Ano        Mês  Vítimas\n",
              "0  Acre  Homicídio doloso  2015    janeiro       13\n",
              "1  Acre  Homicídio doloso  2015  fevereiro       10\n",
              "2  Acre  Homicídio doloso  2015      março       16\n",
              "3  Acre  Homicídio doloso  2015      abril       22\n",
              "4  Acre  Homicídio doloso  2015       maio       15"
            ]
          },
          "metadata": {
            "tags": []
          },
          "execution_count": 262
        }
      ]
    },
    {
      "cell_type": "markdown",
      "metadata": {
        "id": "cUXfzjGvAAQ2"
      },
      "source": [
        "### Abaixo seguem algumas representações e análise dos dados para a base de ocorrência:"
      ]
    },
    {
      "cell_type": "markdown",
      "metadata": {
        "id": "_PeDFCbmAaxk"
      },
      "source": [
        "#### Análise da quantidade de ocorrências por ano\n",
        "\n",
        "- Nesta análise da quantidade de ocorrências por ano, podemos ter uma idéias da distribuição dos dados pelo tempo. Neste caso percebemos um pico no número de ocorrências no ano de 2017 e uma menor quantidade no ano 2021. Esta difereça para o ano de 2021, aconteceu pois existem poucos dados registrados para o ano de 2021. Então podemos desconsiderar o ano de 2021 e considerar o menor ano com ocorrências o ano de 2020."
      ]
    },
    {
      "cell_type": "code",
      "metadata": {
        "colab": {
          "base_uri": "https://localhost:8080/",
          "height": 312
        },
        "id": "S5LOnTWKAiiW",
        "outputId": "aef8964b-d983-4eb6-ee4f-d48d477238b9"
      },
      "source": [
        "dfocorrencias_por_ano = dados_ocorrencias.groupby(['Ano'])['Ocorrências'].sum()\n",
        "dfocorrencias_por_ano.plot(kind='bar', stacked='True', color=['#0613e2', '#be12b4', '#cba45c', '#5d1648', '#fd279a', '#b856b4', '#2cff09'])"
      ],
      "execution_count": 263,
      "outputs": [
        {
          "output_type": "execute_result",
          "data": {
            "text/plain": [
              "<matplotlib.axes._subplots.AxesSubplot at 0x7f73ff43b150>"
            ]
          },
          "metadata": {
            "tags": []
          },
          "execution_count": 263
        },
        {
          "output_type": "display_data",
          "data": {
            "image/png": "[encoded data removed]",
            "text/plain": [
              "<Figure size 432x288 with 1 Axes>"
            ]
          },
          "metadata": {
            "tags": [],
            "needs_background": "light"
          }
        }
      ]
    },
    {
      "cell_type": "markdown",
      "metadata": {
        "id": "HG5M6-4egIAj"
      },
      "source": [
        "#### Análise da quantidade de ocorrências por crime\n",
        "\n",
        "- Nesta análise da quantidade de ocorrências por crime, podemos ter uma idéia do número de ocorrências por crime, ajudando assim a descobrir quais tipos de crimes que possuem a maior quantidade de ocorrências, podendo assim ajudar em possiveis futuras classificações. Nesse caso, os crimes que possuem maior quantidade de ocorrências registradas são os de \"Furto de veículo\" e \"Roubo de veículo\", possuindo uma quantidade de ocorrências bem discrepante em relação aos outros crimes."
      ]
    },
    {
      "cell_type": "code",
      "metadata": {
        "colab": {
          "base_uri": "https://localhost:8080/",
          "height": 477
        },
        "id": "pf-tFG6S_qwS",
        "outputId": "1689b08f-687b-45fa-8073-c2ecf5f7db28"
      },
      "source": [
        "dfocorrencias_por_crime = dados_ocorrencias.groupby(['Tipo Crime'])['Ocorrências'].sum()\n",
        "dfocorrencias_por_crime.plot(kind='bar', stacked='True', color=['#0613e2', '#be12b4', '#cba45c', '#5d1648', '#fd279a', '#b856b4', '#2cff09'])"
      ],
      "execution_count": 264,
      "outputs": [
        {
          "output_type": "execute_result",
          "data": {
            "text/plain": [
              "<matplotlib.axes._subplots.AxesSubplot at 0x7f73ff499d90>"
            ]
          },
          "metadata": {
            "tags": []
          },
          "execution_count": 264
        },
        {
          "output_type": "display_data",
          "data": {
            "image/png": "[encoded data removed]",
            "text/plain": [
              "<Figure size 432x288 with 1 Axes>"
            ]
          },
          "metadata": {
            "tags": [],
            "needs_background": "light"
          }
        }
      ]
    },
    {
      "cell_type": "markdown",
      "metadata": {
        "id": "LSGoeHOdmMUr"
      },
      "source": [
        "#### Análise da quantidade de ocorrências por UF\n",
        "\n",
        "- Nesta análise da quantidade de ocorrências por UF, podemos ter uma idéia do número de ocorrências por estado, ajudando assim a descobrir quais estados que possuem a maior quantidade de ocorrências, podendo assim ajudar em possiveis futuras classificações. Nesse caso, percebemos uma quantidade de ocorrências discrepantes de ocorrências quando comparamos o estado de \"São Paulo\" com os outro estados. Logo em segundo estado com maior número de ocorrências, temos o \"Rio de Janeiro\" e \"Minas gerais\"."
      ]
    },
    {
      "cell_type": "code",
      "metadata": {
        "colab": {
          "base_uri": "https://localhost:8080/",
          "height": 400
        },
        "id": "s1x6Y_o1mMiV",
        "outputId": "e874cd9e-253a-4471-d5d5-3c25ac021bd8"
      },
      "source": [
        "dfocorrencias_por_uf = dados_ocorrencias.groupby(['UF'])['Ocorrências'].sum()\n",
        "dfocorrencias_por_uf.plot(kind='bar', stacked='True', color=['#0613e2', '#be12b4', '#cba45c', '#5d1648', '#fd279a', '#b856b4', '#2cff09'])"
      ],
      "execution_count": 265,
      "outputs": [
        {
          "output_type": "execute_result",
          "data": {
            "text/plain": [
              "<matplotlib.axes._subplots.AxesSubplot at 0x7f7411a2cd90>"
            ]
          },
          "metadata": {
            "tags": []
          },
          "execution_count": 265
        },
        {
          "output_type": "display_data",
          "data": {
            "image/png": "[encoded data removed]",
            "text/plain": [
              "<Figure size 432x288 with 1 Axes>"
            ]
          },
          "metadata": {
            "tags": [],
            "needs_background": "light"
          }
        }
      ]
    },
    {
      "cell_type": "markdown",
      "metadata": {
        "id": "33Fn1r7iqbQ_"
      },
      "source": [
        "### Abaixo seguem algumas representações e análise dos dados para a base de vítimas:\n",
        "\n"
      ]
    },
    {
      "cell_type": "markdown",
      "metadata": {
        "id": "PGMcAFqJqeZm"
      },
      "source": [
        "#### Análise da quantidade de vítimas por ano\n",
        "\n",
        "- Nesta análise da quantidade de vítimas por ano, podemos ter uma idéias da distribuição dos dados pelo tempo. Neste caso percebemos um pico no número de ocorrências no ano de 2016 e 2017, e uma menor quantidade no ano 2021. Esta difereça para o ano de 2021, assim como para o numero de ocorrências, aconteceu pois existem poucos dados registrados para o ano de 2021. Então podemos desconsiderar o ano de 2021 e considerar o menor ano com vítimas o ano de 2019."
      ]
    },
    {
      "cell_type": "code",
      "metadata": {
        "colab": {
          "base_uri": "https://localhost:8080/",
          "height": 312
        },
        "id": "UfLXdw89qeJr",
        "outputId": "11fe3d91-8c25-4ec8-c3be-26ebef48d92f"
      },
      "source": [
        "dfvitimas_por_ano = dados_vitimas.groupby(['Ano'])['Vítimas'].sum()\n",
        "dfvitimas_por_ano.plot(kind='bar', stacked='True', color=['#0613e2', '#be12b4', '#cba45c', '#5d1648', '#fd279a', '#b856b4', '#2cff09'])"
      ],
      "execution_count": 266,
      "outputs": [
        {
          "output_type": "execute_result",
          "data": {
            "text/plain": [
              "<matplotlib.axes._subplots.AxesSubplot at 0x7f740ea7c210>"
            ]
          },
          "metadata": {
            "tags": []
          },
          "execution_count": 266
        },
        {
          "output_type": "display_data",
          "data": {
            "image/png": "[encoded data removed]",
            "text/plain": [
              "<Figure size 432x288 with 1 Axes>"
            ]
          },
          "metadata": {
            "tags": [],
            "needs_background": "light"
          }
        }
      ]
    },
    {
      "cell_type": "markdown",
      "metadata": {
        "id": "7Qi7PQaqsYgN"
      },
      "source": [
        "#### Análise da quantidade de vítimas por crime\n",
        "\n",
        "- Nesta análise da quantidade de vítimas por crime, diferente da análise de ocorrências, aqui a quantidade de crimes é bem menor(somente 3), neste caso sendo os crimes agrupados de maneira mais genêrica e não tão especifica. Para estes casos, temos uma quantidade de vítimas bem maior para crimes classificados como \"Homicidio doloso\", quando comparado com os crimes classificados como \"Lesão corporal seguida de morte\" ou \"Roubo seguido de morte (latrocínio)\"."
      ]
    },
    {
      "cell_type": "code",
      "metadata": {
        "colab": {
          "base_uri": "https://localhost:8080/",
          "height": 466
        },
        "id": "yKZBX7KksYuu",
        "outputId": "d4b05e81-ca19-4f8e-cfd9-0265e5336791"
      },
      "source": [
        "dfvitimas_por_crime = dados_vitimas.groupby(['Tipo Crime'])['Vítimas'].sum()\n",
        "dfvitimas_por_crime.plot(kind='bar', stacked='True', color=['#0613e2', '#be12b4', '#cba45c', '#5d1648', '#fd279a', '#b856b4', '#2cff09'])"
      ],
      "execution_count": 267,
      "outputs": [
        {
          "output_type": "execute_result",
          "data": {
            "text/plain": [
              "<matplotlib.axes._subplots.AxesSubplot at 0x7f740e81ac90>"
            ]
          },
          "metadata": {
            "tags": []
          },
          "execution_count": 267
        },
        {
          "output_type": "display_data",
          "data": {
            "image/png": "[encoded data removed]",
            "text/plain": [
              "<Figure size 432x288 with 1 Axes>"
            ]
          },
          "metadata": {
            "tags": [],
            "needs_background": "light"
          }
        }
      ]
    },
    {
      "cell_type": "markdown",
      "metadata": {
        "id": "VoWcFPI-t1Gl"
      },
      "source": [
        "#### Análise da quantidade de vítimas por UF\n",
        "\n",
        "- Nesta análise da quantidade de vítimas por UF, podemos ter uma idéia do número de vítimas por estado, ajudando assim a descobrir quais estados que possuem a maior quantidade de vítimas, podendo assim ajudar em possiveis futuras classificações. Nesse caso, percebemos a maior quantidade de vítimas para o estado da \"Bahia\", e o segundo maior o \"Rio de Janeiro\". Analisando esse resultado com a quantidade de ocorrências por estado, percebemos que apesar de o estado de \"São Paulo\" possuir a maior quantidade de ocorrências, o mesmo possui uma quantidade relativamente baixa de vítimas quando comparado com os outros estados, o mesmo valendo para o estado da \"Bahia\", que apesar de possuir um número grande de vítimas, possui uma pequena quantidade de ocorrências registradas."
      ]
    },
    {
      "cell_type": "code",
      "metadata": {
        "colab": {
          "base_uri": "https://localhost:8080/",
          "height": 388
        },
        "id": "evuUW1wot1VS",
        "outputId": "bff96836-5a96-4604-cd36-a32c21515e20"
      },
      "source": [
        "dfvitimas_por_uf = dados_vitimas.groupby(['UF'])['Vítimas'].sum()\n",
        "dfvitimas_por_uf.plot(kind='bar', stacked='True', color=['#0613e2', '#be12b4', '#cba45c', '#5d1648', '#fd279a', '#b856b4', '#2cff09'])"
      ],
      "execution_count": 268,
      "outputs": [
        {
          "output_type": "execute_result",
          "data": {
            "text/plain": [
              "<matplotlib.axes._subplots.AxesSubplot at 0x7f740e98b750>"
            ]
          },
          "metadata": {
            "tags": []
          },
          "execution_count": 268
        },
        {
          "output_type": "display_data",
          "data": {
            "image/png": "[encoded data removed]",
            "text/plain": [
              "<Figure size 432x288 with 1 Axes>"
            ]
          },
          "metadata": {
            "tags": [],
            "needs_background": "light"
          }
        }
      ]
    },
    {
      "cell_type": "markdown",
      "metadata": {
        "id": "bV7i_zVd5m4d"
      },
      "source": [
        "## Processamento da base"
      ]
    },
    {
      "cell_type": "markdown",
      "metadata": {
        "id": "MdOQS5VZOMXA"
      },
      "source": [
        "##### Remoção de dados de 2021\n",
        "\n",
        "-  Como analisado para o ano de 2021, temos poquissimos dados para o mesmo e somente para o m~es de janeiro. Esta pequena quantidade de dados podem provocar na clusterização, classificação dos dados de forma erronea devido a falta de dados. Com isso iremos remover todos os registros de 2021."
      ]
    },
    {
      "cell_type": "code",
      "metadata": {
        "id": "Ym23LInsMRVo"
      },
      "source": [
        "# Removendo dados de 2021 das bases de vitimas e ocorrências\n",
        "\n",
        "#dados_ocorrencias = dados_ocorrencias.drop(dados_ocorrencias[dados_ocorrencias.Ano == 2021].index)\n",
        "#dados_vitimas = dados_vitimas.drop(dados_vitimas[dados_vitimas.Ano == 2021].index)"
      ],
      "execution_count": 269,
      "outputs": []
    },
    {
      "cell_type": "code",
      "metadata": {
        "colab": {
          "base_uri": "https://localhost:8080/"
        },
        "id": "ahfkz3MYPD32",
        "outputId": "b19c46e1-69ca-4c4e-c67c-0b054b40bbc6"
      },
      "source": [
        "dados_ocorrencias.Ano.unique()"
      ],
      "execution_count": 270,
      "outputs": [
        {
          "output_type": "execute_result",
          "data": {
            "text/plain": [
              "array([2015, 2016, 2017, 2018, 2019, 2020, 2021])"
            ]
          },
          "metadata": {
            "tags": []
          },
          "execution_count": 270
        }
      ]
    },
    {
      "cell_type": "code",
      "metadata": {
        "colab": {
          "base_uri": "https://localhost:8080/"
        },
        "id": "bYRfg3SOP0yJ",
        "outputId": "ce2b5995-987a-4493-bfa3-12bbb863759d"
      },
      "source": [
        "dados_vitimas.Ano.unique()"
      ],
      "execution_count": 271,
      "outputs": [
        {
          "output_type": "execute_result",
          "data": {
            "text/plain": [
              "array([2015, 2016, 2017, 2018, 2019, 2020, 2021])"
            ]
          },
          "metadata": {
            "tags": []
          },
          "execution_count": 271
        }
      ]
    },
    {
      "cell_type": "markdown",
      "metadata": {
        "id": "tJnbC1UXscGM"
      },
      "source": [
        "Trasnformação das colunas de tipo de crime\n",
        "\n",
        "- Tanto para a base de ocorrências quanto de vitimas, foram transformadas as colunas de tipo de crime, sendo que a base foi transformada para apresentar por estado, a quantidade total de ocorrência e vitimas para cada tipo de crime, não sendo mais necessário para a análise as colunas de ano, mês, quantidade total de vítimas e quantidade total de ocorrências. Abaixo segue respectivamente o codigo para transformação de ambas as bases respectivamente."
      ]
    },
    {
      "cell_type": "code",
      "metadata": {
        "colab": {
          "base_uri": "https://localhost:8080/",
          "height": 994
        },
        "id": "3puod0yA06sT",
        "outputId": "ef4889f8-8f66-4fc1-8a6f-26eea7cff940"
      },
      "source": [
        "# Transformando base de ocorrências\n",
        "\n",
        "groupby_ocorrencias = dados_ocorrencias.groupby(by=['UF','Tipo Crime'])['Ocorrências'].sum().reset_index()\n",
        "lista_tipo_crime_ocorrencias_columns = list(dados_ocorrencias['Tipo Crime'].unique()) + ['UF']\n",
        "dataset_transform_ocorrencias = pd.DataFrame(columns=lista_tipo_crime_ocorrencias_columns)\n",
        "#print(groupby_ocorrencias)\n",
        "count = 0\n",
        "values = []\n",
        "\n",
        "for i in range(len(groupby_ocorrencias)):\n",
        "    if count == 9:\n",
        "        dataset_transform_ocorrencias.loc[len(dataset_transform_ocorrencias)] = values + [groupby_ocorrencias['UF'][i-1]]\n",
        "        count = 0\n",
        "        values = []\n",
        "\n",
        "    values.append(groupby_ocorrencias['Ocorrências'][i])\n",
        "    count += 1\n",
        "\n",
        "dataset_transform_ocorrencias"
      ],
      "execution_count": 272,
      "outputs": [
        {
          "output_type": "execute_result",
          "data": {
            "text/html": [
              "<div>\n",
              "<style scoped>\n",
              "    .dataframe tbody tr th:only-of-type {\n",
              "        vertical-align: middle;\n",
              "    }\n",
              "\n",
              "    .dataframe tbody tr th {\n",
              "        vertical-align: top;\n",
              "    }\n",
              "\n",
              "    .dataframe thead th {\n",
              "        text-align: right;\n",
              "    }\n",
              "</style>\n",
              "<table border=\"1\" class=\"dataframe\">\n",
              "  <thead>\n",
              "    <tr style=\"text-align: right;\">\n",
              "      <th></th>\n",
              "      <th>Estupro</th>\n",
              "      <th>Furto de veículo</th>\n",
              "      <th>Homicídio doloso</th>\n",
              "      <th>Lesão corporal seguida de morte</th>\n",
              "      <th>Roubo a instituição financeira</th>\n",
              "      <th>Roubo de carga</th>\n",
              "      <th>Roubo de veículo</th>\n",
              "      <th>Roubo seguido de morte (latrocínio)</th>\n",
              "      <th>Tentativa de homicídio</th>\n",
              "      <th>UF</th>\n",
              "    </tr>\n",
              "  </thead>\n",
              "  <tbody>\n",
              "    <tr>\n",
              "      <th>0</th>\n",
              "      <td>1095</td>\n",
              "      <td>2159</td>\n",
              "      <td>1808</td>\n",
              "      <td>7</td>\n",
              "      <td>12</td>\n",
              "      <td>8</td>\n",
              "      <td>4110</td>\n",
              "      <td>81</td>\n",
              "      <td>479</td>\n",
              "      <td>Acre</td>\n",
              "    </tr>\n",
              "    <tr>\n",
              "      <th>1</th>\n",
              "      <td>3582</td>\n",
              "      <td>6966</td>\n",
              "      <td>8606</td>\n",
              "      <td>61</td>\n",
              "      <td>98</td>\n",
              "      <td>416</td>\n",
              "      <td>17782</td>\n",
              "      <td>253</td>\n",
              "      <td>3263</td>\n",
              "      <td>Alagoas</td>\n",
              "    </tr>\n",
              "    <tr>\n",
              "      <th>2</th>\n",
              "      <td>2207</td>\n",
              "      <td>3843</td>\n",
              "      <td>1544</td>\n",
              "      <td>101</td>\n",
              "      <td>49</td>\n",
              "      <td>28</td>\n",
              "      <td>1906</td>\n",
              "      <td>119</td>\n",
              "      <td>1318</td>\n",
              "      <td>Amapá</td>\n",
              "    </tr>\n",
              "    <tr>\n",
              "      <th>3</th>\n",
              "      <td>5203</td>\n",
              "      <td>14264</td>\n",
              "      <td>6378</td>\n",
              "      <td>152</td>\n",
              "      <td>313</td>\n",
              "      <td>48</td>\n",
              "      <td>18459</td>\n",
              "      <td>376</td>\n",
              "      <td>1725</td>\n",
              "      <td>Amazonas</td>\n",
              "    </tr>\n",
              "    <tr>\n",
              "      <th>4</th>\n",
              "      <td>17578</td>\n",
              "      <td>32089</td>\n",
              "      <td>32888</td>\n",
              "      <td>545</td>\n",
              "      <td>130</td>\n",
              "      <td>2061</td>\n",
              "      <td>78599</td>\n",
              "      <td>974</td>\n",
              "      <td>15866</td>\n",
              "      <td>Bahia</td>\n",
              "    </tr>\n",
              "    <tr>\n",
              "      <th>5</th>\n",
              "      <td>9835</td>\n",
              "      <td>28094</td>\n",
              "      <td>21983</td>\n",
              "      <td>200</td>\n",
              "      <td>241</td>\n",
              "      <td>1196</td>\n",
              "      <td>54374</td>\n",
              "      <td>373</td>\n",
              "      <td>7876</td>\n",
              "      <td>Ceará</td>\n",
              "    </tr>\n",
              "    <tr>\n",
              "      <th>6</th>\n",
              "      <td>3917</td>\n",
              "      <td>33835</td>\n",
              "      <td>2841</td>\n",
              "      <td>34</td>\n",
              "      <td>20</td>\n",
              "      <td>293</td>\n",
              "      <td>25110</td>\n",
              "      <td>206</td>\n",
              "      <td>4915</td>\n",
              "      <td>Distrito Federal</td>\n",
              "    </tr>\n",
              "    <tr>\n",
              "      <th>7</th>\n",
              "      <td>3351</td>\n",
              "      <td>26581</td>\n",
              "      <td>7211</td>\n",
              "      <td>80</td>\n",
              "      <td>134</td>\n",
              "      <td>142</td>\n",
              "      <td>24707</td>\n",
              "      <td>241</td>\n",
              "      <td>14488</td>\n",
              "      <td>Espírito Santo</td>\n",
              "    </tr>\n",
              "    <tr>\n",
              "      <th>8</th>\n",
              "      <td>3836</td>\n",
              "      <td>60517</td>\n",
              "      <td>12702</td>\n",
              "      <td>252</td>\n",
              "      <td>294</td>\n",
              "      <td>2241</td>\n",
              "      <td>54755</td>\n",
              "      <td>480</td>\n",
              "      <td>13171</td>\n",
              "      <td>Goiás</td>\n",
              "    </tr>\n",
              "    <tr>\n",
              "      <th>9</th>\n",
              "      <td>7269</td>\n",
              "      <td>16176</td>\n",
              "      <td>10953</td>\n",
              "      <td>171</td>\n",
              "      <td>411</td>\n",
              "      <td>280</td>\n",
              "      <td>23350</td>\n",
              "      <td>559</td>\n",
              "      <td>6479</td>\n",
              "      <td>Maranhão</td>\n",
              "    </tr>\n",
              "    <tr>\n",
              "      <th>10</th>\n",
              "      <td>9769</td>\n",
              "      <td>16645</td>\n",
              "      <td>5759</td>\n",
              "      <td>145</td>\n",
              "      <td>76</td>\n",
              "      <td>200</td>\n",
              "      <td>14440</td>\n",
              "      <td>275</td>\n",
              "      <td>7831</td>\n",
              "      <td>Mato Grosso</td>\n",
              "    </tr>\n",
              "    <tr>\n",
              "      <th>11</th>\n",
              "      <td>10241</td>\n",
              "      <td>21523</td>\n",
              "      <td>2978</td>\n",
              "      <td>48</td>\n",
              "      <td>67</td>\n",
              "      <td>4</td>\n",
              "      <td>4538</td>\n",
              "      <td>159</td>\n",
              "      <td>4645</td>\n",
              "      <td>Mato Grosso do Sul</td>\n",
              "    </tr>\n",
              "    <tr>\n",
              "      <th>12</th>\n",
              "      <td>8361</td>\n",
              "      <td>141240</td>\n",
              "      <td>20319</td>\n",
              "      <td>354</td>\n",
              "      <td>422</td>\n",
              "      <td>3127</td>\n",
              "      <td>59371</td>\n",
              "      <td>567</td>\n",
              "      <td>23622</td>\n",
              "      <td>Minas Gerais</td>\n",
              "    </tr>\n",
              "    <tr>\n",
              "      <th>13</th>\n",
              "      <td>32629</td>\n",
              "      <td>103293</td>\n",
              "      <td>10027</td>\n",
              "      <td>319</td>\n",
              "      <td>60</td>\n",
              "      <td>4356</td>\n",
              "      <td>51627</td>\n",
              "      <td>354</td>\n",
              "      <td>4144</td>\n",
              "      <td>Paraná</td>\n",
              "    </tr>\n",
              "    <tr>\n",
              "      <th>14</th>\n",
              "      <td>1791</td>\n",
              "      <td>5644</td>\n",
              "      <td>7147</td>\n",
              "      <td>21</td>\n",
              "      <td>200</td>\n",
              "      <td>83</td>\n",
              "      <td>10113</td>\n",
              "      <td>177</td>\n",
              "      <td>1698</td>\n",
              "      <td>Paraíba</td>\n",
              "    </tr>\n",
              "    <tr>\n",
              "      <th>15</th>\n",
              "      <td>18624</td>\n",
              "      <td>22663</td>\n",
              "      <td>18956</td>\n",
              "      <td>208</td>\n",
              "      <td>161</td>\n",
              "      <td>817</td>\n",
              "      <td>34417</td>\n",
              "      <td>1019</td>\n",
              "      <td>8843</td>\n",
              "      <td>Pará</td>\n",
              "    </tr>\n",
              "    <tr>\n",
              "      <th>16</th>\n",
              "      <td>12038</td>\n",
              "      <td>31548</td>\n",
              "      <td>23057</td>\n",
              "      <td>156</td>\n",
              "      <td>265</td>\n",
              "      <td>3108</td>\n",
              "      <td>82781</td>\n",
              "      <td>801</td>\n",
              "      <td>20162</td>\n",
              "      <td>Pernambuco</td>\n",
              "    </tr>\n",
              "    <tr>\n",
              "      <th>17</th>\n",
              "      <td>4070</td>\n",
              "      <td>15118</td>\n",
              "      <td>3676</td>\n",
              "      <td>66</td>\n",
              "      <td>39</td>\n",
              "      <td>118</td>\n",
              "      <td>21783</td>\n",
              "      <td>258</td>\n",
              "      <td>3657</td>\n",
              "      <td>Piauí</td>\n",
              "    </tr>\n",
              "    <tr>\n",
              "      <th>18</th>\n",
              "      <td>1435</td>\n",
              "      <td>6438</td>\n",
              "      <td>8764</td>\n",
              "      <td>1079</td>\n",
              "      <td>143</td>\n",
              "      <td>93</td>\n",
              "      <td>35683</td>\n",
              "      <td>432</td>\n",
              "      <td>959</td>\n",
              "      <td>Rio Grande do Norte</td>\n",
              "    </tr>\n",
              "    <tr>\n",
              "      <th>19</th>\n",
              "      <td>28593</td>\n",
              "      <td>94529</td>\n",
              "      <td>13521</td>\n",
              "      <td>178</td>\n",
              "      <td>367</td>\n",
              "      <td>1918</td>\n",
              "      <td>89286</td>\n",
              "      <td>670</td>\n",
              "      <td>20183</td>\n",
              "      <td>Rio Grande do Sul</td>\n",
              "    </tr>\n",
              "    <tr>\n",
              "      <th>20</th>\n",
              "      <td>27531</td>\n",
              "      <td>94876</td>\n",
              "      <td>25319</td>\n",
              "      <td>260</td>\n",
              "      <td>430</td>\n",
              "      <td>49685</td>\n",
              "      <td>246708</td>\n",
              "      <td>944</td>\n",
              "      <td>22071</td>\n",
              "      <td>Rio de Janeiro</td>\n",
              "    </tr>\n",
              "    <tr>\n",
              "      <th>21</th>\n",
              "      <td>5018</td>\n",
              "      <td>15517</td>\n",
              "      <td>2699</td>\n",
              "      <td>19</td>\n",
              "      <td>85</td>\n",
              "      <td>20</td>\n",
              "      <td>10319</td>\n",
              "      <td>119</td>\n",
              "      <td>4670</td>\n",
              "      <td>Rondônia</td>\n",
              "    </tr>\n",
              "    <tr>\n",
              "      <th>22</th>\n",
              "      <td>1629</td>\n",
              "      <td>4438</td>\n",
              "      <td>1088</td>\n",
              "      <td>47</td>\n",
              "      <td>13</td>\n",
              "      <td>2</td>\n",
              "      <td>2603</td>\n",
              "      <td>74</td>\n",
              "      <td>835</td>\n",
              "      <td>Roraima</td>\n",
              "    </tr>\n",
              "    <tr>\n",
              "      <th>23</th>\n",
              "      <td>7120</td>\n",
              "      <td>66475</td>\n",
              "      <td>4738</td>\n",
              "      <td>109</td>\n",
              "      <td>251</td>\n",
              "      <td>833</td>\n",
              "      <td>15365</td>\n",
              "      <td>273</td>\n",
              "      <td>8860</td>\n",
              "      <td>Santa Catarina</td>\n",
              "    </tr>\n",
              "    <tr>\n",
              "      <th>24</th>\n",
              "      <td>3361</td>\n",
              "      <td>5153</td>\n",
              "      <td>6157</td>\n",
              "      <td>20</td>\n",
              "      <td>52</td>\n",
              "      <td>115</td>\n",
              "      <td>14683</td>\n",
              "      <td>243</td>\n",
              "      <td>3236</td>\n",
              "      <td>Sergipe</td>\n",
              "    </tr>\n",
              "    <tr>\n",
              "      <th>25</th>\n",
              "      <td>66090</td>\n",
              "      <td>579676</td>\n",
              "      <td>19477</td>\n",
              "      <td>368</td>\n",
              "      <td>498</td>\n",
              "      <td>51568</td>\n",
              "      <td>364112</td>\n",
              "      <td>1687</td>\n",
              "      <td>22774</td>\n",
              "      <td>São Paulo</td>\n",
              "    </tr>\n",
              "  </tbody>\n",
              "</table>\n",
              "</div>"
            ],
            "text/plain": [
              "   Estupro Furto de veículo  ... Tentativa de homicídio                   UF\n",
              "0     1095             2159  ...                    479                 Acre\n",
              "1     3582             6966  ...                   3263              Alagoas\n",
              "2     2207             3843  ...                   1318                Amapá\n",
              "3     5203            14264  ...                   1725             Amazonas\n",
              "4    17578            32089  ...                  15866                Bahia\n",
              "5     9835            28094  ...                   7876                Ceará\n",
              "6     3917            33835  ...                   4915     Distrito Federal\n",
              "7     3351            26581  ...                  14488       Espírito Santo\n",
              "8     3836            60517  ...                  13171                Goiás\n",
              "9     7269            16176  ...                   6479             Maranhão\n",
              "10    9769            16645  ...                   7831          Mato Grosso\n",
              "11   10241            21523  ...                   4645   Mato Grosso do Sul\n",
              "12    8361           141240  ...                  23622         Minas Gerais\n",
              "13   32629           103293  ...                   4144               Paraná\n",
              "14    1791             5644  ...                   1698              Paraíba\n",
              "15   18624            22663  ...                   8843                 Pará\n",
              "16   12038            31548  ...                  20162           Pernambuco\n",
              "17    4070            15118  ...                   3657                Piauí\n",
              "18    1435             6438  ...                    959  Rio Grande do Norte\n",
              "19   28593            94529  ...                  20183    Rio Grande do Sul\n",
              "20   27531            94876  ...                  22071       Rio de Janeiro\n",
              "21    5018            15517  ...                   4670             Rondônia\n",
              "22    1629             4438  ...                    835              Roraima\n",
              "23    7120            66475  ...                   8860       Santa Catarina\n",
              "24    3361             5153  ...                   3236              Sergipe\n",
              "25   66090           579676  ...                  22774            São Paulo\n",
              "\n",
              "[26 rows x 10 columns]"
            ]
          },
          "metadata": {
            "tags": []
          },
          "execution_count": 272
        }
      ]
    },
    {
      "cell_type": "code",
      "metadata": {
        "colab": {
          "base_uri": "https://localhost:8080/",
          "height": 827
        },
        "id": "0ZSgTmvjseYx",
        "outputId": "43b93af1-2a4c-486d-8bba-6a5129ad2517"
      },
      "source": [
        "# Transformando base de vítimas\n",
        "\n",
        "groupby_vitimas = dados_vitimas.groupby(by=['UF','Tipo Crime'])['Vítimas'].sum().reset_index()\n",
        "lista_tipo_crime_vitimas_columns = list(dados_vitimas['Tipo Crime'].unique()) + ['UF']\n",
        "dataset_transform_vitimas = pd.DataFrame(columns=lista_tipo_crime_vitimas_columns)\n",
        "#print(groupby_vitimas)\n",
        "values = []\n",
        "\n",
        "for i in range(len(groupby_vitimas)):\n",
        "    if i != 0 and (i % 3) == 0:\n",
        "        dataset_transform_vitimas.loc[len(dataset_transform_vitimas)] = values + [groupby_vitimas['UF'][i-1]]\n",
        "        values = []\n",
        "\n",
        "    values.append(groupby_vitimas['Vítimas'][i])\n",
        "\n",
        "dataset_transform_vitimas"
      ],
      "execution_count": 273,
      "outputs": [
        {
          "output_type": "execute_result",
          "data": {
            "text/html": [
              "<div>\n",
              "<style scoped>\n",
              "    .dataframe tbody tr th:only-of-type {\n",
              "        vertical-align: middle;\n",
              "    }\n",
              "\n",
              "    .dataframe tbody tr th {\n",
              "        vertical-align: top;\n",
              "    }\n",
              "\n",
              "    .dataframe thead th {\n",
              "        text-align: right;\n",
              "    }\n",
              "</style>\n",
              "<table border=\"1\" class=\"dataframe\">\n",
              "  <thead>\n",
              "    <tr style=\"text-align: right;\">\n",
              "      <th></th>\n",
              "      <th>Homicídio doloso</th>\n",
              "      <th>Lesão corporal seguida de morte</th>\n",
              "      <th>Roubo seguido de morte (latrocínio)</th>\n",
              "      <th>UF</th>\n",
              "    </tr>\n",
              "  </thead>\n",
              "  <tbody>\n",
              "    <tr>\n",
              "      <th>0</th>\n",
              "      <td>1754</td>\n",
              "      <td>7</td>\n",
              "      <td>58</td>\n",
              "      <td>Acre</td>\n",
              "    </tr>\n",
              "    <tr>\n",
              "      <th>1</th>\n",
              "      <td>8775</td>\n",
              "      <td>59</td>\n",
              "      <td>251</td>\n",
              "      <td>Alagoas</td>\n",
              "    </tr>\n",
              "    <tr>\n",
              "      <th>2</th>\n",
              "      <td>1615</td>\n",
              "      <td>112</td>\n",
              "      <td>107</td>\n",
              "      <td>Amapá</td>\n",
              "    </tr>\n",
              "    <tr>\n",
              "      <th>3</th>\n",
              "      <td>6568</td>\n",
              "      <td>157</td>\n",
              "      <td>392</td>\n",
              "      <td>Amazonas</td>\n",
              "    </tr>\n",
              "    <tr>\n",
              "      <th>4</th>\n",
              "      <td>34767</td>\n",
              "      <td>546</td>\n",
              "      <td>989</td>\n",
              "      <td>Bahia</td>\n",
              "    </tr>\n",
              "    <tr>\n",
              "      <th>5</th>\n",
              "      <td>23089</td>\n",
              "      <td>205</td>\n",
              "      <td>383</td>\n",
              "      <td>Ceará</td>\n",
              "    </tr>\n",
              "    <tr>\n",
              "      <th>6</th>\n",
              "      <td>3139</td>\n",
              "      <td>31</td>\n",
              "      <td>301</td>\n",
              "      <td>Distrito Federal</td>\n",
              "    </tr>\n",
              "    <tr>\n",
              "      <th>7</th>\n",
              "      <td>7276</td>\n",
              "      <td>83</td>\n",
              "      <td>238</td>\n",
              "      <td>Espírito Santo</td>\n",
              "    </tr>\n",
              "    <tr>\n",
              "      <th>8</th>\n",
              "      <td>12852</td>\n",
              "      <td>235</td>\n",
              "      <td>520</td>\n",
              "      <td>Goiás</td>\n",
              "    </tr>\n",
              "    <tr>\n",
              "      <th>9</th>\n",
              "      <td>10958</td>\n",
              "      <td>169</td>\n",
              "      <td>563</td>\n",
              "      <td>Maranhão</td>\n",
              "    </tr>\n",
              "    <tr>\n",
              "      <th>10</th>\n",
              "      <td>5808</td>\n",
              "      <td>152</td>\n",
              "      <td>279</td>\n",
              "      <td>Mato Grosso</td>\n",
              "    </tr>\n",
              "    <tr>\n",
              "      <th>11</th>\n",
              "      <td>4782</td>\n",
              "      <td>51</td>\n",
              "      <td>170</td>\n",
              "      <td>Mato Grosso do Sul</td>\n",
              "    </tr>\n",
              "    <tr>\n",
              "      <th>12</th>\n",
              "      <td>20876</td>\n",
              "      <td>363</td>\n",
              "      <td>595</td>\n",
              "      <td>Minas Gerais</td>\n",
              "    </tr>\n",
              "    <tr>\n",
              "      <th>13</th>\n",
              "      <td>13020</td>\n",
              "      <td>293</td>\n",
              "      <td>553</td>\n",
              "      <td>Paraná</td>\n",
              "    </tr>\n",
              "    <tr>\n",
              "      <th>14</th>\n",
              "      <td>7285</td>\n",
              "      <td>21</td>\n",
              "      <td>184</td>\n",
              "      <td>Paraíba</td>\n",
              "    </tr>\n",
              "    <tr>\n",
              "      <th>15</th>\n",
              "      <td>19773</td>\n",
              "      <td>217</td>\n",
              "      <td>1072</td>\n",
              "      <td>Pará</td>\n",
              "    </tr>\n",
              "    <tr>\n",
              "      <th>16</th>\n",
              "      <td>24328</td>\n",
              "      <td>163</td>\n",
              "      <td>914</td>\n",
              "      <td>Pernambuco</td>\n",
              "    </tr>\n",
              "    <tr>\n",
              "      <th>17</th>\n",
              "      <td>3673</td>\n",
              "      <td>66</td>\n",
              "      <td>256</td>\n",
              "      <td>Piauí</td>\n",
              "    </tr>\n",
              "    <tr>\n",
              "      <th>18</th>\n",
              "      <td>8816</td>\n",
              "      <td>1100</td>\n",
              "      <td>428</td>\n",
              "      <td>Rio Grande do Norte</td>\n",
              "    </tr>\n",
              "    <tr>\n",
              "      <th>19</th>\n",
              "      <td>16136</td>\n",
              "      <td>182</td>\n",
              "      <td>836</td>\n",
              "      <td>Rio Grande do Sul</td>\n",
              "    </tr>\n",
              "    <tr>\n",
              "      <th>20</th>\n",
              "      <td>27430</td>\n",
              "      <td>261</td>\n",
              "      <td>993</td>\n",
              "      <td>Rio de Janeiro</td>\n",
              "    </tr>\n",
              "    <tr>\n",
              "      <th>21</th>\n",
              "      <td>2843</td>\n",
              "      <td>21</td>\n",
              "      <td>124</td>\n",
              "      <td>Rondônia</td>\n",
              "    </tr>\n",
              "    <tr>\n",
              "      <th>22</th>\n",
              "      <td>1123</td>\n",
              "      <td>45</td>\n",
              "      <td>72</td>\n",
              "      <td>Roraima</td>\n",
              "    </tr>\n",
              "    <tr>\n",
              "      <th>23</th>\n",
              "      <td>4944</td>\n",
              "      <td>109</td>\n",
              "      <td>280</td>\n",
              "      <td>Santa Catarina</td>\n",
              "    </tr>\n",
              "    <tr>\n",
              "      <th>24</th>\n",
              "      <td>6162</td>\n",
              "      <td>21</td>\n",
              "      <td>228</td>\n",
              "      <td>Sergipe</td>\n",
              "    </tr>\n",
              "    <tr>\n",
              "      <th>25</th>\n",
              "      <td>13208</td>\n",
              "      <td>357</td>\n",
              "      <td>1047</td>\n",
              "      <td>São Paulo</td>\n",
              "    </tr>\n",
              "  </tbody>\n",
              "</table>\n",
              "</div>"
            ],
            "text/plain": [
              "   Homicídio doloso  ...                   UF\n",
              "0              1754  ...                 Acre\n",
              "1              8775  ...              Alagoas\n",
              "2              1615  ...                Amapá\n",
              "3              6568  ...             Amazonas\n",
              "4             34767  ...                Bahia\n",
              "5             23089  ...                Ceará\n",
              "6              3139  ...     Distrito Federal\n",
              "7              7276  ...       Espírito Santo\n",
              "8             12852  ...                Goiás\n",
              "9             10958  ...             Maranhão\n",
              "10             5808  ...          Mato Grosso\n",
              "11             4782  ...   Mato Grosso do Sul\n",
              "12            20876  ...         Minas Gerais\n",
              "13            13020  ...               Paraná\n",
              "14             7285  ...              Paraíba\n",
              "15            19773  ...                 Pará\n",
              "16            24328  ...           Pernambuco\n",
              "17             3673  ...                Piauí\n",
              "18             8816  ...  Rio Grande do Norte\n",
              "19            16136  ...    Rio Grande do Sul\n",
              "20            27430  ...       Rio de Janeiro\n",
              "21             2843  ...             Rondônia\n",
              "22             1123  ...              Roraima\n",
              "23             4944  ...       Santa Catarina\n",
              "24             6162  ...              Sergipe\n",
              "25            13208  ...            São Paulo\n",
              "\n",
              "[26 rows x 4 columns]"
            ]
          },
          "metadata": {
            "tags": []
          },
          "execution_count": 273
        }
      ]
    },
    {
      "cell_type": "markdown",
      "metadata": {
        "id": "MRXdv16p4-Wi"
      },
      "source": [
        "##### Normalização do atributos\n",
        "\n",
        "-  Para normalização iremos utilizar os atributos relacionados com as quantidades de cada tipo de crime para cada um dos estados, atributos estes quantitativos e que podem apresentar uma grande variação de valores. A ideia é que após a normalização, os atributos irão conter valores que irão se situar em um intervalo entre 0 e 1."
      ]
    },
    {
      "cell_type": "code",
      "metadata": {
        "colab": {
          "base_uri": "https://localhost:8080/",
          "height": 231
        },
        "id": "3H6WL2lY4-lQ",
        "outputId": "b79aec10-5f2f-491d-a331-0a990f429db2"
      },
      "source": [
        "# Normalização dos valores da base de ocorrências\n",
        "normalize_columns_ocorrencias = dataset_transform_ocorrencias.columns[0:-1]\n",
        "\n",
        "for column in normalize_columns_ocorrencias:\n",
        "  float_array = dataset_transform_ocorrencias[column].values\n",
        "  min_max_scaler = preprocessing.MinMaxScaler()\n",
        "  scaled_array = min_max_scaler.fit_transform(float_array[:, np.newaxis])\n",
        "  dataset_transform_ocorrencias[column] = scaled_array\n",
        "\n",
        "dataset_transform_ocorrencias.head()"
      ],
      "execution_count": 274,
      "outputs": [
        {
          "output_type": "execute_result",
          "data": {
            "text/html": [
              "<div>\n",
              "<style scoped>\n",
              "    .dataframe tbody tr th:only-of-type {\n",
              "        vertical-align: middle;\n",
              "    }\n",
              "\n",
              "    .dataframe tbody tr th {\n",
              "        vertical-align: top;\n",
              "    }\n",
              "\n",
              "    .dataframe thead th {\n",
              "        text-align: right;\n",
              "    }\n",
              "</style>\n",
              "<table border=\"1\" class=\"dataframe\">\n",
              "  <thead>\n",
              "    <tr style=\"text-align: right;\">\n",
              "      <th></th>\n",
              "      <th>Estupro</th>\n",
              "      <th>Furto de veículo</th>\n",
              "      <th>Homicídio doloso</th>\n",
              "      <th>Lesão corporal seguida de morte</th>\n",
              "      <th>Roubo a instituição financeira</th>\n",
              "      <th>Roubo de carga</th>\n",
              "      <th>Roubo de veículo</th>\n",
              "      <th>Roubo seguido de morte (latrocínio)</th>\n",
              "      <th>Tentativa de homicídio</th>\n",
              "      <th>UF</th>\n",
              "    </tr>\n",
              "  </thead>\n",
              "  <tbody>\n",
              "    <tr>\n",
              "      <th>0</th>\n",
              "      <td>0.000000</td>\n",
              "      <td>0.000000</td>\n",
              "      <td>0.022642</td>\n",
              "      <td>0.000000</td>\n",
              "      <td>0.000000</td>\n",
              "      <td>0.000116</td>\n",
              "      <td>0.006085</td>\n",
              "      <td>0.004340</td>\n",
              "      <td>0.000000</td>\n",
              "      <td>Acre</td>\n",
              "    </tr>\n",
              "    <tr>\n",
              "      <th>1</th>\n",
              "      <td>0.038264</td>\n",
              "      <td>0.008324</td>\n",
              "      <td>0.236415</td>\n",
              "      <td>0.050373</td>\n",
              "      <td>0.176955</td>\n",
              "      <td>0.008029</td>\n",
              "      <td>0.043831</td>\n",
              "      <td>0.110973</td>\n",
              "      <td>0.120296</td>\n",
              "      <td>Alagoas</td>\n",
              "    </tr>\n",
              "    <tr>\n",
              "      <th>2</th>\n",
              "      <td>0.017109</td>\n",
              "      <td>0.002916</td>\n",
              "      <td>0.014340</td>\n",
              "      <td>0.087687</td>\n",
              "      <td>0.076132</td>\n",
              "      <td>0.000504</td>\n",
              "      <td>0.000000</td>\n",
              "      <td>0.027898</td>\n",
              "      <td>0.036253</td>\n",
              "      <td>Amapá</td>\n",
              "    </tr>\n",
              "    <tr>\n",
              "      <th>3</th>\n",
              "      <td>0.063205</td>\n",
              "      <td>0.020960</td>\n",
              "      <td>0.166352</td>\n",
              "      <td>0.135261</td>\n",
              "      <td>0.619342</td>\n",
              "      <td>0.000892</td>\n",
              "      <td>0.045701</td>\n",
              "      <td>0.187229</td>\n",
              "      <td>0.053839</td>\n",
              "      <td>Amazonas</td>\n",
              "    </tr>\n",
              "    <tr>\n",
              "      <th>4</th>\n",
              "      <td>0.253604</td>\n",
              "      <td>0.051825</td>\n",
              "      <td>1.000000</td>\n",
              "      <td>0.501866</td>\n",
              "      <td>0.242798</td>\n",
              "      <td>0.039929</td>\n",
              "      <td>0.211739</td>\n",
              "      <td>0.557967</td>\n",
              "      <td>0.664866</td>\n",
              "      <td>Bahia</td>\n",
              "    </tr>\n",
              "  </tbody>\n",
              "</table>\n",
              "</div>"
            ],
            "text/plain": [
              "    Estupro  Furto de veículo  ...  Tentativa de homicídio        UF\n",
              "0  0.000000          0.000000  ...                0.000000      Acre\n",
              "1  0.038264          0.008324  ...                0.120296   Alagoas\n",
              "2  0.017109          0.002916  ...                0.036253     Amapá\n",
              "3  0.063205          0.020960  ...                0.053839  Amazonas\n",
              "4  0.253604          0.051825  ...                0.664866     Bahia\n",
              "\n",
              "[5 rows x 10 columns]"
            ]
          },
          "metadata": {
            "tags": []
          },
          "execution_count": 274
        }
      ]
    },
    {
      "cell_type": "code",
      "metadata": {
        "colab": {
          "base_uri": "https://localhost:8080/",
          "height": 197
        },
        "id": "dsl9Frf97ac8",
        "outputId": "0b6895a6-8393-451b-99c3-42d9d0626776"
      },
      "source": [
        "# Normalização dos valores da base de vítimas\n",
        "normalize_columns_vitimas = dataset_transform_vitimas.columns[0:-1]\n",
        "\n",
        "for column in normalize_columns_vitimas:\n",
        "  float_array = dataset_transform_vitimas[column].values\n",
        "  min_max_scaler = preprocessing.MinMaxScaler()\n",
        "  scaled_array = min_max_scaler.fit_transform(float_array[:, np.newaxis])\n",
        "  dataset_transform_vitimas[column] = scaled_array\n",
        "\n",
        "dataset_transform_vitimas.head()"
      ],
      "execution_count": 275,
      "outputs": [
        {
          "output_type": "execute_result",
          "data": {
            "text/html": [
              "<div>\n",
              "<style scoped>\n",
              "    .dataframe tbody tr th:only-of-type {\n",
              "        vertical-align: middle;\n",
              "    }\n",
              "\n",
              "    .dataframe tbody tr th {\n",
              "        vertical-align: top;\n",
              "    }\n",
              "\n",
              "    .dataframe thead th {\n",
              "        text-align: right;\n",
              "    }\n",
              "</style>\n",
              "<table border=\"1\" class=\"dataframe\">\n",
              "  <thead>\n",
              "    <tr style=\"text-align: right;\">\n",
              "      <th></th>\n",
              "      <th>Homicídio doloso</th>\n",
              "      <th>Lesão corporal seguida de morte</th>\n",
              "      <th>Roubo seguido de morte (latrocínio)</th>\n",
              "      <th>UF</th>\n",
              "    </tr>\n",
              "  </thead>\n",
              "  <tbody>\n",
              "    <tr>\n",
              "      <th>0</th>\n",
              "      <td>0.018755</td>\n",
              "      <td>0.000000</td>\n",
              "      <td>0.000000</td>\n",
              "      <td>Acre</td>\n",
              "    </tr>\n",
              "    <tr>\n",
              "      <th>1</th>\n",
              "      <td>0.227440</td>\n",
              "      <td>0.047575</td>\n",
              "      <td>0.190335</td>\n",
              "      <td>Alagoas</td>\n",
              "    </tr>\n",
              "    <tr>\n",
              "      <th>2</th>\n",
              "      <td>0.014624</td>\n",
              "      <td>0.096066</td>\n",
              "      <td>0.048323</td>\n",
              "      <td>Amapá</td>\n",
              "    </tr>\n",
              "    <tr>\n",
              "      <th>3</th>\n",
              "      <td>0.161842</td>\n",
              "      <td>0.137237</td>\n",
              "      <td>0.329389</td>\n",
              "      <td>Amazonas</td>\n",
              "    </tr>\n",
              "    <tr>\n",
              "      <th>4</th>\n",
              "      <td>1.000000</td>\n",
              "      <td>0.493138</td>\n",
              "      <td>0.918146</td>\n",
              "      <td>Bahia</td>\n",
              "    </tr>\n",
              "  </tbody>\n",
              "</table>\n",
              "</div>"
            ],
            "text/plain": [
              "   Homicídio doloso  ...        UF\n",
              "0          0.018755  ...      Acre\n",
              "1          0.227440  ...   Alagoas\n",
              "2          0.014624  ...     Amapá\n",
              "3          0.161842  ...  Amazonas\n",
              "4          1.000000  ...     Bahia\n",
              "\n",
              "[5 rows x 4 columns]"
            ]
          },
          "metadata": {
            "tags": []
          },
          "execution_count": 275
        }
      ]
    },
    {
      "cell_type": "markdown",
      "metadata": {
        "id": "DN01kih_8lkD"
      },
      "source": [
        "## Verificação de similaridades atráves do gráfico HeatMap para base de ocorrências"
      ]
    },
    {
      "cell_type": "code",
      "metadata": {
        "id": "CLM9JBs58yYG"
      },
      "source": [
        "from scipy.spatial.distance import pdist, squareform"
      ],
      "execution_count": 276,
      "outputs": []
    },
    {
      "cell_type": "code",
      "metadata": {
        "id": "R5rqDukH8_Z7"
      },
      "source": [
        "crime_columns_ocorrencias = dataset_transform_ocorrencias.columns[0:-1]\n",
        "\n",
        "dataframe_dist = pd.DataFrame(\n",
        "    squareform(pdist(dataset_transform_ocorrencias[crime_columns_ocorrencias], metric='euclidean')),\n",
        "    columns = dataset_transform_ocorrencias.UF,\n",
        "    index = dataset_transform_ocorrencias.UF\n",
        ")"
      ],
      "execution_count": 277,
      "outputs": []
    },
    {
      "cell_type": "code",
      "metadata": {
        "colab": {
          "base_uri": "https://localhost:8080/",
          "height": 986
        },
        "id": "udm8CH_Z9AIL",
        "outputId": "e835f869-2a8b-432f-b579-4960d60b41df"
      },
      "source": [
        "plt.figure(figsize=(15,15))\n",
        "sns.heatmap(\n",
        "    dataframe_dist,\n",
        "    cmap='BuPu',\n",
        "    linewidth=1\n",
        ")"
      ],
      "execution_count": 278,
      "outputs": [
        {
          "output_type": "execute_result",
          "data": {
            "text/plain": [
              "<matplotlib.axes._subplots.AxesSubplot at 0x7f73ff0c5e90>"
            ]
          },
          "metadata": {
            "tags": []
          },
          "execution_count": 278
        },
        {
          "output_type": "display_data",
          "data": {
            "image/png": "[encoded data removed]",
            "text/plain": [
              "<Figure size 1080x1080 with 2 Axes>"
            ]
          },
          "metadata": {
            "tags": [],
            "needs_background": "light"
          }
        }
      ]
    },
    {
      "cell_type": "markdown",
      "metadata": {
        "id": "ZsuiZx8Y_s6x"
      },
      "source": [
        "- Ao analisarmos os resultados do heatmap, podemos perceber a similaridade entre a quantidade de ocorrências por diferentes crimes, em diferentes UFs."
      ]
    },
    {
      "cell_type": "code",
      "metadata": {
        "colab": {
          "base_uri": "https://localhost:8080/",
          "height": 347
        },
        "id": "ItPEmXVH__Ep",
        "outputId": "93e49960-744d-4fc1-dc99-db9c7353f27b"
      },
      "source": [
        "long_form = dataframe_dist.unstack()\n",
        "\n",
        "long_form.index.rename([\"UF A\", \"UF B\"], inplace=True)\n",
        "long_form = long_form.to_frame('distance').reset_index()\n",
        "\n",
        "long_form[\n",
        "    (long_form['distance'] < 0.1) \n",
        "    & (long_form['UF A'] != long_form['UF B'])\n",
        "]"
      ],
      "execution_count": 279,
      "outputs": [
        {
          "output_type": "execute_result",
          "data": {
            "text/html": [
              "<div>\n",
              "<style scoped>\n",
              "    .dataframe tbody tr th:only-of-type {\n",
              "        vertical-align: middle;\n",
              "    }\n",
              "\n",
              "    .dataframe tbody tr th {\n",
              "        vertical-align: top;\n",
              "    }\n",
              "\n",
              "    .dataframe thead th {\n",
              "        text-align: right;\n",
              "    }\n",
              "</style>\n",
              "<table border=\"1\" class=\"dataframe\">\n",
              "  <thead>\n",
              "    <tr style=\"text-align: right;\">\n",
              "      <th></th>\n",
              "      <th>UF A</th>\n",
              "      <th>UF B</th>\n",
              "      <th>distance</th>\n",
              "    </tr>\n",
              "  </thead>\n",
              "  <tbody>\n",
              "    <tr>\n",
              "      <th>22</th>\n",
              "      <td>Acre</td>\n",
              "      <td>Roraima</td>\n",
              "      <td>0.047592</td>\n",
              "    </tr>\n",
              "    <tr>\n",
              "      <th>74</th>\n",
              "      <td>Amapá</td>\n",
              "      <td>Roraima</td>\n",
              "      <td>0.097612</td>\n",
              "    </tr>\n",
              "    <tr>\n",
              "      <th>173</th>\n",
              "      <td>Distrito Federal</td>\n",
              "      <td>Piauí</td>\n",
              "      <td>0.090856</td>\n",
              "    </tr>\n",
              "    <tr>\n",
              "      <th>307</th>\n",
              "      <td>Mato Grosso do Sul</td>\n",
              "      <td>Rondônia</td>\n",
              "      <td>0.098068</td>\n",
              "    </tr>\n",
              "    <tr>\n",
              "      <th>448</th>\n",
              "      <td>Piauí</td>\n",
              "      <td>Distrito Federal</td>\n",
              "      <td>0.090856</td>\n",
              "    </tr>\n",
              "    <tr>\n",
              "      <th>466</th>\n",
              "      <td>Piauí</td>\n",
              "      <td>Sergipe</td>\n",
              "      <td>0.099308</td>\n",
              "    </tr>\n",
              "    <tr>\n",
              "      <th>557</th>\n",
              "      <td>Rondônia</td>\n",
              "      <td>Mato Grosso do Sul</td>\n",
              "      <td>0.098068</td>\n",
              "    </tr>\n",
              "    <tr>\n",
              "      <th>572</th>\n",
              "      <td>Roraima</td>\n",
              "      <td>Acre</td>\n",
              "      <td>0.047592</td>\n",
              "    </tr>\n",
              "    <tr>\n",
              "      <th>574</th>\n",
              "      <td>Roraima</td>\n",
              "      <td>Amapá</td>\n",
              "      <td>0.097612</td>\n",
              "    </tr>\n",
              "    <tr>\n",
              "      <th>641</th>\n",
              "      <td>Sergipe</td>\n",
              "      <td>Piauí</td>\n",
              "      <td>0.099308</td>\n",
              "    </tr>\n",
              "  </tbody>\n",
              "</table>\n",
              "</div>"
            ],
            "text/plain": [
              "                   UF A                UF B  distance\n",
              "22                 Acre             Roraima  0.047592\n",
              "74                Amapá             Roraima  0.097612\n",
              "173    Distrito Federal               Piauí  0.090856\n",
              "307  Mato Grosso do Sul            Rondônia  0.098068\n",
              "448               Piauí    Distrito Federal  0.090856\n",
              "466               Piauí             Sergipe  0.099308\n",
              "557            Rondônia  Mato Grosso do Sul  0.098068\n",
              "572             Roraima                Acre  0.047592\n",
              "574             Roraima               Amapá  0.097612\n",
              "641             Sergipe               Piauí  0.099308"
            ]
          },
          "metadata": {
            "tags": []
          },
          "execution_count": 279
        }
      ]
    },
    {
      "cell_type": "markdown",
      "metadata": {
        "id": "ZoCOlqzrLCA5"
      },
      "source": [
        "- Como resultado da análise para os dados de ocorrências, percebemos inicialmente que o estado do Acre é o que possui menor número de ocorrências, portanto os estados pertencente ao mesmo grupo do acre, serão grupos com baixo indice de ocorrências.\n",
        "\n",
        "- Para o estado de São Paulo, temos o maior número de ocorrências como análisado no gráfico, portanto os estados que pertencem ao grupo de são paulo serão os com maior número de ocorrências.\n",
        "\n",
        "- Para os estados que não se encaixem em nenhum dos grupos anteriores, os mesmos serão classificados como estados de número médio de ocorrências."
      ]
    },
    {
      "cell_type": "markdown",
      "metadata": {
        "id": "-GVBifycA94i"
      },
      "source": [
        "## Verificação de similaridades atráves do gráfico HeatMap para base de vítimas"
      ]
    },
    {
      "cell_type": "code",
      "metadata": {
        "id": "Kf-WQYN1A9kI"
      },
      "source": [
        "crime_columns_vitimas = dataset_transform_vitimas.columns[0:-1]\n",
        "\n",
        "dataframe_dist = pd.DataFrame(\n",
        "    squareform(pdist(dataset_transform_vitimas[crime_columns_vitimas], metric='euclidean')),\n",
        "    columns = dataset_transform_vitimas.UF,\n",
        "    index = dataset_transform_vitimas.UF\n",
        ")"
      ],
      "execution_count": 280,
      "outputs": []
    },
    {
      "cell_type": "code",
      "metadata": {
        "colab": {
          "base_uri": "https://localhost:8080/",
          "height": 986
        },
        "id": "miHi59MPBDjG",
        "outputId": "aed88270-2e88-4862-d3e7-af505619ddcd"
      },
      "source": [
        "plt.figure(figsize=(15,15))\n",
        "sns.heatmap(\n",
        "    dataframe_dist,\n",
        "    cmap='BuPu',\n",
        "    linewidth=1\n",
        ")"
      ],
      "execution_count": 281,
      "outputs": [
        {
          "output_type": "execute_result",
          "data": {
            "text/plain": [
              "<matplotlib.axes._subplots.AxesSubplot at 0x7f73fefe3e10>"
            ]
          },
          "metadata": {
            "tags": []
          },
          "execution_count": 281
        },
        {
          "output_type": "display_data",
          "data": {
            "image/png": "[encoded data removed]",
            "text/plain": [
              "<Figure size 1080x1080 with 2 Axes>"
            ]
          },
          "metadata": {
            "tags": [],
            "needs_background": "light"
          }
        }
      ]
    },
    {
      "cell_type": "markdown",
      "metadata": {
        "id": "DzftaFh_BXQ-"
      },
      "source": [
        "- Ao analisarmos os resultados do heatmap, podemos perceber a similaridade entre a quantidade de vítimas por diferentes crimes, em diferentes UFs."
      ]
    },
    {
      "cell_type": "code",
      "metadata": {
        "id": "6OemobptB2cP"
      },
      "source": [
        "long_form = dataframe_dist.unstack()\n",
        "\n",
        "long_form.index.rename([\"Uf A\", \"Uf B\"], inplace=True)\n",
        "long_form = long_form.to_frame('distance').reset_index()"
      ],
      "execution_count": 282,
      "outputs": []
    },
    {
      "cell_type": "code",
      "metadata": {
        "colab": {
          "base_uri": "https://localhost:8080/",
          "height": 1000
        },
        "id": "6nnNSPkpB2x0",
        "outputId": "2af568c8-5580-4ef7-c60d-e8a73bb2e5c6"
      },
      "source": [
        "long_form[\n",
        "    (long_form['distance'] < 0.1) \n",
        "    & (long_form['Uf A'] != long_form['Uf B'])\n",
        "]"
      ],
      "execution_count": 283,
      "outputs": [
        {
          "output_type": "execute_result",
          "data": {
            "text/html": [
              "<div>\n",
              "<style scoped>\n",
              "    .dataframe tbody tr th:only-of-type {\n",
              "        vertical-align: middle;\n",
              "    }\n",
              "\n",
              "    .dataframe tbody tr th {\n",
              "        vertical-align: top;\n",
              "    }\n",
              "\n",
              "    .dataframe thead th {\n",
              "        text-align: right;\n",
              "    }\n",
              "</style>\n",
              "<table border=\"1\" class=\"dataframe\">\n",
              "  <thead>\n",
              "    <tr style=\"text-align: right;\">\n",
              "      <th></th>\n",
              "      <th>Uf A</th>\n",
              "      <th>Uf B</th>\n",
              "      <th>distance</th>\n",
              "    </tr>\n",
              "  </thead>\n",
              "  <tbody>\n",
              "    <tr>\n",
              "      <th>21</th>\n",
              "      <td>Acre</td>\n",
              "      <td>Rondônia</td>\n",
              "      <td>0.073813</td>\n",
              "    </tr>\n",
              "    <tr>\n",
              "      <th>22</th>\n",
              "      <td>Acre</td>\n",
              "      <td>Roraima</td>\n",
              "      <td>0.041846</td>\n",
              "    </tr>\n",
              "    <tr>\n",
              "      <th>33</th>\n",
              "      <td>Alagoas</td>\n",
              "      <td>Espírito Santo</td>\n",
              "      <td>0.051300</td>\n",
              "    </tr>\n",
              "    <tr>\n",
              "      <th>40</th>\n",
              "      <td>Alagoas</td>\n",
              "      <td>Paraíba</td>\n",
              "      <td>0.086810</td>\n",
              "    </tr>\n",
              "    <tr>\n",
              "      <th>50</th>\n",
              "      <td>Alagoas</td>\n",
              "      <td>Sergipe</td>\n",
              "      <td>0.088064</td>\n",
              "    </tr>\n",
              "    <tr>\n",
              "      <th>73</th>\n",
              "      <td>Amapá</td>\n",
              "      <td>Rondônia</td>\n",
              "      <td>0.092439</td>\n",
              "    </tr>\n",
              "    <tr>\n",
              "      <th>74</th>\n",
              "      <td>Amapá</td>\n",
              "      <td>Roraima</td>\n",
              "      <td>0.071853</td>\n",
              "    </tr>\n",
              "    <tr>\n",
              "      <th>173</th>\n",
              "      <td>Distrito Federal</td>\n",
              "      <td>Piauí</td>\n",
              "      <td>0.056981</td>\n",
              "    </tr>\n",
              "    <tr>\n",
              "      <th>179</th>\n",
              "      <td>Distrito Federal</td>\n",
              "      <td>Santa Catarina</td>\n",
              "      <td>0.091651</td>\n",
              "    </tr>\n",
              "    <tr>\n",
              "      <th>183</th>\n",
              "      <td>Espírito Santo</td>\n",
              "      <td>Alagoas</td>\n",
              "      <td>0.051300</td>\n",
              "    </tr>\n",
              "    <tr>\n",
              "      <th>192</th>\n",
              "      <td>Espírito Santo</td>\n",
              "      <td>Mato Grosso</td>\n",
              "      <td>0.086741</td>\n",
              "    </tr>\n",
              "    <tr>\n",
              "      <th>196</th>\n",
              "      <td>Espírito Santo</td>\n",
              "      <td>Paraíba</td>\n",
              "      <td>0.077806</td>\n",
              "    </tr>\n",
              "    <tr>\n",
              "      <th>205</th>\n",
              "      <td>Espírito Santo</td>\n",
              "      <td>Santa Catarina</td>\n",
              "      <td>0.084178</td>\n",
              "    </tr>\n",
              "    <tr>\n",
              "      <th>206</th>\n",
              "      <td>Espírito Santo</td>\n",
              "      <td>Sergipe</td>\n",
              "      <td>0.066418</td>\n",
              "    </tr>\n",
              "    <tr>\n",
              "      <th>217</th>\n",
              "      <td>Goiás</td>\n",
              "      <td>Maranhão</td>\n",
              "      <td>0.092810</td>\n",
              "    </tr>\n",
              "    <tr>\n",
              "      <th>221</th>\n",
              "      <td>Goiás</td>\n",
              "      <td>Paraná</td>\n",
              "      <td>0.062450</td>\n",
              "    </tr>\n",
              "    <tr>\n",
              "      <th>242</th>\n",
              "      <td>Maranhão</td>\n",
              "      <td>Goiás</td>\n",
              "      <td>0.092810</td>\n",
              "    </tr>\n",
              "    <tr>\n",
              "      <th>267</th>\n",
              "      <td>Mato Grosso</td>\n",
              "      <td>Espírito Santo</td>\n",
              "      <td>0.086741</td>\n",
              "    </tr>\n",
              "    <tr>\n",
              "      <th>283</th>\n",
              "      <td>Mato Grosso</td>\n",
              "      <td>Santa Catarina</td>\n",
              "      <td>0.046992</td>\n",
              "    </tr>\n",
              "    <tr>\n",
              "      <th>300</th>\n",
              "      <td>Mato Grosso do Sul</td>\n",
              "      <td>Paraíba</td>\n",
              "      <td>0.080491</td>\n",
              "    </tr>\n",
              "    <tr>\n",
              "      <th>303</th>\n",
              "      <td>Mato Grosso do Sul</td>\n",
              "      <td>Piauí</td>\n",
              "      <td>0.092022</td>\n",
              "    </tr>\n",
              "    <tr>\n",
              "      <th>307</th>\n",
              "      <td>Mato Grosso do Sul</td>\n",
              "      <td>Rondônia</td>\n",
              "      <td>0.078313</td>\n",
              "    </tr>\n",
              "    <tr>\n",
              "      <th>310</th>\n",
              "      <td>Mato Grosso do Sul</td>\n",
              "      <td>Sergipe</td>\n",
              "      <td>0.075548</td>\n",
              "    </tr>\n",
              "    <tr>\n",
              "      <th>346</th>\n",
              "      <td>Paraná</td>\n",
              "      <td>Goiás</td>\n",
              "      <td>0.062450</td>\n",
              "    </tr>\n",
              "    <tr>\n",
              "      <th>365</th>\n",
              "      <td>Paraíba</td>\n",
              "      <td>Alagoas</td>\n",
              "      <td>0.086810</td>\n",
              "    </tr>\n",
              "    <tr>\n",
              "      <th>371</th>\n",
              "      <td>Paraíba</td>\n",
              "      <td>Espírito Santo</td>\n",
              "      <td>0.077806</td>\n",
              "    </tr>\n",
              "    <tr>\n",
              "      <th>375</th>\n",
              "      <td>Paraíba</td>\n",
              "      <td>Mato Grosso do Sul</td>\n",
              "      <td>0.080491</td>\n",
              "    </tr>\n",
              "    <tr>\n",
              "      <th>388</th>\n",
              "      <td>Paraíba</td>\n",
              "      <td>Sergipe</td>\n",
              "      <td>0.054745</td>\n",
              "    </tr>\n",
              "    <tr>\n",
              "      <th>448</th>\n",
              "      <td>Piauí</td>\n",
              "      <td>Distrito Federal</td>\n",
              "      <td>0.056981</td>\n",
              "    </tr>\n",
              "    <tr>\n",
              "      <th>453</th>\n",
              "      <td>Piauí</td>\n",
              "      <td>Mato Grosso do Sul</td>\n",
              "      <td>0.092022</td>\n",
              "    </tr>\n",
              "    <tr>\n",
              "      <th>465</th>\n",
              "      <td>Piauí</td>\n",
              "      <td>Santa Catarina</td>\n",
              "      <td>0.059457</td>\n",
              "    </tr>\n",
              "    <tr>\n",
              "      <th>466</th>\n",
              "      <td>Piauí</td>\n",
              "      <td>Sergipe</td>\n",
              "      <td>0.089054</td>\n",
              "    </tr>\n",
              "    <tr>\n",
              "      <th>546</th>\n",
              "      <td>Rondônia</td>\n",
              "      <td>Acre</td>\n",
              "      <td>0.073813</td>\n",
              "    </tr>\n",
              "    <tr>\n",
              "      <th>548</th>\n",
              "      <td>Rondônia</td>\n",
              "      <td>Amapá</td>\n",
              "      <td>0.092439</td>\n",
              "    </tr>\n",
              "    <tr>\n",
              "      <th>557</th>\n",
              "      <td>Rondônia</td>\n",
              "      <td>Mato Grosso do Sul</td>\n",
              "      <td>0.078313</td>\n",
              "    </tr>\n",
              "    <tr>\n",
              "      <th>568</th>\n",
              "      <td>Rondônia</td>\n",
              "      <td>Roraima</td>\n",
              "      <td>0.075668</td>\n",
              "    </tr>\n",
              "    <tr>\n",
              "      <th>572</th>\n",
              "      <td>Roraima</td>\n",
              "      <td>Acre</td>\n",
              "      <td>0.041846</td>\n",
              "    </tr>\n",
              "    <tr>\n",
              "      <th>574</th>\n",
              "      <td>Roraima</td>\n",
              "      <td>Amapá</td>\n",
              "      <td>0.071853</td>\n",
              "    </tr>\n",
              "    <tr>\n",
              "      <th>593</th>\n",
              "      <td>Roraima</td>\n",
              "      <td>Rondônia</td>\n",
              "      <td>0.075668</td>\n",
              "    </tr>\n",
              "    <tr>\n",
              "      <th>604</th>\n",
              "      <td>Santa Catarina</td>\n",
              "      <td>Distrito Federal</td>\n",
              "      <td>0.091651</td>\n",
              "    </tr>\n",
              "    <tr>\n",
              "      <th>605</th>\n",
              "      <td>Santa Catarina</td>\n",
              "      <td>Espírito Santo</td>\n",
              "      <td>0.084178</td>\n",
              "    </tr>\n",
              "    <tr>\n",
              "      <th>608</th>\n",
              "      <td>Santa Catarina</td>\n",
              "      <td>Mato Grosso</td>\n",
              "      <td>0.046992</td>\n",
              "    </tr>\n",
              "    <tr>\n",
              "      <th>615</th>\n",
              "      <td>Santa Catarina</td>\n",
              "      <td>Piauí</td>\n",
              "      <td>0.059457</td>\n",
              "    </tr>\n",
              "    <tr>\n",
              "      <th>625</th>\n",
              "      <td>Sergipe</td>\n",
              "      <td>Alagoas</td>\n",
              "      <td>0.088064</td>\n",
              "    </tr>\n",
              "    <tr>\n",
              "      <th>631</th>\n",
              "      <td>Sergipe</td>\n",
              "      <td>Espírito Santo</td>\n",
              "      <td>0.066418</td>\n",
              "    </tr>\n",
              "    <tr>\n",
              "      <th>635</th>\n",
              "      <td>Sergipe</td>\n",
              "      <td>Mato Grosso do Sul</td>\n",
              "      <td>0.075548</td>\n",
              "    </tr>\n",
              "    <tr>\n",
              "      <th>638</th>\n",
              "      <td>Sergipe</td>\n",
              "      <td>Paraíba</td>\n",
              "      <td>0.054745</td>\n",
              "    </tr>\n",
              "    <tr>\n",
              "      <th>641</th>\n",
              "      <td>Sergipe</td>\n",
              "      <td>Piauí</td>\n",
              "      <td>0.089054</td>\n",
              "    </tr>\n",
              "  </tbody>\n",
              "</table>\n",
              "</div>"
            ],
            "text/plain": [
              "                   Uf A                Uf B  distance\n",
              "21                 Acre            Rondônia  0.073813\n",
              "22                 Acre             Roraima  0.041846\n",
              "33              Alagoas      Espírito Santo  0.051300\n",
              "40              Alagoas             Paraíba  0.086810\n",
              "50              Alagoas             Sergipe  0.088064\n",
              "73                Amapá            Rondônia  0.092439\n",
              "74                Amapá             Roraima  0.071853\n",
              "173    Distrito Federal               Piauí  0.056981\n",
              "179    Distrito Federal      Santa Catarina  0.091651\n",
              "183      Espírito Santo             Alagoas  0.051300\n",
              "192      Espírito Santo         Mato Grosso  0.086741\n",
              "196      Espírito Santo             Paraíba  0.077806\n",
              "205      Espírito Santo      Santa Catarina  0.084178\n",
              "206      Espírito Santo             Sergipe  0.066418\n",
              "217               Goiás            Maranhão  0.092810\n",
              "221               Goiás              Paraná  0.062450\n",
              "242            Maranhão               Goiás  0.092810\n",
              "267         Mato Grosso      Espírito Santo  0.086741\n",
              "283         Mato Grosso      Santa Catarina  0.046992\n",
              "300  Mato Grosso do Sul             Paraíba  0.080491\n",
              "303  Mato Grosso do Sul               Piauí  0.092022\n",
              "307  Mato Grosso do Sul            Rondônia  0.078313\n",
              "310  Mato Grosso do Sul             Sergipe  0.075548\n",
              "346              Paraná               Goiás  0.062450\n",
              "365             Paraíba             Alagoas  0.086810\n",
              "371             Paraíba      Espírito Santo  0.077806\n",
              "375             Paraíba  Mato Grosso do Sul  0.080491\n",
              "388             Paraíba             Sergipe  0.054745\n",
              "448               Piauí    Distrito Federal  0.056981\n",
              "453               Piauí  Mato Grosso do Sul  0.092022\n",
              "465               Piauí      Santa Catarina  0.059457\n",
              "466               Piauí             Sergipe  0.089054\n",
              "546            Rondônia                Acre  0.073813\n",
              "548            Rondônia               Amapá  0.092439\n",
              "557            Rondônia  Mato Grosso do Sul  0.078313\n",
              "568            Rondônia             Roraima  0.075668\n",
              "572             Roraima                Acre  0.041846\n",
              "574             Roraima               Amapá  0.071853\n",
              "593             Roraima            Rondônia  0.075668\n",
              "604      Santa Catarina    Distrito Federal  0.091651\n",
              "605      Santa Catarina      Espírito Santo  0.084178\n",
              "608      Santa Catarina         Mato Grosso  0.046992\n",
              "615      Santa Catarina               Piauí  0.059457\n",
              "625             Sergipe             Alagoas  0.088064\n",
              "631             Sergipe      Espírito Santo  0.066418\n",
              "635             Sergipe  Mato Grosso do Sul  0.075548\n",
              "638             Sergipe             Paraíba  0.054745\n",
              "641             Sergipe               Piauí  0.089054"
            ]
          },
          "metadata": {
            "tags": []
          },
          "execution_count": 283
        }
      ]
    },
    {
      "cell_type": "markdown",
      "metadata": {
        "id": "vriiWiXDP4xu"
      },
      "source": [
        "- Como resultado da análise para os dados de vítimas, percebemos inicialmente que o estado do Acre é o que possui menor número de vítimas, portanto os estados pertencente ao mesmo grupo do Acre, serão grupos com baixo indice de vítimas. É possivel perceber isso atráves dos valores de vitimas do acre quando comparado com os outros estados.\n",
        "\n",
        "- Para o estado da Bahia, temos o maior número de vítimas como análisado no gráfico, portanto os estados que pertencem ao grupo da Bahia, serão os com maior número de vítimas.\n",
        "\n",
        "- Para os estados que não se encaixem em nenhum dos grupos anteriores, os mesmos serão classificados como estados de número médio de vítimas."
      ]
    },
    {
      "cell_type": "markdown",
      "metadata": {
        "id": "kFdsbvryP3lB"
      },
      "source": [
        "## Algoritmos de Clusterização para base de ocorrências(Cluster Hierárquico)"
      ]
    },
    {
      "cell_type": "code",
      "metadata": {
        "id": "KH5Bx8jyF4xO"
      },
      "source": [
        "# Imports necessários\n",
        "import scipy.cluster.hierarchy as shc\n",
        "import matplotlib.pyplot as plt\n",
        "from sklearn.cluster import AgglomerativeClustering"
      ],
      "execution_count": 284,
      "outputs": []
    },
    {
      "cell_type": "code",
      "metadata": {
        "id": "lBRRmvR1rdaH",
        "colab": {
          "base_uri": "https://localhost:8080/",
          "height": 468
        },
        "outputId": "4918b4bf-cda5-4e29-fa30-83d3b6c5de79"
      },
      "source": [
        "number_trasnformed_ocorrencias = dataset_transform_ocorrencias.loc[:, dataset_transform_ocorrencias.columns != 'UF']\n",
        "\n",
        "plt.figure(figsize=(10, 7))\n",
        "plt.title(\"Ocorrências Dendrograms\")\n",
        "dend = shc.dendrogram(shc.linkage(number_trasnformed_ocorrencias, method='ward'))\n",
        "\n",
        "plt.axhline(y=1.5, c='k', ls='--')"
      ],
      "execution_count": 285,
      "outputs": [
        {
          "output_type": "execute_result",
          "data": {
            "text/plain": [
              "<matplotlib.lines.Line2D at 0x7f73fee38e10>"
            ]
          },
          "metadata": {
            "tags": []
          },
          "execution_count": 285
        },
        {
          "output_type": "display_data",
          "data": {
            "image/png": "[encoded data removed]",
            "text/plain": [
              "<Figure size 720x504 with 1 Axes>"
            ]
          },
          "metadata": {
            "tags": [],
            "needs_background": "light"
          }
        }
      ]
    },
    {
      "cell_type": "markdown",
      "metadata": {
        "id": "lcyhy2RVOn5y"
      },
      "source": [
        "- Análisando o denograma obtido para os dados de ocorrência, percebemos que podemos realizar a divisão dos dados em três clusters, podendo classificar os estados em três: baixo numero de ocorrências, médio numero de ocorrências e alto número de ocorrências. Podemos perceber essa divisão ao traçar uma linha no eixo y na posição 1.5. Desta maneira conseguimos perceber de forma mais clara a divisão dos clusters, sendo que o ultimo somente foi dividido em um unico cluster, pois os dados do mesmos estão ligeiramente proximos."
      ]
    },
    {
      "cell_type": "code",
      "metadata": {
        "colab": {
          "base_uri": "https://localhost:8080/",
          "height": 827
        },
        "id": "1vj0iYF6FZ1c",
        "outputId": "5019542f-4857-4340-e9ed-985c65f3b7a4"
      },
      "source": [
        "# Realizando classificação aglomerativa\n",
        "\n",
        "agg_cluster = AgglomerativeClustering(affinity='euclidean', linkage='ward', n_clusters=3)\n",
        "agg_cluster.fit(number_trasnformed_ocorrencias)\n",
        "\n",
        "clusters_h = agg_cluster.labels_.tolist()\n",
        "clusters_dict_h = { 'Estados': list(dataset_transform_ocorrencias.UF), 'Index': dataset_transform_ocorrencias.index, 'cluster': clusters_h}\n",
        "dataframe_clusters_h = pd.DataFrame(clusters_dict_h, columns = ['cluster','Estados', 'Index'])\n",
        "\n",
        "dataframe_clusters_h"
      ],
      "execution_count": 286,
      "outputs": [
        {
          "output_type": "execute_result",
          "data": {
            "text/html": [
              "<div>\n",
              "<style scoped>\n",
              "    .dataframe tbody tr th:only-of-type {\n",
              "        vertical-align: middle;\n",
              "    }\n",
              "\n",
              "    .dataframe tbody tr th {\n",
              "        vertical-align: top;\n",
              "    }\n",
              "\n",
              "    .dataframe thead th {\n",
              "        text-align: right;\n",
              "    }\n",
              "</style>\n",
              "<table border=\"1\" class=\"dataframe\">\n",
              "  <thead>\n",
              "    <tr style=\"text-align: right;\">\n",
              "      <th></th>\n",
              "      <th>cluster</th>\n",
              "      <th>Estados</th>\n",
              "      <th>Index</th>\n",
              "    </tr>\n",
              "  </thead>\n",
              "  <tbody>\n",
              "    <tr>\n",
              "      <th>0</th>\n",
              "      <td>0</td>\n",
              "      <td>Acre</td>\n",
              "      <td>0</td>\n",
              "    </tr>\n",
              "    <tr>\n",
              "      <th>1</th>\n",
              "      <td>0</td>\n",
              "      <td>Alagoas</td>\n",
              "      <td>1</td>\n",
              "    </tr>\n",
              "    <tr>\n",
              "      <th>2</th>\n",
              "      <td>0</td>\n",
              "      <td>Amapá</td>\n",
              "      <td>2</td>\n",
              "    </tr>\n",
              "    <tr>\n",
              "      <th>3</th>\n",
              "      <td>0</td>\n",
              "      <td>Amazonas</td>\n",
              "      <td>3</td>\n",
              "    </tr>\n",
              "    <tr>\n",
              "      <th>4</th>\n",
              "      <td>2</td>\n",
              "      <td>Bahia</td>\n",
              "      <td>4</td>\n",
              "    </tr>\n",
              "    <tr>\n",
              "      <th>5</th>\n",
              "      <td>0</td>\n",
              "      <td>Ceará</td>\n",
              "      <td>5</td>\n",
              "    </tr>\n",
              "    <tr>\n",
              "      <th>6</th>\n",
              "      <td>0</td>\n",
              "      <td>Distrito Federal</td>\n",
              "      <td>6</td>\n",
              "    </tr>\n",
              "    <tr>\n",
              "      <th>7</th>\n",
              "      <td>0</td>\n",
              "      <td>Espírito Santo</td>\n",
              "      <td>7</td>\n",
              "    </tr>\n",
              "    <tr>\n",
              "      <th>8</th>\n",
              "      <td>0</td>\n",
              "      <td>Goiás</td>\n",
              "      <td>8</td>\n",
              "    </tr>\n",
              "    <tr>\n",
              "      <th>9</th>\n",
              "      <td>0</td>\n",
              "      <td>Maranhão</td>\n",
              "      <td>9</td>\n",
              "    </tr>\n",
              "    <tr>\n",
              "      <th>10</th>\n",
              "      <td>0</td>\n",
              "      <td>Mato Grosso</td>\n",
              "      <td>10</td>\n",
              "    </tr>\n",
              "    <tr>\n",
              "      <th>11</th>\n",
              "      <td>0</td>\n",
              "      <td>Mato Grosso do Sul</td>\n",
              "      <td>11</td>\n",
              "    </tr>\n",
              "    <tr>\n",
              "      <th>12</th>\n",
              "      <td>2</td>\n",
              "      <td>Minas Gerais</td>\n",
              "      <td>12</td>\n",
              "    </tr>\n",
              "    <tr>\n",
              "      <th>13</th>\n",
              "      <td>0</td>\n",
              "      <td>Paraná</td>\n",
              "      <td>13</td>\n",
              "    </tr>\n",
              "    <tr>\n",
              "      <th>14</th>\n",
              "      <td>0</td>\n",
              "      <td>Paraíba</td>\n",
              "      <td>14</td>\n",
              "    </tr>\n",
              "    <tr>\n",
              "      <th>15</th>\n",
              "      <td>0</td>\n",
              "      <td>Pará</td>\n",
              "      <td>15</td>\n",
              "    </tr>\n",
              "    <tr>\n",
              "      <th>16</th>\n",
              "      <td>2</td>\n",
              "      <td>Pernambuco</td>\n",
              "      <td>16</td>\n",
              "    </tr>\n",
              "    <tr>\n",
              "      <th>17</th>\n",
              "      <td>0</td>\n",
              "      <td>Piauí</td>\n",
              "      <td>17</td>\n",
              "    </tr>\n",
              "    <tr>\n",
              "      <th>18</th>\n",
              "      <td>0</td>\n",
              "      <td>Rio Grande do Norte</td>\n",
              "      <td>18</td>\n",
              "    </tr>\n",
              "    <tr>\n",
              "      <th>19</th>\n",
              "      <td>2</td>\n",
              "      <td>Rio Grande do Sul</td>\n",
              "      <td>19</td>\n",
              "    </tr>\n",
              "    <tr>\n",
              "      <th>20</th>\n",
              "      <td>1</td>\n",
              "      <td>Rio de Janeiro</td>\n",
              "      <td>20</td>\n",
              "    </tr>\n",
              "    <tr>\n",
              "      <th>21</th>\n",
              "      <td>0</td>\n",
              "      <td>Rondônia</td>\n",
              "      <td>21</td>\n",
              "    </tr>\n",
              "    <tr>\n",
              "      <th>22</th>\n",
              "      <td>0</td>\n",
              "      <td>Roraima</td>\n",
              "      <td>22</td>\n",
              "    </tr>\n",
              "    <tr>\n",
              "      <th>23</th>\n",
              "      <td>0</td>\n",
              "      <td>Santa Catarina</td>\n",
              "      <td>23</td>\n",
              "    </tr>\n",
              "    <tr>\n",
              "      <th>24</th>\n",
              "      <td>0</td>\n",
              "      <td>Sergipe</td>\n",
              "      <td>24</td>\n",
              "    </tr>\n",
              "    <tr>\n",
              "      <th>25</th>\n",
              "      <td>1</td>\n",
              "      <td>São Paulo</td>\n",
              "      <td>25</td>\n",
              "    </tr>\n",
              "  </tbody>\n",
              "</table>\n",
              "</div>"
            ],
            "text/plain": [
              "    cluster              Estados  Index\n",
              "0         0                 Acre      0\n",
              "1         0              Alagoas      1\n",
              "2         0                Amapá      2\n",
              "3         0             Amazonas      3\n",
              "4         2                Bahia      4\n",
              "5         0                Ceará      5\n",
              "6         0     Distrito Federal      6\n",
              "7         0       Espírito Santo      7\n",
              "8         0                Goiás      8\n",
              "9         0             Maranhão      9\n",
              "10        0          Mato Grosso     10\n",
              "11        0   Mato Grosso do Sul     11\n",
              "12        2         Minas Gerais     12\n",
              "13        0               Paraná     13\n",
              "14        0              Paraíba     14\n",
              "15        0                 Pará     15\n",
              "16        2           Pernambuco     16\n",
              "17        0                Piauí     17\n",
              "18        0  Rio Grande do Norte     18\n",
              "19        2    Rio Grande do Sul     19\n",
              "20        1       Rio de Janeiro     20\n",
              "21        0             Rondônia     21\n",
              "22        0              Roraima     22\n",
              "23        0       Santa Catarina     23\n",
              "24        0              Sergipe     24\n",
              "25        1            São Paulo     25"
            ]
          },
          "metadata": {
            "tags": []
          },
          "execution_count": 286
        }
      ]
    },
    {
      "cell_type": "markdown",
      "metadata": {
        "id": "zlGKGmKhOlnc"
      },
      "source": [
        "- Analisando o resultado obtido pelo algoritimo de classificação aglomerativa, temos como resultado os seguintes grupos:\n",
        "\n",
        "1. O grupo zero contém o estado Acre, que como analisado anteriormente, é o estado com menor número de ocorrências, portanto este grupo será o grupo com os estados de menor número de ocorrências.\n",
        "\n",
        "2. O grupo um contém o estado São Paulo,  que como analisado anteriormente, é o estado com maior número de ocorrências, portanto este grupo será o grupo com os estados de maior número de ocorrências.\n",
        "\n",
        "3. O grupo restante é o dois, portanto como analisado anteriormente, todos os estados classificados nesse grupo serão estados com médio numero de ocorrências."
      ]
    },
    {
      "cell_type": "code",
      "metadata": {
        "id": "YvADYHjyTSHD"
      },
      "source": [
        "# Convertendo para excel\n",
        "\n",
        "dataframe_clusters_h.to_excel(\"cluster_ocorrencias.xlsx\")  "
      ],
      "execution_count": 287,
      "outputs": []
    },
    {
      "cell_type": "markdown",
      "metadata": {
        "id": "5Nq_w618G1zS"
      },
      "source": [
        "## Algoritmos de Clusterização para base de vítimas(Cluster Hierárquico)"
      ]
    },
    {
      "cell_type": "markdown",
      "metadata": {
        "id": "4yTRKEVbHrij"
      },
      "source": [
        "- Análisando o denograma obtido para os dados de vítimas, percebemos que podemos realizar a divisão dos dados em três clusters, podendo classificar os estados em três: baixo numero de vítimas, médio numero de vítimas e alto número de vítimas. Podemos perceber essa divisão ao traçar uma linha no eixo y na posição 1.2. Desta maneira conseguimos perceber de forma mais clara a divisão dos clusters, sendo que para este caso, percebemos uma maior quantidade de valores classificados como médio e alto, apresentando assim possivelmente um resultado com uma maior quantidade de estados com média e alta quantidade de vítimas."
      ]
    },
    {
      "cell_type": "code",
      "metadata": {
        "colab": {
          "base_uri": "https://localhost:8080/",
          "height": 468
        },
        "id": "agP3ROKNG3_G",
        "outputId": "42415aae-04a7-4b86-f42c-a2ed5bdd7ab0"
      },
      "source": [
        "number_trasnformed_vitimas = dataset_transform_vitimas.loc[:, dataset_transform_vitimas.columns != 'UF']\n",
        "\n",
        "plt.figure(figsize=(10, 7))\n",
        "plt.title(\"Vítimas Dendrograms\")\n",
        "dend = shc.dendrogram(shc.linkage(number_trasnformed_vitimas, method='ward'))\n",
        "\n",
        "plt.axhline(y=1.2, c='k', ls='--')"
      ],
      "execution_count": 288,
      "outputs": [
        {
          "output_type": "execute_result",
          "data": {
            "text/plain": [
              "<matplotlib.lines.Line2D at 0x7f741118b7d0>"
            ]
          },
          "metadata": {
            "tags": []
          },
          "execution_count": 288
        },
        {
          "output_type": "display_data",
          "data": {
            "image/png": "[encoded data removed]",
            "text/plain": [
              "<Figure size 720x504 with 1 Axes>"
            ]
          },
          "metadata": {
            "tags": [],
            "needs_background": "light"
          }
        }
      ]
    },
    {
      "cell_type": "code",
      "metadata": {
        "colab": {
          "base_uri": "https://localhost:8080/",
          "height": 827
        },
        "id": "NB04oQKpG9YI",
        "outputId": "f96ba5f4-a3f4-498b-d289-b768060427f7"
      },
      "source": [
        "# Realizando classificação aglomerativa\n",
        "\n",
        "agg_cluster = AgglomerativeClustering(affinity='euclidean', linkage='ward', n_clusters=3)\n",
        "agg_cluster.fit(number_trasnformed_vitimas)\n",
        "\n",
        "clusters_h = agg_cluster.labels_.tolist()\n",
        "clusters_dict_h = { 'Estados': list(dataset_transform_vitimas.UF), 'Index': dataset_transform_vitimas.index, 'cluster': clusters_h}\n",
        "dataframe_clusters_h = pd.DataFrame(clusters_dict_h, columns = ['cluster','Estados', 'Index'])\n",
        "\n",
        "dataframe_clusters_h"
      ],
      "execution_count": 289,
      "outputs": [
        {
          "output_type": "execute_result",
          "data": {
            "text/html": [
              "<div>\n",
              "<style scoped>\n",
              "    .dataframe tbody tr th:only-of-type {\n",
              "        vertical-align: middle;\n",
              "    }\n",
              "\n",
              "    .dataframe tbody tr th {\n",
              "        vertical-align: top;\n",
              "    }\n",
              "\n",
              "    .dataframe thead th {\n",
              "        text-align: right;\n",
              "    }\n",
              "</style>\n",
              "<table border=\"1\" class=\"dataframe\">\n",
              "  <thead>\n",
              "    <tr style=\"text-align: right;\">\n",
              "      <th></th>\n",
              "      <th>cluster</th>\n",
              "      <th>Estados</th>\n",
              "      <th>Index</th>\n",
              "    </tr>\n",
              "  </thead>\n",
              "  <tbody>\n",
              "    <tr>\n",
              "      <th>0</th>\n",
              "      <td>1</td>\n",
              "      <td>Acre</td>\n",
              "      <td>0</td>\n",
              "    </tr>\n",
              "    <tr>\n",
              "      <th>1</th>\n",
              "      <td>1</td>\n",
              "      <td>Alagoas</td>\n",
              "      <td>1</td>\n",
              "    </tr>\n",
              "    <tr>\n",
              "      <th>2</th>\n",
              "      <td>1</td>\n",
              "      <td>Amapá</td>\n",
              "      <td>2</td>\n",
              "    </tr>\n",
              "    <tr>\n",
              "      <th>3</th>\n",
              "      <td>1</td>\n",
              "      <td>Amazonas</td>\n",
              "      <td>3</td>\n",
              "    </tr>\n",
              "    <tr>\n",
              "      <th>4</th>\n",
              "      <td>2</td>\n",
              "      <td>Bahia</td>\n",
              "      <td>4</td>\n",
              "    </tr>\n",
              "    <tr>\n",
              "      <th>5</th>\n",
              "      <td>0</td>\n",
              "      <td>Ceará</td>\n",
              "      <td>5</td>\n",
              "    </tr>\n",
              "    <tr>\n",
              "      <th>6</th>\n",
              "      <td>1</td>\n",
              "      <td>Distrito Federal</td>\n",
              "      <td>6</td>\n",
              "    </tr>\n",
              "    <tr>\n",
              "      <th>7</th>\n",
              "      <td>1</td>\n",
              "      <td>Espírito Santo</td>\n",
              "      <td>7</td>\n",
              "    </tr>\n",
              "    <tr>\n",
              "      <th>8</th>\n",
              "      <td>0</td>\n",
              "      <td>Goiás</td>\n",
              "      <td>8</td>\n",
              "    </tr>\n",
              "    <tr>\n",
              "      <th>9</th>\n",
              "      <td>0</td>\n",
              "      <td>Maranhão</td>\n",
              "      <td>9</td>\n",
              "    </tr>\n",
              "    <tr>\n",
              "      <th>10</th>\n",
              "      <td>1</td>\n",
              "      <td>Mato Grosso</td>\n",
              "      <td>10</td>\n",
              "    </tr>\n",
              "    <tr>\n",
              "      <th>11</th>\n",
              "      <td>1</td>\n",
              "      <td>Mato Grosso do Sul</td>\n",
              "      <td>11</td>\n",
              "    </tr>\n",
              "    <tr>\n",
              "      <th>12</th>\n",
              "      <td>0</td>\n",
              "      <td>Minas Gerais</td>\n",
              "      <td>12</td>\n",
              "    </tr>\n",
              "    <tr>\n",
              "      <th>13</th>\n",
              "      <td>0</td>\n",
              "      <td>Paraná</td>\n",
              "      <td>13</td>\n",
              "    </tr>\n",
              "    <tr>\n",
              "      <th>14</th>\n",
              "      <td>1</td>\n",
              "      <td>Paraíba</td>\n",
              "      <td>14</td>\n",
              "    </tr>\n",
              "    <tr>\n",
              "      <th>15</th>\n",
              "      <td>2</td>\n",
              "      <td>Pará</td>\n",
              "      <td>15</td>\n",
              "    </tr>\n",
              "    <tr>\n",
              "      <th>16</th>\n",
              "      <td>2</td>\n",
              "      <td>Pernambuco</td>\n",
              "      <td>16</td>\n",
              "    </tr>\n",
              "    <tr>\n",
              "      <th>17</th>\n",
              "      <td>1</td>\n",
              "      <td>Piauí</td>\n",
              "      <td>17</td>\n",
              "    </tr>\n",
              "    <tr>\n",
              "      <th>18</th>\n",
              "      <td>0</td>\n",
              "      <td>Rio Grande do Norte</td>\n",
              "      <td>18</td>\n",
              "    </tr>\n",
              "    <tr>\n",
              "      <th>19</th>\n",
              "      <td>2</td>\n",
              "      <td>Rio Grande do Sul</td>\n",
              "      <td>19</td>\n",
              "    </tr>\n",
              "    <tr>\n",
              "      <th>20</th>\n",
              "      <td>2</td>\n",
              "      <td>Rio de Janeiro</td>\n",
              "      <td>20</td>\n",
              "    </tr>\n",
              "    <tr>\n",
              "      <th>21</th>\n",
              "      <td>1</td>\n",
              "      <td>Rondônia</td>\n",
              "      <td>21</td>\n",
              "    </tr>\n",
              "    <tr>\n",
              "      <th>22</th>\n",
              "      <td>1</td>\n",
              "      <td>Roraima</td>\n",
              "      <td>22</td>\n",
              "    </tr>\n",
              "    <tr>\n",
              "      <th>23</th>\n",
              "      <td>1</td>\n",
              "      <td>Santa Catarina</td>\n",
              "      <td>23</td>\n",
              "    </tr>\n",
              "    <tr>\n",
              "      <th>24</th>\n",
              "      <td>1</td>\n",
              "      <td>Sergipe</td>\n",
              "      <td>24</td>\n",
              "    </tr>\n",
              "    <tr>\n",
              "      <th>25</th>\n",
              "      <td>2</td>\n",
              "      <td>São Paulo</td>\n",
              "      <td>25</td>\n",
              "    </tr>\n",
              "  </tbody>\n",
              "</table>\n",
              "</div>"
            ],
            "text/plain": [
              "    cluster              Estados  Index\n",
              "0         1                 Acre      0\n",
              "1         1              Alagoas      1\n",
              "2         1                Amapá      2\n",
              "3         1             Amazonas      3\n",
              "4         2                Bahia      4\n",
              "5         0                Ceará      5\n",
              "6         1     Distrito Federal      6\n",
              "7         1       Espírito Santo      7\n",
              "8         0                Goiás      8\n",
              "9         0             Maranhão      9\n",
              "10        1          Mato Grosso     10\n",
              "11        1   Mato Grosso do Sul     11\n",
              "12        0         Minas Gerais     12\n",
              "13        0               Paraná     13\n",
              "14        1              Paraíba     14\n",
              "15        2                 Pará     15\n",
              "16        2           Pernambuco     16\n",
              "17        1                Piauí     17\n",
              "18        0  Rio Grande do Norte     18\n",
              "19        2    Rio Grande do Sul     19\n",
              "20        2       Rio de Janeiro     20\n",
              "21        1             Rondônia     21\n",
              "22        1              Roraima     22\n",
              "23        1       Santa Catarina     23\n",
              "24        1              Sergipe     24\n",
              "25        2            São Paulo     25"
            ]
          },
          "metadata": {
            "tags": []
          },
          "execution_count": 289
        }
      ]
    },
    {
      "cell_type": "markdown",
      "metadata": {
        "id": "9ehfGZAcSQFF"
      },
      "source": [
        "- Analisando o resultado obtido pelo algoritimo de classificação aglomerativa, temos como resultado os seguintes grupos:\n",
        "\n",
        "1. O grupo um contém o estado Acre, que como analisado anteriormente, é o estado com menor número de vítimas, portanto este grupo será o grupo com os estados de menor número de vítimas.\n",
        "\n",
        "2. O grupo dois contém o estado da Bahia, que como analisado anteriormente, é o estado com maior número de vítimas, portanto este grupo será o grupo com os estados de maior número de vítimas.\n",
        "\n",
        "3. O grupo restante é o zero, portanto como analisado anteriormente, todos os estados classificados nesse grupo serão estados com médio numero de vítimas."
      ]
    },
    {
      "cell_type": "code",
      "metadata": {
        "id": "wcrq0wmuTwOS"
      },
      "source": [
        "# Convertendo para excel\n",
        "\n",
        "dataframe_clusters_h.to_excel(\"cluster_vitimas.xlsx\")  "
      ],
      "execution_count": 290,
      "outputs": []
    }
  ]
}