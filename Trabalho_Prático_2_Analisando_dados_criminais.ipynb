{
  "nbformat": 4,
  "nbformat_minor": 0,
  "metadata": {
    "colab": {
      "name": "Trabalho Prático 2 - Analisando dados criminais.ipynb",
      "provenance": [],
      "collapsed_sections": [],
      "toc_visible": true,
      "authorship_tag": "ABX9TyM5VCeBnguYpiSGXNvma14J",
      "include_colab_link": true
    },
    "kernelspec": {
      "name": "python3",
      "display_name": "Python 3"
    },
    "language_info": {
      "name": "python"
    }
  },
  "cells": [
    {
      "cell_type": "markdown",
      "metadata": {
        "id": "view-in-github",
        "colab_type": "text"
      },
      "source": [
        "<a href=\"https://colab.research.google.com/github/matheusnalmeida/Analise-de-dados-criminais-Sinesp/blob/main/Trabalho_Pr%C3%A1tico_2_Analisando_dados_criminais.ipynb\" target=\"_parent\"><img src=\"https://colab.research.google.com/assets/colab-badge.svg\" alt=\"Open In Colab\"/></a>"
      ]
    },
    {
      "cell_type": "markdown",
      "metadata": {
        "id": "YU1eKJfXutnH"
      },
      "source": [
        "# Trabalho Prático 2 - Analisando dados criminais\n"
      ]
    },
    {
      "cell_type": "markdown",
      "metadata": {
        "id": "-wJPvVq2y07O"
      },
      "source": [
        "### Análise dos dados"
      ]
    },
    {
      "cell_type": "markdown",
      "metadata": {
        "id": "6OQ0QYgPzvfn"
      },
      "source": [
        "- Os dados escolhidos para análise, foram extraídos das soluções SinespJC e Sinesp e possuem dados agrupados por mês de cada ano, \n",
        "que apresentam a quantidade de vítimas e ocorrências para cada tipo de crime em cada estado. \n",
        "<br><br>\n",
        "- As colunas que temos para a base de dados de ocorrência são:\n",
        "1. UF: Estado das ocorrências dos crimes registrados.\n",
        "\n",
        "2. Tipo do crime: Descrição do respectivo tipo do crime associado.\n",
        "\n",
        "3. Ano: Ano em que foi registrada a respectiva ocorrência.\n",
        "\n",
        "4. Mês: Mês em que foi registrada a ocorrência.\n",
        "\n",
        "5. Ocorrência: Quantidade de ocorrências relacionadas com o mês e ano, para a respectiva UF.\n",
        "<br><br>\n",
        "\n",
        "- As colunas que temos para a base de dados de vítimas são:\n",
        "1. UF: Estado das vítimas dos crimes registrados.\n",
        "\n",
        "2. Tipo do crime: Descrição do respectivo tipo do crime associado.\n",
        "\n",
        "3. Ano: Ano em que foi registrada as respectivas vítimas.\n",
        "\n",
        "4. Mês: Mês em que foram registradas as respectivas vítimas.\n",
        "\n",
        "5. Vítimas: Quantidade de vítimas relacionadas com o mês e ano, para a respectiva UF.\n",
        "\n"
      ]
    },
    {
      "cell_type": "markdown",
      "metadata": {
        "id": "XXAz4LVD4Hkm"
      },
      "source": [
        "Em relação a classificação dos dados em qualitativos e quantitativos, temos as seguintes classificações para cada base:\n",
        "\n",
        "#### <center> Ocorrências\n",
        "\n",
        "| Variável    |   Tipo   |      Escala  | \n",
        "|:--------------|:------------------:|:---------------:|\n",
        "| UF | Qualitativo | Nominal |\n",
        "| Tipo Crime | Qualitativo | Nominal |\n",
        "| Ano | Quantitativo | Ordinal |\n",
        "| Mês | Qualitativo | Ordinal |\n",
        "| Ocorrências | Quantitativo Discreto | Racional |\n",
        "\n",
        "#### <center> Vítimas\n",
        "\n",
        "| Variável    |   Tipo   |      Escala  | \n",
        "|:--------------|:------------------:|:---------------:|\n",
        "| UF | Qualitativo | Nominal |\n",
        "| Tipo Crime | Qualitativo | Nominal |\n",
        "| Ano | Quantitativo | Ordinal |\n",
        "| Mês | Qualitativo | Ordinal |\n",
        "| Vítimas | Quantitativo Discreto | Racional |"
      ]
    },
    {
      "cell_type": "code",
      "metadata": {
        "id": "dNY1Uw4w1ZGh"
      },
      "source": [
        ""
      ],
      "execution_count": null,
      "outputs": []
    }
  ]
}