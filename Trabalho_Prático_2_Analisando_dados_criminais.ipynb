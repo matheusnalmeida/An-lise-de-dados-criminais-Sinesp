{
  "nbformat": 4,
  "nbformat_minor": 0,
  "metadata": {
    "colab": {
      "name": "Trabalho Prático 2 - Analisando dados criminais.ipynb",
      "provenance": [],
      "collapsed_sections": [
        "XXAz4LVD4Hkm"
      ],
      "toc_visible": true,
      "authorship_tag": "ABX9TyOoI0VniVgD+Q/vzsESxYe+",
      "include_colab_link": true
    },
    "kernelspec": {
      "name": "python3",
      "display_name": "Python 3"
    },
    "language_info": {
      "name": "python"
    }
  },
  "cells": [
    {
      "cell_type": "markdown",
      "metadata": {
        "id": "view-in-github",
        "colab_type": "text"
      },
      "source": [
        "<a href=\"https://colab.research.google.com/github/matheusnalmeida/Analise-de-dados-criminais-Sinesp/blob/main/Trabalho_Pr%C3%A1tico_2_Analisando_dados_criminais.ipynb\" target=\"_parent\"><img src=\"https://colab.research.google.com/assets/colab-badge.svg\" alt=\"Open In Colab\"/></a>"
      ]
    },
    {
      "cell_type": "markdown",
      "metadata": {
        "id": "YU1eKJfXutnH"
      },
      "source": [
        "# Trabalho Prático 2 - Analisando dados criminais\n"
      ]
    },
    {
      "cell_type": "markdown",
      "metadata": {
        "id": "-wJPvVq2y07O"
      },
      "source": [
        "## Análise dos dados(Teórica)"
      ]
    },
    {
      "cell_type": "markdown",
      "metadata": {
        "id": "6OQ0QYgPzvfn"
      },
      "source": [
        "- Os dados escolhidos para análise, foram extraídos das soluções SinespJC e Sinesp e possuem dados agrupados por mês de cada ano, \n",
        "que apresentam a quantidade de vítimas e ocorrências para cada tipo de crime em cada estado. \n",
        "<br><br>\n",
        "- As colunas que temos para a base de dados de ocorrência são:\n",
        "1. UF: Estado das ocorrências dos crimes registrados.\n",
        "\n",
        "2. Tipo do crime: Descrição do respectivo tipo do crime associado.\n",
        "\n",
        "3. Ano: Ano em que foi registrada a respectiva ocorrência.\n",
        "\n",
        "4. Mês: Mês em que foi registrada a ocorrência.\n",
        "\n",
        "5. Ocorrência: Quantidade de ocorrências relacionadas com o mês e ano, para a respectiva UF.\n",
        "<br><br>\n",
        "\n",
        "- As colunas que temos para a base de dados de vítimas são:\n",
        "1. UF: Estado das vítimas dos crimes registrados.\n",
        "\n",
        "2. Tipo do crime: Descrição do respectivo tipo do crime associado.\n",
        "\n",
        "3. Ano: Ano em que foi registrada as respectivas vítimas.\n",
        "\n",
        "4. Mês: Mês em que foram registradas as respectivas vítimas.\n",
        "\n",
        "5. Vítimas: Quantidade de vítimas relacionadas com o mês e ano, para a respectiva UF.\n",
        "\n"
      ]
    },
    {
      "cell_type": "markdown",
      "metadata": {
        "id": "XXAz4LVD4Hkm"
      },
      "source": [
        "Em relação a classificação dos dados em qualitativos e quantitativos, temos as seguintes classificações para cada base:\n",
        "\n",
        "#### <center> Ocorrências\n",
        "\n",
        "| Variável    |   Tipo   |      Escala  | \n",
        "|:--------------|:------------------:|:---------------:|\n",
        "| UF | Qualitativo | Nominal |\n",
        "| Tipo Crime | Qualitativo | Nominal |\n",
        "| Ano | Quantitativo | Ordinal |\n",
        "| Mês | Qualitativo | Ordinal |\n",
        "| Ocorrências | Quantitativo Discreto | Racional |\n",
        "\n",
        "#### <center> Vítimas\n",
        "\n",
        "| Variável    |   Tipo   |      Escala  | \n",
        "|:--------------|:------------------:|:---------------:|\n",
        "| UF | Qualitativo | Nominal |\n",
        "| Tipo Crime | Qualitativo | Nominal |\n",
        "| Ano | Quantitativo | Ordinal |\n",
        "| Mês | Qualitativo | Ordinal |\n",
        "| Vítimas | Quantitativo Discreto | Racional |"
      ]
    },
    {
      "cell_type": "markdown",
      "metadata": {
        "id": "WixlMH747tgG"
      },
      "source": [
        "## Análise dos dados(Prática)"
      ]
    },
    {
      "cell_type": "code",
      "metadata": {
        "id": "w3KijdwQ8_IC"
      },
      "source": [
        "# Imports\n",
        "import pandas as pd\n",
        "import numpy as np \n",
        "import seaborn as sns\n",
        "import matplotlib.pyplot as plt\n",
        "from matplotlib.cbook import boxplot_stats\n",
        "from sklearn import preprocessing\n"
      ],
      "execution_count": 5,
      "outputs": []
    },
    {
      "cell_type": "code",
      "metadata": {
        "id": "dNY1Uw4w1ZGh"
      },
      "source": [
        "xls = pd.ExcelFile('indicadoressegurancapublicauf.xlsx')\n",
        "dados_ocorrencias = pd.read_excel(xls, 'Ocorrências')\n",
        "dados_vitimas  = pd.read_excel(xls, 'Vítimas')"
      ],
      "execution_count": 6,
      "outputs": []
    },
    {
      "cell_type": "code",
      "metadata": {
        "colab": {
          "base_uri": "https://localhost:8080/",
          "height": 197
        },
        "id": "oHozVXkc9gSm",
        "outputId": "a9630b51-0ff7-4166-efc3-d3c6538e32b0"
      },
      "source": [
        "dados_ocorrencias.head()"
      ],
      "execution_count": 7,
      "outputs": [
        {
          "output_type": "execute_result",
          "data": {
            "text/html": [
              "<div>\n",
              "<style scoped>\n",
              "    .dataframe tbody tr th:only-of-type {\n",
              "        vertical-align: middle;\n",
              "    }\n",
              "\n",
              "    .dataframe tbody tr th {\n",
              "        vertical-align: top;\n",
              "    }\n",
              "\n",
              "    .dataframe thead th {\n",
              "        text-align: right;\n",
              "    }\n",
              "</style>\n",
              "<table border=\"1\" class=\"dataframe\">\n",
              "  <thead>\n",
              "    <tr style=\"text-align: right;\">\n",
              "      <th></th>\n",
              "      <th>UF</th>\n",
              "      <th>Tipo Crime</th>\n",
              "      <th>Ano</th>\n",
              "      <th>Mês</th>\n",
              "      <th>Ocorrências</th>\n",
              "    </tr>\n",
              "  </thead>\n",
              "  <tbody>\n",
              "    <tr>\n",
              "      <th>0</th>\n",
              "      <td>Acre</td>\n",
              "      <td>Estupro</td>\n",
              "      <td>2015</td>\n",
              "      <td>janeiro</td>\n",
              "      <td>6</td>\n",
              "    </tr>\n",
              "    <tr>\n",
              "      <th>1</th>\n",
              "      <td>Acre</td>\n",
              "      <td>Furto de veículo</td>\n",
              "      <td>2015</td>\n",
              "      <td>janeiro</td>\n",
              "      <td>0</td>\n",
              "    </tr>\n",
              "    <tr>\n",
              "      <th>2</th>\n",
              "      <td>Acre</td>\n",
              "      <td>Homicídio doloso</td>\n",
              "      <td>2015</td>\n",
              "      <td>janeiro</td>\n",
              "      <td>13</td>\n",
              "    </tr>\n",
              "    <tr>\n",
              "      <th>3</th>\n",
              "      <td>Acre</td>\n",
              "      <td>Lesão corporal seguida de morte</td>\n",
              "      <td>2015</td>\n",
              "      <td>janeiro</td>\n",
              "      <td>0</td>\n",
              "    </tr>\n",
              "    <tr>\n",
              "      <th>4</th>\n",
              "      <td>Acre</td>\n",
              "      <td>Roubo a instituição financeira</td>\n",
              "      <td>2015</td>\n",
              "      <td>janeiro</td>\n",
              "      <td>0</td>\n",
              "    </tr>\n",
              "  </tbody>\n",
              "</table>\n",
              "</div>"
            ],
            "text/plain": [
              "     UF                       Tipo Crime   Ano      Mês  Ocorrências\n",
              "0  Acre                          Estupro  2015  janeiro            6\n",
              "1  Acre                 Furto de veículo  2015  janeiro            0\n",
              "2  Acre                 Homicídio doloso  2015  janeiro           13\n",
              "3  Acre  Lesão corporal seguida de morte  2015  janeiro            0\n",
              "4  Acre   Roubo a instituição financeira  2015  janeiro            0"
            ]
          },
          "metadata": {
            "tags": []
          },
          "execution_count": 7
        }
      ]
    },
    {
      "cell_type": "code",
      "metadata": {
        "colab": {
          "base_uri": "https://localhost:8080/",
          "height": 197
        },
        "id": "GkTY4kr09iw4",
        "outputId": "4695ef34-9038-4f8f-9dcf-e5c93576a523"
      },
      "source": [
        "dados_vitimas.head()"
      ],
      "execution_count": 8,
      "outputs": [
        {
          "output_type": "execute_result",
          "data": {
            "text/html": [
              "<div>\n",
              "<style scoped>\n",
              "    .dataframe tbody tr th:only-of-type {\n",
              "        vertical-align: middle;\n",
              "    }\n",
              "\n",
              "    .dataframe tbody tr th {\n",
              "        vertical-align: top;\n",
              "    }\n",
              "\n",
              "    .dataframe thead th {\n",
              "        text-align: right;\n",
              "    }\n",
              "</style>\n",
              "<table border=\"1\" class=\"dataframe\">\n",
              "  <thead>\n",
              "    <tr style=\"text-align: right;\">\n",
              "      <th></th>\n",
              "      <th>UF</th>\n",
              "      <th>Tipo Crime</th>\n",
              "      <th>Ano</th>\n",
              "      <th>Mês</th>\n",
              "      <th>Vítimas</th>\n",
              "    </tr>\n",
              "  </thead>\n",
              "  <tbody>\n",
              "    <tr>\n",
              "      <th>0</th>\n",
              "      <td>Acre</td>\n",
              "      <td>Homicídio doloso</td>\n",
              "      <td>2015</td>\n",
              "      <td>janeiro</td>\n",
              "      <td>13</td>\n",
              "    </tr>\n",
              "    <tr>\n",
              "      <th>1</th>\n",
              "      <td>Acre</td>\n",
              "      <td>Homicídio doloso</td>\n",
              "      <td>2015</td>\n",
              "      <td>fevereiro</td>\n",
              "      <td>10</td>\n",
              "    </tr>\n",
              "    <tr>\n",
              "      <th>2</th>\n",
              "      <td>Acre</td>\n",
              "      <td>Homicídio doloso</td>\n",
              "      <td>2015</td>\n",
              "      <td>março</td>\n",
              "      <td>16</td>\n",
              "    </tr>\n",
              "    <tr>\n",
              "      <th>3</th>\n",
              "      <td>Acre</td>\n",
              "      <td>Homicídio doloso</td>\n",
              "      <td>2015</td>\n",
              "      <td>abril</td>\n",
              "      <td>22</td>\n",
              "    </tr>\n",
              "    <tr>\n",
              "      <th>4</th>\n",
              "      <td>Acre</td>\n",
              "      <td>Homicídio doloso</td>\n",
              "      <td>2015</td>\n",
              "      <td>maio</td>\n",
              "      <td>15</td>\n",
              "    </tr>\n",
              "  </tbody>\n",
              "</table>\n",
              "</div>"
            ],
            "text/plain": [
              "     UF        Tipo Crime   Ano        Mês  Vítimas\n",
              "0  Acre  Homicídio doloso  2015    janeiro       13\n",
              "1  Acre  Homicídio doloso  2015  fevereiro       10\n",
              "2  Acre  Homicídio doloso  2015      março       16\n",
              "3  Acre  Homicídio doloso  2015      abril       22\n",
              "4  Acre  Homicídio doloso  2015       maio       15"
            ]
          },
          "metadata": {
            "tags": []
          },
          "execution_count": 8
        }
      ]
    },
    {
      "cell_type": "markdown",
      "metadata": {
        "id": "cUXfzjGvAAQ2"
      },
      "source": [
        "### Abaixo seguem algumas representações e análise dos dados para a base de ocorrência:"
      ]
    },
    {
      "cell_type": "markdown",
      "metadata": {
        "id": "_PeDFCbmAaxk"
      },
      "source": [
        "#### Análise da quantidade de ocorrências por ano\n",
        "\n",
        "- Nesta análise da quantidade de ocorrências por ano, podemos ter uma idéias da distribuição dos dados pelo tempo. Neste caso percebemos um pico no número de ocorrências no ano de 2017 e uma menor quantidade no ano 2021. Esta difereça para o ano de 2021, aconteceu pois existem poucos dados registrados para o ano de 2021. Então podemos desconsiderar o ano de 2021 e considerar o menor ano com ocorrências o ano de 2020."
      ]
    },
    {
      "cell_type": "code",
      "metadata": {
        "colab": {
          "base_uri": "https://localhost:8080/",
          "height": 312
        },
        "id": "S5LOnTWKAiiW",
        "outputId": "32a4715e-673d-4607-a6cf-317b42475360"
      },
      "source": [
        "dfocorrencias_por_ano = dados_ocorrencias.groupby(['Ano'])['Ocorrências'].sum()\n",
        "dfocorrencias_por_ano.plot(kind='bar', stacked='True', color=['#0613e2', '#be12b4', '#cba45c', '#5d1648', '#fd279a', '#b856b4', '#2cff09'])"
      ],
      "execution_count": 9,
      "outputs": [
        {
          "output_type": "execute_result",
          "data": {
            "text/plain": [
              "<matplotlib.axes._subplots.AxesSubplot at 0x7f6b0c71eb50>"
            ]
          },
          "metadata": {
            "tags": []
          },
          "execution_count": 9
        },
        {
          "output_type": "display_data",
          "data": {
            "image/png": "[encoded data removed]",
            "text/plain": [
              "<Figure size 432x288 with 1 Axes>"
            ]
          },
          "metadata": {
            "tags": [],
            "needs_background": "light"
          }
        }
      ]
    },
    {
      "cell_type": "markdown",
      "metadata": {
        "id": "HG5M6-4egIAj"
      },
      "source": [
        "#### Análise da quantidade de ocorrências por crime\n",
        "\n",
        "- Nesta análise da quantidade de ocorrências por crime, podemos ter uma idéia do número de ocorrências por crime, ajudando assim a descobrir quais tipos de crimes que possuem a maior quantidade de ocorrências, podendo assim ajudar em possiveis futuras classificações. Nesse caso, os crimes que possuem maior quantidade de ocorrências registradas são os de \"Furto de veículo\" e \"Roubo de veículo\", possuindo uma quantidade de ocorrências bem discrepante em relação aos outros crimes."
      ]
    },
    {
      "cell_type": "code",
      "metadata": {
        "colab": {
          "base_uri": "https://localhost:8080/",
          "height": 477
        },
        "id": "pf-tFG6S_qwS",
        "outputId": "13aa80e8-b5fc-463f-eabc-da2b914c5f52"
      },
      "source": [
        "dfocorrencias_por_crime = dados_ocorrencias.groupby(['Tipo Crime'])['Ocorrências'].sum()\n",
        "dfocorrencias_por_crime.plot(kind='bar', stacked='True', color=['#0613e2', '#be12b4', '#cba45c', '#5d1648', '#fd279a', '#b856b4', '#2cff09'])"
      ],
      "execution_count": 10,
      "outputs": [
        {
          "output_type": "execute_result",
          "data": {
            "text/plain": [
              "<matplotlib.axes._subplots.AxesSubplot at 0x7f6b0bf49950>"
            ]
          },
          "metadata": {
            "tags": []
          },
          "execution_count": 10
        },
        {
          "output_type": "display_data",
          "data": {
            "image/png": "[encoded data removed]",
            "text/plain": [
              "<Figure size 432x288 with 1 Axes>"
            ]
          },
          "metadata": {
            "tags": [],
            "needs_background": "light"
          }
        }
      ]
    },
    {
      "cell_type": "markdown",
      "metadata": {
        "id": "LSGoeHOdmMUr"
      },
      "source": [
        "#### Análise da quantidade de ocorrências por UF\n",
        "\n",
        "- Nesta análise da quantidade de ocorrências por UF, podemos ter uma idéia do número de ocorrências por estado, ajudando assim a descobrir quais estados que possuem a maior quantidade de ocorrências, podendo assim ajudar em possiveis futuras classificações. Nesse caso, percebemos uma quantidade de ocorrências discrepantes de ocorrências quando comparamos o estado de \"São Paulo\" com os outro estados. Logo em segundo estado com maior número de ocorrências, temos o \"Rio de Janeiro\" e \"Minas gerais\"."
      ]
    },
    {
      "cell_type": "code",
      "metadata": {
        "colab": {
          "base_uri": "https://localhost:8080/",
          "height": 400
        },
        "id": "s1x6Y_o1mMiV",
        "outputId": "07c08b3b-98ca-4a31-f871-e215cd5486c3"
      },
      "source": [
        "dfocorrencias_por_uf = dados_ocorrencias.groupby(['UF'])['Ocorrências'].sum()\n",
        "dfocorrencias_por_uf.plot(kind='bar', stacked='True', color=['#0613e2', '#be12b4', '#cba45c', '#5d1648', '#fd279a', '#b856b4', '#2cff09'])"
      ],
      "execution_count": 11,
      "outputs": [
        {
          "output_type": "execute_result",
          "data": {
            "text/plain": [
              "<matplotlib.axes._subplots.AxesSubplot at 0x7f6b0c154b50>"
            ]
          },
          "metadata": {
            "tags": []
          },
          "execution_count": 11
        },
        {
          "output_type": "display_data",
          "data": {
            "image/png": "[encoded data removed]",
            "text/plain": [
              "<Figure size 432x288 with 1 Axes>"
            ]
          },
          "metadata": {
            "tags": [],
            "needs_background": "light"
          }
        }
      ]
    },
    {
      "cell_type": "markdown",
      "metadata": {
        "id": "33Fn1r7iqbQ_"
      },
      "source": [
        "### Abaixo seguem algumas representações e análise dos dados para a base de vítimas:\n",
        "\n"
      ]
    },
    {
      "cell_type": "markdown",
      "metadata": {
        "id": "PGMcAFqJqeZm"
      },
      "source": [
        "#### Análise da quantidade de vítimas por ano\n",
        "\n",
        "- Nesta análise da quantidade de vítimas por ano, podemos ter uma idéias da distribuição dos dados pelo tempo. Neste caso percebemos um pico no número de ocorrências no ano de 2016 e 2017, e uma menor quantidade no ano 2021. Esta difereça para o ano de 2021, assim como para o numero de ocorrências, aconteceu pois existem poucos dados registrados para o ano de 2021. Então podemos desconsiderar o ano de 2021 e considerar o menor ano com vítimas o ano de 2019."
      ]
    },
    {
      "cell_type": "code",
      "metadata": {
        "colab": {
          "base_uri": "https://localhost:8080/",
          "height": 312
        },
        "id": "UfLXdw89qeJr",
        "outputId": "56ffcfe1-efb2-4cfc-c92a-41358ba202b1"
      },
      "source": [
        "dfvitimas_por_ano = dados_vitimas.groupby(['Ano'])['Vítimas'].sum()\n",
        "dfvitimas_por_ano.plot(kind='bar', stacked='True', color=['#0613e2', '#be12b4', '#cba45c', '#5d1648', '#fd279a', '#b856b4', '#2cff09'])"
      ],
      "execution_count": 12,
      "outputs": [
        {
          "output_type": "execute_result",
          "data": {
            "text/plain": [
              "<matplotlib.axes._subplots.AxesSubplot at 0x7f6b0c0af510>"
            ]
          },
          "metadata": {
            "tags": []
          },
          "execution_count": 12
        },
        {
          "output_type": "display_data",
          "data": {
            "image/png": "[encoded data removed]",
            "text/plain": [
              "<Figure size 432x288 with 1 Axes>"
            ]
          },
          "metadata": {
            "tags": [],
            "needs_background": "light"
          }
        }
      ]
    },
    {
      "cell_type": "markdown",
      "metadata": {
        "id": "7Qi7PQaqsYgN"
      },
      "source": [
        "#### Análise da quantidade de vítimas por crime\n",
        "\n",
        "- Nesta análise da quantidade de vítimas por crime, diferente da análise de ocorrências, aqui a quantidade de crimes é bem menor(somente 3), neste caso sendo os crimes agrupados de maneira mais genêrica e não tão especifica. Para estes casos, temos uma quantidade de vítimas bem maior para crimes classificados como \"Homicidio doloso\", quando comparado com os crimes classificados como \"Lesão corporal seguida de morte\" ou \"Roubo seguido de morte (latrocínio)\"."
      ]
    },
    {
      "cell_type": "code",
      "metadata": {
        "colab": {
          "base_uri": "https://localhost:8080/",
          "height": 466
        },
        "id": "yKZBX7KksYuu",
        "outputId": "e7bfaa7d-3b52-41c6-83ac-8eeed14a403e"
      },
      "source": [
        "dfvitimas_por_crime = dados_vitimas.groupby(['Tipo Crime'])['Vítimas'].sum()\n",
        "dfvitimas_por_crime.plot(kind='bar', stacked='True', color=['#0613e2', '#be12b4', '#cba45c', '#5d1648', '#fd279a', '#b856b4', '#2cff09'])"
      ],
      "execution_count": 13,
      "outputs": [
        {
          "output_type": "execute_result",
          "data": {
            "text/plain": [
              "<matplotlib.axes._subplots.AxesSubplot at 0x7f6b0bfe8e10>"
            ]
          },
          "metadata": {
            "tags": []
          },
          "execution_count": 13
        },
        {
          "output_type": "display_data",
          "data": {
            "image/png": "[encoded data removed]",
            "text/plain": [
              "<Figure size 432x288 with 1 Axes>"
            ]
          },
          "metadata": {
            "tags": [],
            "needs_background": "light"
          }
        }
      ]
    },
    {
      "cell_type": "markdown",
      "metadata": {
        "id": "VoWcFPI-t1Gl"
      },
      "source": [
        "#### Análise da quantidade de vítimas por UF\n",
        "\n",
        "- Nesta análise da quantidade de vítimas por UF, podemos ter uma idéia do número de vítimas por estado, ajudando assim a descobrir quais estados que possuem a maior quantidade de vítimas, podendo assim ajudar em possiveis futuras classificações. Nesse caso, percebemos a maior quantidade de vítimas para o estado da \"Bahia\", e o segundo maior o \"Rio de Janeiro\". Analisando esse resultado com a quantidade de ocorrências por estado, percebemos que apesar de o estado de \"São Paulo\" possuir a maior quantidade de ocorrências, o mesmo possui uma quantidade relativamente baixa de vítimas quando comparado com os outros estados, o mesmo valendo para o estado da \"Bahia\", que apesar de possuir um número grande de vítimas, possui uma pequena quantidade de ocorrências registradas."
      ]
    },
    {
      "cell_type": "code",
      "metadata": {
        "colab": {
          "base_uri": "https://localhost:8080/",
          "height": 388
        },
        "id": "evuUW1wot1VS",
        "outputId": "c25e3640-c3aa-43ae-faad-daea4e23bb03"
      },
      "source": [
        "dfvitimas_por_uf = dados_vitimas.groupby(['UF'])['Vítimas'].sum()\n",
        "dfvitimas_por_uf.plot(kind='bar', stacked='True', color=['#0613e2', '#be12b4', '#cba45c', '#5d1648', '#fd279a', '#b856b4', '#2cff09'])"
      ],
      "execution_count": 14,
      "outputs": [
        {
          "output_type": "execute_result",
          "data": {
            "text/plain": [
              "<matplotlib.axes._subplots.AxesSubplot at 0x7f6b0befab50>"
            ]
          },
          "metadata": {
            "tags": []
          },
          "execution_count": 14
        },
        {
          "output_type": "display_data",
          "data": {
            "image/png": "[encoded data removed]",
            "text/plain": [
              "<Figure size 432x288 with 1 Axes>"
            ]
          },
          "metadata": {
            "tags": [],
            "needs_background": "light"
          }
        }
      ]
    },
    {
      "cell_type": "markdown",
      "metadata": {
        "id": "bV7i_zVd5m4d"
      },
      "source": [
        "## Processamento da base"
      ]
    },
    {
      "cell_type": "markdown",
      "metadata": {
        "id": "MdOQS5VZOMXA"
      },
      "source": [
        "##### Remoção de dados de 2021\n",
        "\n",
        "-  Como analisado para o ano de 2021, temos poquissimos dados para o mesmo e somente para o m~es de janeiro. Esta pequena quantidade de dados podem provocar na clusterização, classificação dos dados de forma erronea devido a falta de dados. Com isso iremos remover todos os registros de 2021."
      ]
    },
    {
      "cell_type": "code",
      "metadata": {
        "id": "Ym23LInsMRVo"
      },
      "source": [
        "# Removendo dados de 2021 das bases de vitimas e ocorrências\n",
        "\n",
        "dados_ocorrencias = dados_ocorrencias.drop(dados_ocorrencias[dados_ocorrencias.Ano == 2021].index)\n",
        "dados_vitimas = dados_vitimas.drop(dados_vitimas[dados_vitimas.Ano == 2021].index)"
      ],
      "execution_count": 15,
      "outputs": []
    },
    {
      "cell_type": "code",
      "metadata": {
        "colab": {
          "base_uri": "https://localhost:8080/"
        },
        "id": "ahfkz3MYPD32",
        "outputId": "1fb93952-450d-43b4-acba-23b5c9cbd6be"
      },
      "source": [
        "dados_ocorrencias.Ano.unique()"
      ],
      "execution_count": 16,
      "outputs": [
        {
          "output_type": "execute_result",
          "data": {
            "text/plain": [
              "array([2015, 2016, 2017, 2018, 2019, 2020])"
            ]
          },
          "metadata": {
            "tags": []
          },
          "execution_count": 16
        }
      ]
    },
    {
      "cell_type": "code",
      "metadata": {
        "colab": {
          "base_uri": "https://localhost:8080/"
        },
        "id": "bYRfg3SOP0yJ",
        "outputId": "388f734d-87e8-4363-8903-8d34c2934e7c"
      },
      "source": [
        "dados_vitimas.Ano.unique()"
      ],
      "execution_count": 17,
      "outputs": [
        {
          "output_type": "execute_result",
          "data": {
            "text/plain": [
              "array([2015, 2016, 2017, 2018, 2019, 2020])"
            ]
          },
          "metadata": {
            "tags": []
          },
          "execution_count": 17
        }
      ]
    },
    {
      "cell_type": "markdown",
      "metadata": {
        "id": "tJnbC1UXscGM"
      },
      "source": [
        "Trasnformação das colunas de tipo de crime\n",
        "\n",
        "- Tanto para a base de ocorrências quanto de vitimas, foram transformadas as colunas de tipo de crime, sendo que a base foi transformada para apresentar por estado, a quantidade total de ocorrência e vitimas para cada tipo de crime, não sendo mais necessário para a análise as colunas de ano, mês, quantidade total de vítimas e quantidade total de ocorrências. Abaixo segue respectivamente o codigo para transformação de ambas as bases respectivamente."
      ]
    },
    {
      "cell_type": "code",
      "metadata": {
        "colab": {
          "base_uri": "https://localhost:8080/",
          "height": 891
        },
        "id": "3puod0yA06sT",
        "outputId": "eb2b396a-f90a-4fbd-ac19-fc33598a2dfe"
      },
      "source": [
        "# Transformando base de ocorrências\n",
        "\n",
        "groupby_ocorrencias = dados_ocorrencias.groupby(by=['UF','Tipo Crime'])['Ocorrências'].sum().reset_index()\n",
        "lista_tipo_crime_ocorrencias_columns = list(dados_ocorrencias['Tipo Crime'].unique()) + ['UF']\n",
        "dataset_transform_ocorrencias = pd.DataFrame(columns=lista_tipo_crime_ocorrencias_columns)\n",
        "#print(groupby_ocorrencias)\n",
        "count = 0\n",
        "values = []\n",
        "\n",
        "for i in range(len(groupby_ocorrencias)):\n",
        "    if count == 9:\n",
        "        dataset_transform_ocorrencias.loc[len(dataset_transform_ocorrencias)] = values + [groupby_ocorrencias['UF'][i-1]]\n",
        "        count = 0\n",
        "        values = []\n",
        "\n",
        "    values.append(groupby_ocorrencias['Ocorrências'][i])\n",
        "    count += 1\n",
        "\n",
        "dataset_transform_ocorrencias.loc[len(dataset_transform_ocorrencias)] = values + [groupby_ocorrencias['UF'][len(groupby_ocorrencias)-1]]\n",
        "\n",
        "dataset_transform_ocorrencias"
      ],
      "execution_count": 18,
      "outputs": [
        {
          "output_type": "execute_result",
          "data": {
            "text/html": [
              "<div>\n",
              "<style scoped>\n",
              "    .dataframe tbody tr th:only-of-type {\n",
              "        vertical-align: middle;\n",
              "    }\n",
              "\n",
              "    .dataframe tbody tr th {\n",
              "        vertical-align: top;\n",
              "    }\n",
              "\n",
              "    .dataframe thead th {\n",
              "        text-align: right;\n",
              "    }\n",
              "</style>\n",
              "<table border=\"1\" class=\"dataframe\">\n",
              "  <thead>\n",
              "    <tr style=\"text-align: right;\">\n",
              "      <th></th>\n",
              "      <th>Estupro</th>\n",
              "      <th>Furto de veículo</th>\n",
              "      <th>Homicídio doloso</th>\n",
              "      <th>Lesão corporal seguida de morte</th>\n",
              "      <th>Roubo a instituição financeira</th>\n",
              "      <th>Roubo de carga</th>\n",
              "      <th>Roubo de veículo</th>\n",
              "      <th>Roubo seguido de morte (latrocínio)</th>\n",
              "      <th>Tentativa de homicídio</th>\n",
              "      <th>UF</th>\n",
              "    </tr>\n",
              "  </thead>\n",
              "  <tbody>\n",
              "    <tr>\n",
              "      <th>0</th>\n",
              "      <td>1056</td>\n",
              "      <td>2104</td>\n",
              "      <td>1794</td>\n",
              "      <td>7</td>\n",
              "      <td>12</td>\n",
              "      <td>8</td>\n",
              "      <td>4011</td>\n",
              "      <td>80</td>\n",
              "      <td>469</td>\n",
              "      <td>Acre</td>\n",
              "    </tr>\n",
              "    <tr>\n",
              "      <th>1</th>\n",
              "      <td>3520</td>\n",
              "      <td>6828</td>\n",
              "      <td>8488</td>\n",
              "      <td>59</td>\n",
              "      <td>98</td>\n",
              "      <td>416</td>\n",
              "      <td>17610</td>\n",
              "      <td>253</td>\n",
              "      <td>3245</td>\n",
              "      <td>Alagoas</td>\n",
              "    </tr>\n",
              "    <tr>\n",
              "      <th>2</th>\n",
              "      <td>2207</td>\n",
              "      <td>3808</td>\n",
              "      <td>1524</td>\n",
              "      <td>99</td>\n",
              "      <td>47</td>\n",
              "      <td>28</td>\n",
              "      <td>1868</td>\n",
              "      <td>116</td>\n",
              "      <td>1300</td>\n",
              "      <td>Amapá</td>\n",
              "    </tr>\n",
              "    <tr>\n",
              "      <th>3</th>\n",
              "      <td>5153</td>\n",
              "      <td>14127</td>\n",
              "      <td>6298</td>\n",
              "      <td>150</td>\n",
              "      <td>307</td>\n",
              "      <td>45</td>\n",
              "      <td>18298</td>\n",
              "      <td>371</td>\n",
              "      <td>1702</td>\n",
              "      <td>Amazonas</td>\n",
              "    </tr>\n",
              "    <tr>\n",
              "      <th>4</th>\n",
              "      <td>17578</td>\n",
              "      <td>32089</td>\n",
              "      <td>32888</td>\n",
              "      <td>545</td>\n",
              "      <td>130</td>\n",
              "      <td>2061</td>\n",
              "      <td>78599</td>\n",
              "      <td>974</td>\n",
              "      <td>15866</td>\n",
              "      <td>Bahia</td>\n",
              "    </tr>\n",
              "    <tr>\n",
              "      <th>5</th>\n",
              "      <td>9695</td>\n",
              "      <td>27749</td>\n",
              "      <td>21698</td>\n",
              "      <td>196</td>\n",
              "      <td>241</td>\n",
              "      <td>1195</td>\n",
              "      <td>53684</td>\n",
              "      <td>369</td>\n",
              "      <td>7784</td>\n",
              "      <td>Ceará</td>\n",
              "    </tr>\n",
              "    <tr>\n",
              "      <th>6</th>\n",
              "      <td>3874</td>\n",
              "      <td>33500</td>\n",
              "      <td>2804</td>\n",
              "      <td>34</td>\n",
              "      <td>20</td>\n",
              "      <td>292</td>\n",
              "      <td>24912</td>\n",
              "      <td>204</td>\n",
              "      <td>4851</td>\n",
              "      <td>Distrito Federal</td>\n",
              "    </tr>\n",
              "    <tr>\n",
              "      <th>7</th>\n",
              "      <td>3219</td>\n",
              "      <td>26146</td>\n",
              "      <td>7103</td>\n",
              "      <td>79</td>\n",
              "      <td>132</td>\n",
              "      <td>140</td>\n",
              "      <td>24394</td>\n",
              "      <td>236</td>\n",
              "      <td>14278</td>\n",
              "      <td>Espírito Santo</td>\n",
              "    </tr>\n",
              "    <tr>\n",
              "      <th>8</th>\n",
              "      <td>3781</td>\n",
              "      <td>60066</td>\n",
              "      <td>12585</td>\n",
              "      <td>250</td>\n",
              "      <td>294</td>\n",
              "      <td>2224</td>\n",
              "      <td>54586</td>\n",
              "      <td>479</td>\n",
              "      <td>13031</td>\n",
              "      <td>Goiás</td>\n",
              "    </tr>\n",
              "    <tr>\n",
              "      <th>9</th>\n",
              "      <td>7160</td>\n",
              "      <td>15974</td>\n",
              "      <td>10766</td>\n",
              "      <td>170</td>\n",
              "      <td>410</td>\n",
              "      <td>279</td>\n",
              "      <td>22966</td>\n",
              "      <td>548</td>\n",
              "      <td>6385</td>\n",
              "      <td>Maranhão</td>\n",
              "    </tr>\n",
              "    <tr>\n",
              "      <th>10</th>\n",
              "      <td>9470</td>\n",
              "      <td>16499</td>\n",
              "      <td>5688</td>\n",
              "      <td>141</td>\n",
              "      <td>76</td>\n",
              "      <td>195</td>\n",
              "      <td>14348</td>\n",
              "      <td>270</td>\n",
              "      <td>7752</td>\n",
              "      <td>Mato Grosso</td>\n",
              "    </tr>\n",
              "    <tr>\n",
              "      <th>11</th>\n",
              "      <td>10088</td>\n",
              "      <td>21292</td>\n",
              "      <td>2947</td>\n",
              "      <td>46</td>\n",
              "      <td>66</td>\n",
              "      <td>4</td>\n",
              "      <td>4491</td>\n",
              "      <td>157</td>\n",
              "      <td>4594</td>\n",
              "      <td>Mato Grosso do Sul</td>\n",
              "    </tr>\n",
              "    <tr>\n",
              "      <th>12</th>\n",
              "      <td>8260</td>\n",
              "      <td>140005</td>\n",
              "      <td>20094</td>\n",
              "      <td>353</td>\n",
              "      <td>421</td>\n",
              "      <td>3100</td>\n",
              "      <td>59043</td>\n",
              "      <td>559</td>\n",
              "      <td>23432</td>\n",
              "      <td>Minas Gerais</td>\n",
              "    </tr>\n",
              "    <tr>\n",
              "      <th>13</th>\n",
              "      <td>32181</td>\n",
              "      <td>102330</td>\n",
              "      <td>9848</td>\n",
              "      <td>314</td>\n",
              "      <td>60</td>\n",
              "      <td>4329</td>\n",
              "      <td>51287</td>\n",
              "      <td>349</td>\n",
              "      <td>4055</td>\n",
              "      <td>Paraná</td>\n",
              "    </tr>\n",
              "    <tr>\n",
              "      <th>14</th>\n",
              "      <td>1771</td>\n",
              "      <td>5594</td>\n",
              "      <td>7040</td>\n",
              "      <td>21</td>\n",
              "      <td>199</td>\n",
              "      <td>81</td>\n",
              "      <td>9957</td>\n",
              "      <td>177</td>\n",
              "      <td>1664</td>\n",
              "      <td>Paraíba</td>\n",
              "    </tr>\n",
              "    <tr>\n",
              "      <th>15</th>\n",
              "      <td>18386</td>\n",
              "      <td>22405</td>\n",
              "      <td>18749</td>\n",
              "      <td>205</td>\n",
              "      <td>160</td>\n",
              "      <td>805</td>\n",
              "      <td>34181</td>\n",
              "      <td>1011</td>\n",
              "      <td>8747</td>\n",
              "      <td>Pará</td>\n",
              "    </tr>\n",
              "    <tr>\n",
              "      <th>16</th>\n",
              "      <td>12038</td>\n",
              "      <td>31548</td>\n",
              "      <td>23057</td>\n",
              "      <td>156</td>\n",
              "      <td>265</td>\n",
              "      <td>3108</td>\n",
              "      <td>82781</td>\n",
              "      <td>801</td>\n",
              "      <td>20162</td>\n",
              "      <td>Pernambuco</td>\n",
              "    </tr>\n",
              "    <tr>\n",
              "      <th>17</th>\n",
              "      <td>4016</td>\n",
              "      <td>14929</td>\n",
              "      <td>3622</td>\n",
              "      <td>66</td>\n",
              "      <td>39</td>\n",
              "      <td>117</td>\n",
              "      <td>21385</td>\n",
              "      <td>256</td>\n",
              "      <td>3622</td>\n",
              "      <td>Piauí</td>\n",
              "    </tr>\n",
              "    <tr>\n",
              "      <th>18</th>\n",
              "      <td>1387</td>\n",
              "      <td>6355</td>\n",
              "      <td>8666</td>\n",
              "      <td>1078</td>\n",
              "      <td>141</td>\n",
              "      <td>92</td>\n",
              "      <td>35291</td>\n",
              "      <td>425</td>\n",
              "      <td>941</td>\n",
              "      <td>Rio Grande do Norte</td>\n",
              "    </tr>\n",
              "    <tr>\n",
              "      <th>19</th>\n",
              "      <td>28222</td>\n",
              "      <td>93776</td>\n",
              "      <td>13388</td>\n",
              "      <td>176</td>\n",
              "      <td>365</td>\n",
              "      <td>1905</td>\n",
              "      <td>88741</td>\n",
              "      <td>665</td>\n",
              "      <td>20001</td>\n",
              "      <td>Rio Grande do Sul</td>\n",
              "    </tr>\n",
              "    <tr>\n",
              "      <th>20</th>\n",
              "      <td>27103</td>\n",
              "      <td>93693</td>\n",
              "      <td>24994</td>\n",
              "      <td>258</td>\n",
              "      <td>420</td>\n",
              "      <td>49322</td>\n",
              "      <td>244376</td>\n",
              "      <td>932</td>\n",
              "      <td>21770</td>\n",
              "      <td>Rio de Janeiro</td>\n",
              "    </tr>\n",
              "    <tr>\n",
              "      <th>21</th>\n",
              "      <td>5018</td>\n",
              "      <td>15517</td>\n",
              "      <td>2658</td>\n",
              "      <td>19</td>\n",
              "      <td>73</td>\n",
              "      <td>20</td>\n",
              "      <td>10003</td>\n",
              "      <td>118</td>\n",
              "      <td>4624</td>\n",
              "      <td>Rondônia</td>\n",
              "    </tr>\n",
              "    <tr>\n",
              "      <th>22</th>\n",
              "      <td>1615</td>\n",
              "      <td>4380</td>\n",
              "      <td>1077</td>\n",
              "      <td>45</td>\n",
              "      <td>13</td>\n",
              "      <td>2</td>\n",
              "      <td>2553</td>\n",
              "      <td>72</td>\n",
              "      <td>819</td>\n",
              "      <td>Roraima</td>\n",
              "    </tr>\n",
              "    <tr>\n",
              "      <th>23</th>\n",
              "      <td>7009</td>\n",
              "      <td>65887</td>\n",
              "      <td>4678</td>\n",
              "      <td>109</td>\n",
              "      <td>248</td>\n",
              "      <td>831</td>\n",
              "      <td>15252</td>\n",
              "      <td>272</td>\n",
              "      <td>8736</td>\n",
              "      <td>Santa Catarina</td>\n",
              "    </tr>\n",
              "    <tr>\n",
              "      <th>24</th>\n",
              "      <td>3307</td>\n",
              "      <td>5098</td>\n",
              "      <td>6108</td>\n",
              "      <td>18</td>\n",
              "      <td>52</td>\n",
              "      <td>115</td>\n",
              "      <td>14477</td>\n",
              "      <td>242</td>\n",
              "      <td>3183</td>\n",
              "      <td>Sergipe</td>\n",
              "    </tr>\n",
              "    <tr>\n",
              "      <th>25</th>\n",
              "      <td>64995</td>\n",
              "      <td>573927</td>\n",
              "      <td>19193</td>\n",
              "      <td>362</td>\n",
              "      <td>497</td>\n",
              "      <td>50998</td>\n",
              "      <td>361333</td>\n",
              "      <td>1671</td>\n",
              "      <td>22470</td>\n",
              "      <td>São Paulo</td>\n",
              "    </tr>\n",
              "    <tr>\n",
              "      <th>26</th>\n",
              "      <td>3481</td>\n",
              "      <td>9553</td>\n",
              "      <td>2133</td>\n",
              "      <td>40</td>\n",
              "      <td>89</td>\n",
              "      <td>41</td>\n",
              "      <td>4585</td>\n",
              "      <td>83</td>\n",
              "      <td>2397</td>\n",
              "      <td>Tocantins</td>\n",
              "    </tr>\n",
              "  </tbody>\n",
              "</table>\n",
              "</div>"
            ],
            "text/plain": [
              "   Estupro Furto de veículo  ... Tentativa de homicídio                   UF\n",
              "0     1056             2104  ...                    469                 Acre\n",
              "1     3520             6828  ...                   3245              Alagoas\n",
              "2     2207             3808  ...                   1300                Amapá\n",
              "3     5153            14127  ...                   1702             Amazonas\n",
              "4    17578            32089  ...                  15866                Bahia\n",
              "5     9695            27749  ...                   7784                Ceará\n",
              "6     3874            33500  ...                   4851     Distrito Federal\n",
              "7     3219            26146  ...                  14278       Espírito Santo\n",
              "8     3781            60066  ...                  13031                Goiás\n",
              "9     7160            15974  ...                   6385             Maranhão\n",
              "10    9470            16499  ...                   7752          Mato Grosso\n",
              "11   10088            21292  ...                   4594   Mato Grosso do Sul\n",
              "12    8260           140005  ...                  23432         Minas Gerais\n",
              "13   32181           102330  ...                   4055               Paraná\n",
              "14    1771             5594  ...                   1664              Paraíba\n",
              "15   18386            22405  ...                   8747                 Pará\n",
              "16   12038            31548  ...                  20162           Pernambuco\n",
              "17    4016            14929  ...                   3622                Piauí\n",
              "18    1387             6355  ...                    941  Rio Grande do Norte\n",
              "19   28222            93776  ...                  20001    Rio Grande do Sul\n",
              "20   27103            93693  ...                  21770       Rio de Janeiro\n",
              "21    5018            15517  ...                   4624             Rondônia\n",
              "22    1615             4380  ...                    819              Roraima\n",
              "23    7009            65887  ...                   8736       Santa Catarina\n",
              "24    3307             5098  ...                   3183              Sergipe\n",
              "25   64995           573927  ...                  22470            São Paulo\n",
              "26    3481             9553  ...                   2397            Tocantins\n",
              "\n",
              "[27 rows x 10 columns]"
            ]
          },
          "metadata": {
            "tags": []
          },
          "execution_count": 18
        }
      ]
    },
    {
      "cell_type": "code",
      "metadata": {
        "colab": {
          "base_uri": "https://localhost:8080/",
          "height": 857
        },
        "id": "0ZSgTmvjseYx",
        "outputId": "e18a541e-7f09-4ba8-82b4-7d2e044c1cdd"
      },
      "source": [
        "# Transformando base de vítimas\n",
        "\n",
        "groupby_vitimas = dados_vitimas.groupby(by=['UF','Tipo Crime'])['Vítimas'].sum().reset_index()\n",
        "lista_tipo_crime_vitimas_columns = list(dados_vitimas['Tipo Crime'].unique()) + ['UF']\n",
        "dataset_transform_vitimas = pd.DataFrame(columns=lista_tipo_crime_vitimas_columns)\n",
        "#print(groupby_vitimas)\n",
        "values = []\n",
        "\n",
        "for i in range(len(groupby_vitimas)):\n",
        "    if i != 0 and (i % 3) == 0:\n",
        "        dataset_transform_vitimas.loc[len(dataset_transform_vitimas)] = values + [groupby_vitimas['UF'][i-1]]\n",
        "        values = []\n",
        "\n",
        "    values.append(groupby_vitimas['Vítimas'][i])\n",
        "\n",
        "dataset_transform_vitimas.loc[len(dataset_transform_vitimas)] = values + [groupby_vitimas['UF'][len(groupby_vitimas)-1]]\n",
        "\n",
        "dataset_transform_vitimas"
      ],
      "execution_count": 19,
      "outputs": [
        {
          "output_type": "execute_result",
          "data": {
            "text/html": [
              "<div>\n",
              "<style scoped>\n",
              "    .dataframe tbody tr th:only-of-type {\n",
              "        vertical-align: middle;\n",
              "    }\n",
              "\n",
              "    .dataframe tbody tr th {\n",
              "        vertical-align: top;\n",
              "    }\n",
              "\n",
              "    .dataframe thead th {\n",
              "        text-align: right;\n",
              "    }\n",
              "</style>\n",
              "<table border=\"1\" class=\"dataframe\">\n",
              "  <thead>\n",
              "    <tr style=\"text-align: right;\">\n",
              "      <th></th>\n",
              "      <th>Homicídio doloso</th>\n",
              "      <th>Lesão corporal seguida de morte</th>\n",
              "      <th>Roubo seguido de morte (latrocínio)</th>\n",
              "      <th>UF</th>\n",
              "    </tr>\n",
              "  </thead>\n",
              "  <tbody>\n",
              "    <tr>\n",
              "      <th>0</th>\n",
              "      <td>1740</td>\n",
              "      <td>7</td>\n",
              "      <td>58</td>\n",
              "      <td>Acre</td>\n",
              "    </tr>\n",
              "    <tr>\n",
              "      <th>1</th>\n",
              "      <td>8657</td>\n",
              "      <td>57</td>\n",
              "      <td>251</td>\n",
              "      <td>Alagoas</td>\n",
              "    </tr>\n",
              "    <tr>\n",
              "      <th>2</th>\n",
              "      <td>1595</td>\n",
              "      <td>110</td>\n",
              "      <td>104</td>\n",
              "      <td>Amapá</td>\n",
              "    </tr>\n",
              "    <tr>\n",
              "      <th>3</th>\n",
              "      <td>6488</td>\n",
              "      <td>155</td>\n",
              "      <td>387</td>\n",
              "      <td>Amazonas</td>\n",
              "    </tr>\n",
              "    <tr>\n",
              "      <th>4</th>\n",
              "      <td>34258</td>\n",
              "      <td>540</td>\n",
              "      <td>979</td>\n",
              "      <td>Bahia</td>\n",
              "    </tr>\n",
              "    <tr>\n",
              "      <th>5</th>\n",
              "      <td>22793</td>\n",
              "      <td>201</td>\n",
              "      <td>379</td>\n",
              "      <td>Ceará</td>\n",
              "    </tr>\n",
              "    <tr>\n",
              "      <th>6</th>\n",
              "      <td>3100</td>\n",
              "      <td>31</td>\n",
              "      <td>299</td>\n",
              "      <td>Distrito Federal</td>\n",
              "    </tr>\n",
              "    <tr>\n",
              "      <th>7</th>\n",
              "      <td>7168</td>\n",
              "      <td>82</td>\n",
              "      <td>233</td>\n",
              "      <td>Espírito Santo</td>\n",
              "    </tr>\n",
              "    <tr>\n",
              "      <th>8</th>\n",
              "      <td>12734</td>\n",
              "      <td>233</td>\n",
              "      <td>519</td>\n",
              "      <td>Goiás</td>\n",
              "    </tr>\n",
              "    <tr>\n",
              "      <th>9</th>\n",
              "      <td>10771</td>\n",
              "      <td>168</td>\n",
              "      <td>552</td>\n",
              "      <td>Maranhão</td>\n",
              "    </tr>\n",
              "    <tr>\n",
              "      <th>10</th>\n",
              "      <td>5737</td>\n",
              "      <td>148</td>\n",
              "      <td>274</td>\n",
              "      <td>Mato Grosso</td>\n",
              "    </tr>\n",
              "    <tr>\n",
              "      <th>11</th>\n",
              "      <td>4748</td>\n",
              "      <td>49</td>\n",
              "      <td>168</td>\n",
              "      <td>Mato Grosso do Sul</td>\n",
              "    </tr>\n",
              "    <tr>\n",
              "      <th>12</th>\n",
              "      <td>20640</td>\n",
              "      <td>362</td>\n",
              "      <td>587</td>\n",
              "      <td>Minas Gerais</td>\n",
              "    </tr>\n",
              "    <tr>\n",
              "      <th>13</th>\n",
              "      <td>12832</td>\n",
              "      <td>288</td>\n",
              "      <td>548</td>\n",
              "      <td>Paraná</td>\n",
              "    </tr>\n",
              "    <tr>\n",
              "      <th>14</th>\n",
              "      <td>7175</td>\n",
              "      <td>21</td>\n",
              "      <td>184</td>\n",
              "      <td>Paraíba</td>\n",
              "    </tr>\n",
              "    <tr>\n",
              "      <th>15</th>\n",
              "      <td>19559</td>\n",
              "      <td>214</td>\n",
              "      <td>1064</td>\n",
              "      <td>Pará</td>\n",
              "    </tr>\n",
              "    <tr>\n",
              "      <th>16</th>\n",
              "      <td>24057</td>\n",
              "      <td>161</td>\n",
              "      <td>900</td>\n",
              "      <td>Pernambuco</td>\n",
              "    </tr>\n",
              "    <tr>\n",
              "      <th>17</th>\n",
              "      <td>3619</td>\n",
              "      <td>66</td>\n",
              "      <td>254</td>\n",
              "      <td>Piauí</td>\n",
              "    </tr>\n",
              "    <tr>\n",
              "      <th>18</th>\n",
              "      <td>8735</td>\n",
              "      <td>1098</td>\n",
              "      <td>418</td>\n",
              "      <td>Rio Grande do Norte</td>\n",
              "    </tr>\n",
              "    <tr>\n",
              "      <th>19</th>\n",
              "      <td>15992</td>\n",
              "      <td>180</td>\n",
              "      <td>833</td>\n",
              "      <td>Rio Grande do Sul</td>\n",
              "    </tr>\n",
              "    <tr>\n",
              "      <th>20</th>\n",
              "      <td>27069</td>\n",
              "      <td>259</td>\n",
              "      <td>980</td>\n",
              "      <td>Rio de Janeiro</td>\n",
              "    </tr>\n",
              "    <tr>\n",
              "      <th>21</th>\n",
              "      <td>2810</td>\n",
              "      <td>20</td>\n",
              "      <td>122</td>\n",
              "      <td>Rondônia</td>\n",
              "    </tr>\n",
              "    <tr>\n",
              "      <th>22</th>\n",
              "      <td>1112</td>\n",
              "      <td>43</td>\n",
              "      <td>70</td>\n",
              "      <td>Roraima</td>\n",
              "    </tr>\n",
              "    <tr>\n",
              "      <th>23</th>\n",
              "      <td>4881</td>\n",
              "      <td>109</td>\n",
              "      <td>279</td>\n",
              "      <td>Santa Catarina</td>\n",
              "    </tr>\n",
              "    <tr>\n",
              "      <th>24</th>\n",
              "      <td>6113</td>\n",
              "      <td>19</td>\n",
              "      <td>227</td>\n",
              "      <td>Sergipe</td>\n",
              "    </tr>\n",
              "    <tr>\n",
              "      <th>25</th>\n",
              "      <td>12913</td>\n",
              "      <td>351</td>\n",
              "      <td>1031</td>\n",
              "      <td>São Paulo</td>\n",
              "    </tr>\n",
              "    <tr>\n",
              "      <th>26</th>\n",
              "      <td>2253</td>\n",
              "      <td>42</td>\n",
              "      <td>97</td>\n",
              "      <td>Tocantins</td>\n",
              "    </tr>\n",
              "  </tbody>\n",
              "</table>\n",
              "</div>"
            ],
            "text/plain": [
              "   Homicídio doloso  ...                   UF\n",
              "0              1740  ...                 Acre\n",
              "1              8657  ...              Alagoas\n",
              "2              1595  ...                Amapá\n",
              "3              6488  ...             Amazonas\n",
              "4             34258  ...                Bahia\n",
              "5             22793  ...                Ceará\n",
              "6              3100  ...     Distrito Federal\n",
              "7              7168  ...       Espírito Santo\n",
              "8             12734  ...                Goiás\n",
              "9             10771  ...             Maranhão\n",
              "10             5737  ...          Mato Grosso\n",
              "11             4748  ...   Mato Grosso do Sul\n",
              "12            20640  ...         Minas Gerais\n",
              "13            12832  ...               Paraná\n",
              "14             7175  ...              Paraíba\n",
              "15            19559  ...                 Pará\n",
              "16            24057  ...           Pernambuco\n",
              "17             3619  ...                Piauí\n",
              "18             8735  ...  Rio Grande do Norte\n",
              "19            15992  ...    Rio Grande do Sul\n",
              "20            27069  ...       Rio de Janeiro\n",
              "21             2810  ...             Rondônia\n",
              "22             1112  ...              Roraima\n",
              "23             4881  ...       Santa Catarina\n",
              "24             6113  ...              Sergipe\n",
              "25            12913  ...            São Paulo\n",
              "26             2253  ...            Tocantins\n",
              "\n",
              "[27 rows x 4 columns]"
            ]
          },
          "metadata": {
            "tags": []
          },
          "execution_count": 19
        }
      ]
    },
    {
      "cell_type": "markdown",
      "metadata": {
        "id": "MRXdv16p4-Wi"
      },
      "source": [
        "##### Normalização do atributos\n",
        "\n",
        "-  Para normalização iremos utilizar os atributos relacionados com as quantidades de cada tipo de crime para cada um dos estados, atributos estes quantitativos e que podem apresentar uma grande variação de valores. A ideia é que após a normalização, os atributos irão conter valores que irão se situar em um intervalo entre 0 e 1."
      ]
    },
    {
      "cell_type": "code",
      "metadata": {
        "colab": {
          "base_uri": "https://localhost:8080/",
          "height": 197
        },
        "id": "3H6WL2lY4-lQ",
        "outputId": "bc3b1efd-d540-443d-992a-05239ef719d9"
      },
      "source": [
        "# Normalização dos valores da base de ocorrências\n",
        "normalize_columns_ocorrencias = dataset_transform_ocorrencias.columns[0:-1]\n",
        "\n",
        "for column in normalize_columns_ocorrencias:\n",
        "  float_array = dataset_transform_ocorrencias[column].values\n",
        "  min_max_scaler = preprocessing.MinMaxScaler()\n",
        "  scaled_array = min_max_scaler.fit_transform(float_array[:, np.newaxis])\n",
        "  dataset_transform_ocorrencias[column] = scaled_array\n",
        "\n",
        "dataset_transform_ocorrencias.head()"
      ],
      "execution_count": 20,
      "outputs": [
        {
          "output_type": "execute_result",
          "data": {
            "text/html": [
              "<div>\n",
              "<style scoped>\n",
              "    .dataframe tbody tr th:only-of-type {\n",
              "        vertical-align: middle;\n",
              "    }\n",
              "\n",
              "    .dataframe tbody tr th {\n",
              "        vertical-align: top;\n",
              "    }\n",
              "\n",
              "    .dataframe thead th {\n",
              "        text-align: right;\n",
              "    }\n",
              "</style>\n",
              "<table border=\"1\" class=\"dataframe\">\n",
              "  <thead>\n",
              "    <tr style=\"text-align: right;\">\n",
              "      <th></th>\n",
              "      <th>Estupro</th>\n",
              "      <th>Furto de veículo</th>\n",
              "      <th>Homicídio doloso</th>\n",
              "      <th>Lesão corporal seguida de morte</th>\n",
              "      <th>Roubo a instituição financeira</th>\n",
              "      <th>Roubo de carga</th>\n",
              "      <th>Roubo de veículo</th>\n",
              "      <th>Roubo seguido de morte (latrocínio)</th>\n",
              "      <th>Tentativa de homicídio</th>\n",
              "      <th>UF</th>\n",
              "    </tr>\n",
              "  </thead>\n",
              "  <tbody>\n",
              "    <tr>\n",
              "      <th>0</th>\n",
              "      <td>0.000000</td>\n",
              "      <td>0.000000</td>\n",
              "      <td>0.022539</td>\n",
              "      <td>0.000000</td>\n",
              "      <td>0.000000</td>\n",
              "      <td>0.000118</td>\n",
              "      <td>0.005962</td>\n",
              "      <td>0.005003</td>\n",
              "      <td>0.000000</td>\n",
              "      <td>Acre</td>\n",
              "    </tr>\n",
              "    <tr>\n",
              "      <th>1</th>\n",
              "      <td>0.038537</td>\n",
              "      <td>0.008261</td>\n",
              "      <td>0.232970</td>\n",
              "      <td>0.048553</td>\n",
              "      <td>0.177320</td>\n",
              "      <td>0.008118</td>\n",
              "      <td>0.043793</td>\n",
              "      <td>0.113196</td>\n",
              "      <td>0.120890</td>\n",
              "      <td>Alagoas</td>\n",
              "    </tr>\n",
              "    <tr>\n",
              "      <th>2</th>\n",
              "      <td>0.018002</td>\n",
              "      <td>0.002980</td>\n",
              "      <td>0.014052</td>\n",
              "      <td>0.085901</td>\n",
              "      <td>0.072165</td>\n",
              "      <td>0.000510</td>\n",
              "      <td>0.000000</td>\n",
              "      <td>0.027517</td>\n",
              "      <td>0.036189</td>\n",
              "      <td>Amapá</td>\n",
              "    </tr>\n",
              "    <tr>\n",
              "      <th>3</th>\n",
              "      <td>0.064077</td>\n",
              "      <td>0.021026</td>\n",
              "      <td>0.164126</td>\n",
              "      <td>0.133520</td>\n",
              "      <td>0.608247</td>\n",
              "      <td>0.000843</td>\n",
              "      <td>0.045707</td>\n",
              "      <td>0.186992</td>\n",
              "      <td>0.053695</td>\n",
              "      <td>Amazonas</td>\n",
              "    </tr>\n",
              "    <tr>\n",
              "      <th>4</th>\n",
              "      <td>0.258403</td>\n",
              "      <td>0.052438</td>\n",
              "      <td>1.000000</td>\n",
              "      <td>0.502334</td>\n",
              "      <td>0.243299</td>\n",
              "      <td>0.040376</td>\n",
              "      <td>0.213459</td>\n",
              "      <td>0.564103</td>\n",
              "      <td>0.670513</td>\n",
              "      <td>Bahia</td>\n",
              "    </tr>\n",
              "  </tbody>\n",
              "</table>\n",
              "</div>"
            ],
            "text/plain": [
              "    Estupro  Furto de veículo  ...  Tentativa de homicídio        UF\n",
              "0  0.000000          0.000000  ...                0.000000      Acre\n",
              "1  0.038537          0.008261  ...                0.120890   Alagoas\n",
              "2  0.018002          0.002980  ...                0.036189     Amapá\n",
              "3  0.064077          0.021026  ...                0.053695  Amazonas\n",
              "4  0.258403          0.052438  ...                0.670513     Bahia\n",
              "\n",
              "[5 rows x 10 columns]"
            ]
          },
          "metadata": {
            "tags": []
          },
          "execution_count": 20
        }
      ]
    },
    {
      "cell_type": "code",
      "metadata": {
        "colab": {
          "base_uri": "https://localhost:8080/",
          "height": 197
        },
        "id": "dsl9Frf97ac8",
        "outputId": "db1cf28a-d58c-4746-be2b-ad9f042d730a"
      },
      "source": [
        "# Normalização dos valores da base de vítimas\n",
        "normalize_columns_vitimas = dataset_transform_vitimas.columns[0:-1]\n",
        "\n",
        "for column in normalize_columns_vitimas:\n",
        "  float_array = dataset_transform_vitimas[column].values\n",
        "  min_max_scaler = preprocessing.MinMaxScaler()\n",
        "  scaled_array = min_max_scaler.fit_transform(float_array[:, np.newaxis])\n",
        "  dataset_transform_vitimas[column] = scaled_array\n",
        "\n",
        "dataset_transform_vitimas.head()"
      ],
      "execution_count": 21,
      "outputs": [
        {
          "output_type": "execute_result",
          "data": {
            "text/html": [
              "<div>\n",
              "<style scoped>\n",
              "    .dataframe tbody tr th:only-of-type {\n",
              "        vertical-align: middle;\n",
              "    }\n",
              "\n",
              "    .dataframe tbody tr th {\n",
              "        vertical-align: top;\n",
              "    }\n",
              "\n",
              "    .dataframe thead th {\n",
              "        text-align: right;\n",
              "    }\n",
              "</style>\n",
              "<table border=\"1\" class=\"dataframe\">\n",
              "  <thead>\n",
              "    <tr style=\"text-align: right;\">\n",
              "      <th></th>\n",
              "      <th>Homicídio doloso</th>\n",
              "      <th>Lesão corporal seguida de morte</th>\n",
              "      <th>Roubo seguido de morte (latrocínio)</th>\n",
              "      <th>UF</th>\n",
              "    </tr>\n",
              "  </thead>\n",
              "  <tbody>\n",
              "    <tr>\n",
              "      <th>0</th>\n",
              "      <td>0.018946</td>\n",
              "      <td>0.000000</td>\n",
              "      <td>0.000000</td>\n",
              "      <td>Acre</td>\n",
              "    </tr>\n",
              "    <tr>\n",
              "      <th>1</th>\n",
              "      <td>0.227629</td>\n",
              "      <td>0.045830</td>\n",
              "      <td>0.191849</td>\n",
              "      <td>Alagoas</td>\n",
              "    </tr>\n",
              "    <tr>\n",
              "      <th>2</th>\n",
              "      <td>0.014572</td>\n",
              "      <td>0.094409</td>\n",
              "      <td>0.045726</td>\n",
              "      <td>Amapá</td>\n",
              "    </tr>\n",
              "    <tr>\n",
              "      <th>3</th>\n",
              "      <td>0.162192</td>\n",
              "      <td>0.135655</td>\n",
              "      <td>0.327038</td>\n",
              "      <td>Amazonas</td>\n",
              "    </tr>\n",
              "    <tr>\n",
              "      <th>4</th>\n",
              "      <td>1.000000</td>\n",
              "      <td>0.488543</td>\n",
              "      <td>0.915507</td>\n",
              "      <td>Bahia</td>\n",
              "    </tr>\n",
              "  </tbody>\n",
              "</table>\n",
              "</div>"
            ],
            "text/plain": [
              "   Homicídio doloso  ...        UF\n",
              "0          0.018946  ...      Acre\n",
              "1          0.227629  ...   Alagoas\n",
              "2          0.014572  ...     Amapá\n",
              "3          0.162192  ...  Amazonas\n",
              "4          1.000000  ...     Bahia\n",
              "\n",
              "[5 rows x 4 columns]"
            ]
          },
          "metadata": {
            "tags": []
          },
          "execution_count": 21
        }
      ]
    },
    {
      "cell_type": "markdown",
      "metadata": {
        "id": "DN01kih_8lkD"
      },
      "source": [
        "## Verificação de similaridades atráves do gráfico HeatMap para base de ocorrências"
      ]
    },
    {
      "cell_type": "code",
      "metadata": {
        "id": "CLM9JBs58yYG"
      },
      "source": [
        "from scipy.spatial.distance import pdist, squareform"
      ],
      "execution_count": 22,
      "outputs": []
    },
    {
      "cell_type": "code",
      "metadata": {
        "id": "R5rqDukH8_Z7"
      },
      "source": [
        "crime_columns_ocorrencias = dataset_transform_ocorrencias.columns[0:-1]\n",
        "\n",
        "dataframe_dist = pd.DataFrame(\n",
        "    squareform(pdist(dataset_transform_ocorrencias[crime_columns_ocorrencias], metric='euclidean')),\n",
        "    columns = dataset_transform_ocorrencias.UF,\n",
        "    index = dataset_transform_ocorrencias.UF\n",
        ")"
      ],
      "execution_count": 23,
      "outputs": []
    },
    {
      "cell_type": "code",
      "metadata": {
        "colab": {
          "base_uri": "https://localhost:8080/",
          "height": 986
        },
        "id": "udm8CH_Z9AIL",
        "outputId": "98874b6f-8ced-441d-8e65-d55a39756023"
      },
      "source": [
        "plt.figure(figsize=(15,15))\n",
        "sns.heatmap(\n",
        "    dataframe_dist,\n",
        "    cmap='BuPu',\n",
        "    linewidth=1\n",
        ")"
      ],
      "execution_count": 24,
      "outputs": [
        {
          "output_type": "execute_result",
          "data": {
            "text/plain": [
              "<matplotlib.axes._subplots.AxesSubplot at 0x7f6b0b982850>"
            ]
          },
          "metadata": {
            "tags": []
          },
          "execution_count": 24
        },
        {
          "output_type": "display_data",
          "data": {
            "image/png": "[encoded data removed]",
            "text/plain": [
              "<Figure size 1080x1080 with 2 Axes>"
            ]
          },
          "metadata": {
            "tags": [],
            "needs_background": "light"
          }
        }
      ]
    },
    {
      "cell_type": "markdown",
      "metadata": {
        "id": "ZsuiZx8Y_s6x"
      },
      "source": [
        "- Ao analisarmos os resultados do heatmap, podemos perceber a similaridade entre a quantidade de ocorrências por diferentes crimes, em diferentes UFs."
      ]
    },
    {
      "cell_type": "code",
      "metadata": {
        "colab": {
          "base_uri": "https://localhost:8080/",
          "height": 287
        },
        "id": "ItPEmXVH__Ep",
        "outputId": "86236122-9d23-4e8d-89e8-372d9e302f2a"
      },
      "source": [
        "long_form = dataframe_dist.unstack()\n",
        "\n",
        "long_form.index.rename([\"UF A\", \"UF B\"], inplace=True)\n",
        "long_form = long_form.to_frame('distance').reset_index()\n",
        "\n",
        "long_form[\n",
        "    (long_form['distance'] < 0.1) \n",
        "    & (long_form['UF A'] != long_form['UF B'])\n",
        "]"
      ],
      "execution_count": 25,
      "outputs": [
        {
          "output_type": "execute_result",
          "data": {
            "text/html": [
              "<div>\n",
              "<style scoped>\n",
              "    .dataframe tbody tr th:only-of-type {\n",
              "        vertical-align: middle;\n",
              "    }\n",
              "\n",
              "    .dataframe tbody tr th {\n",
              "        vertical-align: top;\n",
              "    }\n",
              "\n",
              "    .dataframe thead th {\n",
              "        text-align: right;\n",
              "    }\n",
              "</style>\n",
              "<table border=\"1\" class=\"dataframe\">\n",
              "  <thead>\n",
              "    <tr style=\"text-align: right;\">\n",
              "      <th></th>\n",
              "      <th>UF A</th>\n",
              "      <th>UF B</th>\n",
              "      <th>distance</th>\n",
              "    </tr>\n",
              "  </thead>\n",
              "  <tbody>\n",
              "    <tr>\n",
              "      <th>22</th>\n",
              "      <td>Acre</td>\n",
              "      <td>Roraima</td>\n",
              "      <td>0.046230</td>\n",
              "    </tr>\n",
              "    <tr>\n",
              "      <th>76</th>\n",
              "      <td>Amapá</td>\n",
              "      <td>Roraima</td>\n",
              "      <td>0.094555</td>\n",
              "    </tr>\n",
              "    <tr>\n",
              "      <th>179</th>\n",
              "      <td>Distrito Federal</td>\n",
              "      <td>Piauí</td>\n",
              "      <td>0.090435</td>\n",
              "    </tr>\n",
              "    <tr>\n",
              "      <th>318</th>\n",
              "      <td>Mato Grosso do Sul</td>\n",
              "      <td>Rondônia</td>\n",
              "      <td>0.090265</td>\n",
              "    </tr>\n",
              "    <tr>\n",
              "      <th>465</th>\n",
              "      <td>Piauí</td>\n",
              "      <td>Distrito Federal</td>\n",
              "      <td>0.090435</td>\n",
              "    </tr>\n",
              "    <tr>\n",
              "      <th>578</th>\n",
              "      <td>Rondônia</td>\n",
              "      <td>Mato Grosso do Sul</td>\n",
              "      <td>0.090265</td>\n",
              "    </tr>\n",
              "    <tr>\n",
              "      <th>594</th>\n",
              "      <td>Roraima</td>\n",
              "      <td>Acre</td>\n",
              "      <td>0.046230</td>\n",
              "    </tr>\n",
              "    <tr>\n",
              "      <th>596</th>\n",
              "      <td>Roraima</td>\n",
              "      <td>Amapá</td>\n",
              "      <td>0.094555</td>\n",
              "    </tr>\n",
              "  </tbody>\n",
              "</table>\n",
              "</div>"
            ],
            "text/plain": [
              "                   UF A                UF B  distance\n",
              "22                 Acre             Roraima  0.046230\n",
              "76                Amapá             Roraima  0.094555\n",
              "179    Distrito Federal               Piauí  0.090435\n",
              "318  Mato Grosso do Sul            Rondônia  0.090265\n",
              "465               Piauí    Distrito Federal  0.090435\n",
              "578            Rondônia  Mato Grosso do Sul  0.090265\n",
              "594             Roraima                Acre  0.046230\n",
              "596             Roraima               Amapá  0.094555"
            ]
          },
          "metadata": {
            "tags": []
          },
          "execution_count": 25
        }
      ]
    },
    {
      "cell_type": "markdown",
      "metadata": {
        "id": "ZoCOlqzrLCA5"
      },
      "source": [
        "- Como resultado da análise para os dados de ocorrências, percebemos inicialmente que o estado do Acre é o que possui menor número de ocorrências, portanto os estados pertencente ao mesmo grupo do acre, serão grupos com baixo indice de ocorrências.\n",
        "\n",
        "- Para o estado de São Paulo, temos o maior número de ocorrências como análisado no gráfico, portanto os estados que pertencem ao grupo de são paulo serão os com maior número de ocorrências.\n",
        "\n",
        "- Para os estados que não se encaixem em nenhum dos grupos anteriores, os mesmos serão classificados como estados de número médio de ocorrências."
      ]
    },
    {
      "cell_type": "markdown",
      "metadata": {
        "id": "-GVBifycA94i"
      },
      "source": [
        "## Verificação de similaridades atráves do gráfico HeatMap para base de vítimas"
      ]
    },
    {
      "cell_type": "code",
      "metadata": {
        "id": "Kf-WQYN1A9kI"
      },
      "source": [
        "crime_columns_vitimas = dataset_transform_vitimas.columns[0:-1]\n",
        "\n",
        "dataframe_dist = pd.DataFrame(\n",
        "    squareform(pdist(dataset_transform_vitimas[crime_columns_vitimas], metric='euclidean')),\n",
        "    columns = dataset_transform_vitimas.UF,\n",
        "    index = dataset_transform_vitimas.UF\n",
        ")"
      ],
      "execution_count": 26,
      "outputs": []
    },
    {
      "cell_type": "code",
      "metadata": {
        "colab": {
          "base_uri": "https://localhost:8080/",
          "height": 986
        },
        "id": "miHi59MPBDjG",
        "outputId": "104ffc13-aa1b-40b9-c646-76ef7c0bfea5"
      },
      "source": [
        "plt.figure(figsize=(15,15))\n",
        "sns.heatmap(\n",
        "    dataframe_dist,\n",
        "    cmap='BuPu',\n",
        "    linewidth=1\n",
        ")"
      ],
      "execution_count": 27,
      "outputs": [
        {
          "output_type": "execute_result",
          "data": {
            "text/plain": [
              "<matplotlib.axes._subplots.AxesSubplot at 0x7f6b0b92ffd0>"
            ]
          },
          "metadata": {
            "tags": []
          },
          "execution_count": 27
        },
        {
          "output_type": "display_data",
          "data": {
            "image/png": "[encoded data removed]",
            "text/plain": [
              "<Figure size 1080x1080 with 2 Axes>"
            ]
          },
          "metadata": {
            "tags": [],
            "needs_background": "light"
          }
        }
      ]
    },
    {
      "cell_type": "markdown",
      "metadata": {
        "id": "DzftaFh_BXQ-"
      },
      "source": [
        "- Ao analisarmos os resultados do heatmap, podemos perceber a similaridade entre a quantidade de vítimas por diferentes crimes, em diferentes UFs."
      ]
    },
    {
      "cell_type": "code",
      "metadata": {
        "id": "6OemobptB2cP"
      },
      "source": [
        "long_form = dataframe_dist.unstack()\n",
        "\n",
        "long_form.index.rename([\"Uf A\", \"Uf B\"], inplace=True)\n",
        "long_form = long_form.to_frame('distance').reset_index()"
      ],
      "execution_count": 28,
      "outputs": []
    },
    {
      "cell_type": "code",
      "metadata": {
        "colab": {
          "base_uri": "https://localhost:8080/",
          "height": 1000
        },
        "id": "6nnNSPkpB2x0",
        "outputId": "9f038812-4382-4b3f-d0be-80731816db6d"
      },
      "source": [
        "long_form[\n",
        "    (long_form['distance'] < 0.1) \n",
        "    & (long_form['Uf A'] != long_form['Uf B'])\n",
        "]"
      ],
      "execution_count": 29,
      "outputs": [
        {
          "output_type": "execute_result",
          "data": {
            "text/html": [
              "<div>\n",
              "<style scoped>\n",
              "    .dataframe tbody tr th:only-of-type {\n",
              "        vertical-align: middle;\n",
              "    }\n",
              "\n",
              "    .dataframe tbody tr th {\n",
              "        vertical-align: top;\n",
              "    }\n",
              "\n",
              "    .dataframe thead th {\n",
              "        text-align: right;\n",
              "    }\n",
              "</style>\n",
              "<table border=\"1\" class=\"dataframe\">\n",
              "  <thead>\n",
              "    <tr style=\"text-align: right;\">\n",
              "      <th></th>\n",
              "      <th>Uf A</th>\n",
              "      <th>Uf B</th>\n",
              "      <th>distance</th>\n",
              "    </tr>\n",
              "  </thead>\n",
              "  <tbody>\n",
              "    <tr>\n",
              "      <th>21</th>\n",
              "      <td>Acre</td>\n",
              "      <td>Rondônia</td>\n",
              "      <td>0.072328</td>\n",
              "    </tr>\n",
              "    <tr>\n",
              "      <th>22</th>\n",
              "      <td>Acre</td>\n",
              "      <td>Roraima</td>\n",
              "      <td>0.039876</td>\n",
              "    </tr>\n",
              "    <tr>\n",
              "      <th>26</th>\n",
              "      <td>Acre</td>\n",
              "      <td>Tocantins</td>\n",
              "      <td>0.052646</td>\n",
              "    </tr>\n",
              "    <tr>\n",
              "      <th>34</th>\n",
              "      <td>Alagoas</td>\n",
              "      <td>Espírito Santo</td>\n",
              "      <td>0.053509</td>\n",
              "    </tr>\n",
              "    <tr>\n",
              "      <th>41</th>\n",
              "      <td>Alagoas</td>\n",
              "      <td>Paraíba</td>\n",
              "      <td>0.086738</td>\n",
              "    </tr>\n",
              "    <tr>\n",
              "      <th>51</th>\n",
              "      <td>Alagoas</td>\n",
              "      <td>Sergipe</td>\n",
              "      <td>0.087596</td>\n",
              "    </tr>\n",
              "    <tr>\n",
              "      <th>75</th>\n",
              "      <td>Amapá</td>\n",
              "      <td>Rondônia</td>\n",
              "      <td>0.092027</td>\n",
              "    </tr>\n",
              "    <tr>\n",
              "      <th>76</th>\n",
              "      <td>Amapá</td>\n",
              "      <td>Roraima</td>\n",
              "      <td>0.071596</td>\n",
              "    </tr>\n",
              "    <tr>\n",
              "      <th>80</th>\n",
              "      <td>Amapá</td>\n",
              "      <td>Tocantins</td>\n",
              "      <td>0.065782</td>\n",
              "    </tr>\n",
              "    <tr>\n",
              "      <th>179</th>\n",
              "      <td>Distrito Federal</td>\n",
              "      <td>Piauí</td>\n",
              "      <td>0.057230</td>\n",
              "    </tr>\n",
              "    <tr>\n",
              "      <th>185</th>\n",
              "      <td>Distrito Federal</td>\n",
              "      <td>Santa Catarina</td>\n",
              "      <td>0.091617</td>\n",
              "    </tr>\n",
              "    <tr>\n",
              "      <th>190</th>\n",
              "      <td>Espírito Santo</td>\n",
              "      <td>Alagoas</td>\n",
              "      <td>0.053509</td>\n",
              "    </tr>\n",
              "    <tr>\n",
              "      <th>199</th>\n",
              "      <td>Espírito Santo</td>\n",
              "      <td>Mato Grosso</td>\n",
              "      <td>0.084762</td>\n",
              "    </tr>\n",
              "    <tr>\n",
              "      <th>203</th>\n",
              "      <td>Espírito Santo</td>\n",
              "      <td>Paraíba</td>\n",
              "      <td>0.074153</td>\n",
              "    </tr>\n",
              "    <tr>\n",
              "      <th>212</th>\n",
              "      <td>Espírito Santo</td>\n",
              "      <td>Santa Catarina</td>\n",
              "      <td>0.086394</td>\n",
              "    </tr>\n",
              "    <tr>\n",
              "      <th>213</th>\n",
              "      <td>Espírito Santo</td>\n",
              "      <td>Sergipe</td>\n",
              "      <td>0.066205</td>\n",
              "    </tr>\n",
              "    <tr>\n",
              "      <th>225</th>\n",
              "      <td>Goiás</td>\n",
              "      <td>Maranhão</td>\n",
              "      <td>0.090183</td>\n",
              "    </tr>\n",
              "    <tr>\n",
              "      <th>229</th>\n",
              "      <td>Goiás</td>\n",
              "      <td>Paraná</td>\n",
              "      <td>0.058148</td>\n",
              "    </tr>\n",
              "    <tr>\n",
              "      <th>251</th>\n",
              "      <td>Maranhão</td>\n",
              "      <td>Goiás</td>\n",
              "      <td>0.090183</td>\n",
              "    </tr>\n",
              "    <tr>\n",
              "      <th>277</th>\n",
              "      <td>Mato Grosso</td>\n",
              "      <td>Espírito Santo</td>\n",
              "      <td>0.084762</td>\n",
              "    </tr>\n",
              "    <tr>\n",
              "      <th>293</th>\n",
              "      <td>Mato Grosso</td>\n",
              "      <td>Santa Catarina</td>\n",
              "      <td>0.044379</td>\n",
              "    </tr>\n",
              "    <tr>\n",
              "      <th>311</th>\n",
              "      <td>Mato Grosso do Sul</td>\n",
              "      <td>Paraíba</td>\n",
              "      <td>0.079202</td>\n",
              "    </tr>\n",
              "    <tr>\n",
              "      <th>314</th>\n",
              "      <td>Mato Grosso do Sul</td>\n",
              "      <td>Piauí</td>\n",
              "      <td>0.093333</td>\n",
              "    </tr>\n",
              "    <tr>\n",
              "      <th>318</th>\n",
              "      <td>Mato Grosso do Sul</td>\n",
              "      <td>Rondônia</td>\n",
              "      <td>0.078841</td>\n",
              "    </tr>\n",
              "    <tr>\n",
              "      <th>321</th>\n",
              "      <td>Mato Grosso do Sul</td>\n",
              "      <td>Sergipe</td>\n",
              "      <td>0.076757</td>\n",
              "    </tr>\n",
              "    <tr>\n",
              "      <th>359</th>\n",
              "      <td>Paraná</td>\n",
              "      <td>Goiás</td>\n",
              "      <td>0.058148</td>\n",
              "    </tr>\n",
              "    <tr>\n",
              "      <th>379</th>\n",
              "      <td>Paraíba</td>\n",
              "      <td>Alagoas</td>\n",
              "      <td>0.086738</td>\n",
              "    </tr>\n",
              "    <tr>\n",
              "      <th>385</th>\n",
              "      <td>Paraíba</td>\n",
              "      <td>Espírito Santo</td>\n",
              "      <td>0.074153</td>\n",
              "    </tr>\n",
              "    <tr>\n",
              "      <th>389</th>\n",
              "      <td>Paraíba</td>\n",
              "      <td>Mato Grosso do Sul</td>\n",
              "      <td>0.079202</td>\n",
              "    </tr>\n",
              "    <tr>\n",
              "      <th>402</th>\n",
              "      <td>Paraíba</td>\n",
              "      <td>Sergipe</td>\n",
              "      <td>0.053450</td>\n",
              "    </tr>\n",
              "    <tr>\n",
              "      <th>465</th>\n",
              "      <td>Piauí</td>\n",
              "      <td>Distrito Federal</td>\n",
              "      <td>0.057230</td>\n",
              "    </tr>\n",
              "    <tr>\n",
              "      <th>470</th>\n",
              "      <td>Piauí</td>\n",
              "      <td>Mato Grosso do Sul</td>\n",
              "      <td>0.093333</td>\n",
              "    </tr>\n",
              "    <tr>\n",
              "      <th>482</th>\n",
              "      <td>Piauí</td>\n",
              "      <td>Santa Catarina</td>\n",
              "      <td>0.060171</td>\n",
              "    </tr>\n",
              "    <tr>\n",
              "      <th>483</th>\n",
              "      <td>Piauí</td>\n",
              "      <td>Sergipe</td>\n",
              "      <td>0.090762</td>\n",
              "    </tr>\n",
              "    <tr>\n",
              "      <th>567</th>\n",
              "      <td>Rondônia</td>\n",
              "      <td>Acre</td>\n",
              "      <td>0.072328</td>\n",
              "    </tr>\n",
              "    <tr>\n",
              "      <th>569</th>\n",
              "      <td>Rondônia</td>\n",
              "      <td>Amapá</td>\n",
              "      <td>0.092027</td>\n",
              "    </tr>\n",
              "    <tr>\n",
              "      <th>578</th>\n",
              "      <td>Rondônia</td>\n",
              "      <td>Mato Grosso do Sul</td>\n",
              "      <td>0.078841</td>\n",
              "    </tr>\n",
              "    <tr>\n",
              "      <th>589</th>\n",
              "      <td>Rondônia</td>\n",
              "      <td>Roraima</td>\n",
              "      <td>0.075767</td>\n",
              "    </tr>\n",
              "    <tr>\n",
              "      <th>593</th>\n",
              "      <td>Rondônia</td>\n",
              "      <td>Tocantins</td>\n",
              "      <td>0.036147</td>\n",
              "    </tr>\n",
              "    <tr>\n",
              "      <th>594</th>\n",
              "      <td>Roraima</td>\n",
              "      <td>Acre</td>\n",
              "      <td>0.039876</td>\n",
              "    </tr>\n",
              "    <tr>\n",
              "      <th>596</th>\n",
              "      <td>Roraima</td>\n",
              "      <td>Amapá</td>\n",
              "      <td>0.071596</td>\n",
              "    </tr>\n",
              "    <tr>\n",
              "      <th>615</th>\n",
              "      <td>Roraima</td>\n",
              "      <td>Rondônia</td>\n",
              "      <td>0.075767</td>\n",
              "    </tr>\n",
              "    <tr>\n",
              "      <th>620</th>\n",
              "      <td>Roraima</td>\n",
              "      <td>Tocantins</td>\n",
              "      <td>0.043659</td>\n",
              "    </tr>\n",
              "    <tr>\n",
              "      <th>627</th>\n",
              "      <td>Santa Catarina</td>\n",
              "      <td>Distrito Federal</td>\n",
              "      <td>0.091617</td>\n",
              "    </tr>\n",
              "    <tr>\n",
              "      <th>628</th>\n",
              "      <td>Santa Catarina</td>\n",
              "      <td>Espírito Santo</td>\n",
              "      <td>0.086394</td>\n",
              "    </tr>\n",
              "    <tr>\n",
              "      <th>631</th>\n",
              "      <td>Santa Catarina</td>\n",
              "      <td>Mato Grosso</td>\n",
              "      <td>0.044379</td>\n",
              "    </tr>\n",
              "    <tr>\n",
              "      <th>638</th>\n",
              "      <td>Santa Catarina</td>\n",
              "      <td>Piauí</td>\n",
              "      <td>0.060171</td>\n",
              "    </tr>\n",
              "    <tr>\n",
              "      <th>649</th>\n",
              "      <td>Sergipe</td>\n",
              "      <td>Alagoas</td>\n",
              "      <td>0.087596</td>\n",
              "    </tr>\n",
              "    <tr>\n",
              "      <th>655</th>\n",
              "      <td>Sergipe</td>\n",
              "      <td>Espírito Santo</td>\n",
              "      <td>0.066205</td>\n",
              "    </tr>\n",
              "    <tr>\n",
              "      <th>659</th>\n",
              "      <td>Sergipe</td>\n",
              "      <td>Mato Grosso do Sul</td>\n",
              "      <td>0.076757</td>\n",
              "    </tr>\n",
              "    <tr>\n",
              "      <th>662</th>\n",
              "      <td>Sergipe</td>\n",
              "      <td>Paraíba</td>\n",
              "      <td>0.053450</td>\n",
              "    </tr>\n",
              "    <tr>\n",
              "      <th>665</th>\n",
              "      <td>Sergipe</td>\n",
              "      <td>Piauí</td>\n",
              "      <td>0.090762</td>\n",
              "    </tr>\n",
              "    <tr>\n",
              "      <th>702</th>\n",
              "      <td>Tocantins</td>\n",
              "      <td>Acre</td>\n",
              "      <td>0.052646</td>\n",
              "    </tr>\n",
              "    <tr>\n",
              "      <th>704</th>\n",
              "      <td>Tocantins</td>\n",
              "      <td>Amapá</td>\n",
              "      <td>0.065782</td>\n",
              "    </tr>\n",
              "    <tr>\n",
              "      <th>723</th>\n",
              "      <td>Tocantins</td>\n",
              "      <td>Rondônia</td>\n",
              "      <td>0.036147</td>\n",
              "    </tr>\n",
              "    <tr>\n",
              "      <th>724</th>\n",
              "      <td>Tocantins</td>\n",
              "      <td>Roraima</td>\n",
              "      <td>0.043659</td>\n",
              "    </tr>\n",
              "  </tbody>\n",
              "</table>\n",
              "</div>"
            ],
            "text/plain": [
              "                   Uf A                Uf B  distance\n",
              "21                 Acre            Rondônia  0.072328\n",
              "22                 Acre             Roraima  0.039876\n",
              "26                 Acre           Tocantins  0.052646\n",
              "34              Alagoas      Espírito Santo  0.053509\n",
              "41              Alagoas             Paraíba  0.086738\n",
              "51              Alagoas             Sergipe  0.087596\n",
              "75                Amapá            Rondônia  0.092027\n",
              "76                Amapá             Roraima  0.071596\n",
              "80                Amapá           Tocantins  0.065782\n",
              "179    Distrito Federal               Piauí  0.057230\n",
              "185    Distrito Federal      Santa Catarina  0.091617\n",
              "190      Espírito Santo             Alagoas  0.053509\n",
              "199      Espírito Santo         Mato Grosso  0.084762\n",
              "203      Espírito Santo             Paraíba  0.074153\n",
              "212      Espírito Santo      Santa Catarina  0.086394\n",
              "213      Espírito Santo             Sergipe  0.066205\n",
              "225               Goiás            Maranhão  0.090183\n",
              "229               Goiás              Paraná  0.058148\n",
              "251            Maranhão               Goiás  0.090183\n",
              "277         Mato Grosso      Espírito Santo  0.084762\n",
              "293         Mato Grosso      Santa Catarina  0.044379\n",
              "311  Mato Grosso do Sul             Paraíba  0.079202\n",
              "314  Mato Grosso do Sul               Piauí  0.093333\n",
              "318  Mato Grosso do Sul            Rondônia  0.078841\n",
              "321  Mato Grosso do Sul             Sergipe  0.076757\n",
              "359              Paraná               Goiás  0.058148\n",
              "379             Paraíba             Alagoas  0.086738\n",
              "385             Paraíba      Espírito Santo  0.074153\n",
              "389             Paraíba  Mato Grosso do Sul  0.079202\n",
              "402             Paraíba             Sergipe  0.053450\n",
              "465               Piauí    Distrito Federal  0.057230\n",
              "470               Piauí  Mato Grosso do Sul  0.093333\n",
              "482               Piauí      Santa Catarina  0.060171\n",
              "483               Piauí             Sergipe  0.090762\n",
              "567            Rondônia                Acre  0.072328\n",
              "569            Rondônia               Amapá  0.092027\n",
              "578            Rondônia  Mato Grosso do Sul  0.078841\n",
              "589            Rondônia             Roraima  0.075767\n",
              "593            Rondônia           Tocantins  0.036147\n",
              "594             Roraima                Acre  0.039876\n",
              "596             Roraima               Amapá  0.071596\n",
              "615             Roraima            Rondônia  0.075767\n",
              "620             Roraima           Tocantins  0.043659\n",
              "627      Santa Catarina    Distrito Federal  0.091617\n",
              "628      Santa Catarina      Espírito Santo  0.086394\n",
              "631      Santa Catarina         Mato Grosso  0.044379\n",
              "638      Santa Catarina               Piauí  0.060171\n",
              "649             Sergipe             Alagoas  0.087596\n",
              "655             Sergipe      Espírito Santo  0.066205\n",
              "659             Sergipe  Mato Grosso do Sul  0.076757\n",
              "662             Sergipe             Paraíba  0.053450\n",
              "665             Sergipe               Piauí  0.090762\n",
              "702           Tocantins                Acre  0.052646\n",
              "704           Tocantins               Amapá  0.065782\n",
              "723           Tocantins            Rondônia  0.036147\n",
              "724           Tocantins             Roraima  0.043659"
            ]
          },
          "metadata": {
            "tags": []
          },
          "execution_count": 29
        }
      ]
    },
    {
      "cell_type": "markdown",
      "metadata": {
        "id": "vriiWiXDP4xu"
      },
      "source": [
        "- Como resultado da análise para os dados de vítimas, percebemos inicialmente que o estado do Acre é o que possui menor número de vítimas, portanto os estados pertencente ao mesmo grupo do Acre, serão grupos com baixo indice de vítimas. É possivel perceber isso atráves dos valores de vitimas do acre quando comparado com os outros estados.\n",
        "\n",
        "- Para o estado da Bahia, temos o maior número de vítimas como análisado no gráfico, portanto os estados que pertencem ao grupo da Bahia, serão os com maior número de vítimas.\n",
        "\n",
        "- Para os estados que não se encaixem em nenhum dos grupos anteriores, os mesmos serão classificados como estados de número médio de vítimas."
      ]
    },
    {
      "cell_type": "markdown",
      "metadata": {
        "id": "kFdsbvryP3lB"
      },
      "source": [
        "## Algoritmos de Clusterização para base de ocorrências(Cluster Hierárquico)"
      ]
    },
    {
      "cell_type": "code",
      "metadata": {
        "id": "KH5Bx8jyF4xO"
      },
      "source": [
        "# Imports necessários\n",
        "import scipy.cluster.hierarchy as shc\n",
        "import matplotlib.pyplot as plt\n",
        "from sklearn.cluster import AgglomerativeClustering"
      ],
      "execution_count": 30,
      "outputs": []
    },
    {
      "cell_type": "code",
      "metadata": {
        "id": "lBRRmvR1rdaH",
        "colab": {
          "base_uri": "https://localhost:8080/",
          "height": 468
        },
        "outputId": "46ef4252-ab2f-48a0-b976-f31accd39f94"
      },
      "source": [
        "number_trasnformed_ocorrencias = dataset_transform_ocorrencias.loc[:, dataset_transform_ocorrencias.columns != 'UF']\n",
        "\n",
        "plt.figure(figsize=(10, 7))\n",
        "plt.title(\"Ocorrências Dendrograms\")\n",
        "dend = shc.dendrogram(shc.linkage(number_trasnformed_ocorrencias, method='ward'))\n",
        "\n",
        "plt.axhline(y=1.5, c='k', ls='--')"
      ],
      "execution_count": 31,
      "outputs": [
        {
          "output_type": "execute_result",
          "data": {
            "text/plain": [
              "<matplotlib.lines.Line2D at 0x7f6b00bacf90>"
            ]
          },
          "metadata": {
            "tags": []
          },
          "execution_count": 31
        },
        {
          "output_type": "display_data",
          "data": {
            "image/png": "[encoded data removed]",
            "text/plain": [
              "<Figure size 720x504 with 1 Axes>"
            ]
          },
          "metadata": {
            "tags": [],
            "needs_background": "light"
          }
        }
      ]
    },
    {
      "cell_type": "markdown",
      "metadata": {
        "id": "lcyhy2RVOn5y"
      },
      "source": [
        "- Análisando o denograma obtido para os dados de ocorrência, percebemos que podemos realizar a divisão dos dados em três clusters, podendo classificar os estados em três: baixo numero de ocorrências, médio numero de ocorrências e alto número de ocorrências. Podemos perceber essa divisão ao traçar uma linha no eixo y na posição 1.5. Desta maneira conseguimos perceber de forma mais clara a divisão dos clusters, sendo que o ultimo somente foi dividido em um unico cluster, pois os dados do mesmos estão ligeiramente proximos."
      ]
    },
    {
      "cell_type": "code",
      "metadata": {
        "colab": {
          "base_uri": "https://localhost:8080/",
          "height": 857
        },
        "id": "1vj0iYF6FZ1c",
        "outputId": "2c80f846-10ee-4b16-880b-4369eeb0fb5f"
      },
      "source": [
        "# Realizando classificação aglomerativa\n",
        "\n",
        "agg_cluster = AgglomerativeClustering(affinity='euclidean', linkage='ward', n_clusters=3)\n",
        "agg_cluster.fit(number_trasnformed_ocorrencias)\n",
        "\n",
        "clusters_h = agg_cluster.labels_.tolist()\n",
        "clusters_dict_h = { 'Estados': list(dataset_transform_ocorrencias.UF), 'Index': dataset_transform_ocorrencias.index, 'cluster': clusters_h}\n",
        "dataframe_clusters_h = pd.DataFrame(clusters_dict_h, columns = ['cluster','Estados', 'Index'])\n",
        "\n",
        "dataframe_clusters_h"
      ],
      "execution_count": 32,
      "outputs": [
        {
          "output_type": "execute_result",
          "data": {
            "text/html": [
              "<div>\n",
              "<style scoped>\n",
              "    .dataframe tbody tr th:only-of-type {\n",
              "        vertical-align: middle;\n",
              "    }\n",
              "\n",
              "    .dataframe tbody tr th {\n",
              "        vertical-align: top;\n",
              "    }\n",
              "\n",
              "    .dataframe thead th {\n",
              "        text-align: right;\n",
              "    }\n",
              "</style>\n",
              "<table border=\"1\" class=\"dataframe\">\n",
              "  <thead>\n",
              "    <tr style=\"text-align: right;\">\n",
              "      <th></th>\n",
              "      <th>cluster</th>\n",
              "      <th>Estados</th>\n",
              "      <th>Index</th>\n",
              "    </tr>\n",
              "  </thead>\n",
              "  <tbody>\n",
              "    <tr>\n",
              "      <th>0</th>\n",
              "      <td>0</td>\n",
              "      <td>Acre</td>\n",
              "      <td>0</td>\n",
              "    </tr>\n",
              "    <tr>\n",
              "      <th>1</th>\n",
              "      <td>0</td>\n",
              "      <td>Alagoas</td>\n",
              "      <td>1</td>\n",
              "    </tr>\n",
              "    <tr>\n",
              "      <th>2</th>\n",
              "      <td>0</td>\n",
              "      <td>Amapá</td>\n",
              "      <td>2</td>\n",
              "    </tr>\n",
              "    <tr>\n",
              "      <th>3</th>\n",
              "      <td>0</td>\n",
              "      <td>Amazonas</td>\n",
              "      <td>3</td>\n",
              "    </tr>\n",
              "    <tr>\n",
              "      <th>4</th>\n",
              "      <td>2</td>\n",
              "      <td>Bahia</td>\n",
              "      <td>4</td>\n",
              "    </tr>\n",
              "    <tr>\n",
              "      <th>5</th>\n",
              "      <td>0</td>\n",
              "      <td>Ceará</td>\n",
              "      <td>5</td>\n",
              "    </tr>\n",
              "    <tr>\n",
              "      <th>6</th>\n",
              "      <td>0</td>\n",
              "      <td>Distrito Federal</td>\n",
              "      <td>6</td>\n",
              "    </tr>\n",
              "    <tr>\n",
              "      <th>7</th>\n",
              "      <td>0</td>\n",
              "      <td>Espírito Santo</td>\n",
              "      <td>7</td>\n",
              "    </tr>\n",
              "    <tr>\n",
              "      <th>8</th>\n",
              "      <td>0</td>\n",
              "      <td>Goiás</td>\n",
              "      <td>8</td>\n",
              "    </tr>\n",
              "    <tr>\n",
              "      <th>9</th>\n",
              "      <td>0</td>\n",
              "      <td>Maranhão</td>\n",
              "      <td>9</td>\n",
              "    </tr>\n",
              "    <tr>\n",
              "      <th>10</th>\n",
              "      <td>0</td>\n",
              "      <td>Mato Grosso</td>\n",
              "      <td>10</td>\n",
              "    </tr>\n",
              "    <tr>\n",
              "      <th>11</th>\n",
              "      <td>0</td>\n",
              "      <td>Mato Grosso do Sul</td>\n",
              "      <td>11</td>\n",
              "    </tr>\n",
              "    <tr>\n",
              "      <th>12</th>\n",
              "      <td>2</td>\n",
              "      <td>Minas Gerais</td>\n",
              "      <td>12</td>\n",
              "    </tr>\n",
              "    <tr>\n",
              "      <th>13</th>\n",
              "      <td>0</td>\n",
              "      <td>Paraná</td>\n",
              "      <td>13</td>\n",
              "    </tr>\n",
              "    <tr>\n",
              "      <th>14</th>\n",
              "      <td>0</td>\n",
              "      <td>Paraíba</td>\n",
              "      <td>14</td>\n",
              "    </tr>\n",
              "    <tr>\n",
              "      <th>15</th>\n",
              "      <td>0</td>\n",
              "      <td>Pará</td>\n",
              "      <td>15</td>\n",
              "    </tr>\n",
              "    <tr>\n",
              "      <th>16</th>\n",
              "      <td>2</td>\n",
              "      <td>Pernambuco</td>\n",
              "      <td>16</td>\n",
              "    </tr>\n",
              "    <tr>\n",
              "      <th>17</th>\n",
              "      <td>0</td>\n",
              "      <td>Piauí</td>\n",
              "      <td>17</td>\n",
              "    </tr>\n",
              "    <tr>\n",
              "      <th>18</th>\n",
              "      <td>0</td>\n",
              "      <td>Rio Grande do Norte</td>\n",
              "      <td>18</td>\n",
              "    </tr>\n",
              "    <tr>\n",
              "      <th>19</th>\n",
              "      <td>2</td>\n",
              "      <td>Rio Grande do Sul</td>\n",
              "      <td>19</td>\n",
              "    </tr>\n",
              "    <tr>\n",
              "      <th>20</th>\n",
              "      <td>1</td>\n",
              "      <td>Rio de Janeiro</td>\n",
              "      <td>20</td>\n",
              "    </tr>\n",
              "    <tr>\n",
              "      <th>21</th>\n",
              "      <td>0</td>\n",
              "      <td>Rondônia</td>\n",
              "      <td>21</td>\n",
              "    </tr>\n",
              "    <tr>\n",
              "      <th>22</th>\n",
              "      <td>0</td>\n",
              "      <td>Roraima</td>\n",
              "      <td>22</td>\n",
              "    </tr>\n",
              "    <tr>\n",
              "      <th>23</th>\n",
              "      <td>0</td>\n",
              "      <td>Santa Catarina</td>\n",
              "      <td>23</td>\n",
              "    </tr>\n",
              "    <tr>\n",
              "      <th>24</th>\n",
              "      <td>0</td>\n",
              "      <td>Sergipe</td>\n",
              "      <td>24</td>\n",
              "    </tr>\n",
              "    <tr>\n",
              "      <th>25</th>\n",
              "      <td>1</td>\n",
              "      <td>São Paulo</td>\n",
              "      <td>25</td>\n",
              "    </tr>\n",
              "    <tr>\n",
              "      <th>26</th>\n",
              "      <td>0</td>\n",
              "      <td>Tocantins</td>\n",
              "      <td>26</td>\n",
              "    </tr>\n",
              "  </tbody>\n",
              "</table>\n",
              "</div>"
            ],
            "text/plain": [
              "    cluster              Estados  Index\n",
              "0         0                 Acre      0\n",
              "1         0              Alagoas      1\n",
              "2         0                Amapá      2\n",
              "3         0             Amazonas      3\n",
              "4         2                Bahia      4\n",
              "5         0                Ceará      5\n",
              "6         0     Distrito Federal      6\n",
              "7         0       Espírito Santo      7\n",
              "8         0                Goiás      8\n",
              "9         0             Maranhão      9\n",
              "10        0          Mato Grosso     10\n",
              "11        0   Mato Grosso do Sul     11\n",
              "12        2         Minas Gerais     12\n",
              "13        0               Paraná     13\n",
              "14        0              Paraíba     14\n",
              "15        0                 Pará     15\n",
              "16        2           Pernambuco     16\n",
              "17        0                Piauí     17\n",
              "18        0  Rio Grande do Norte     18\n",
              "19        2    Rio Grande do Sul     19\n",
              "20        1       Rio de Janeiro     20\n",
              "21        0             Rondônia     21\n",
              "22        0              Roraima     22\n",
              "23        0       Santa Catarina     23\n",
              "24        0              Sergipe     24\n",
              "25        1            São Paulo     25\n",
              "26        0            Tocantins     26"
            ]
          },
          "metadata": {
            "tags": []
          },
          "execution_count": 32
        }
      ]
    },
    {
      "cell_type": "markdown",
      "metadata": {
        "id": "zlGKGmKhOlnc"
      },
      "source": [
        "- Analisando o resultado obtido pelo algoritimo de classificação aglomerativa, temos como resultado os seguintes grupos:\n",
        "\n",
        "1. O grupo zero contém o estado Acre, que como analisado anteriormente, é o estado com menor número de ocorrências, portanto este grupo será o grupo com os estados de menor número de ocorrências.\n",
        "\n",
        "2. O grupo um contém o estado São Paulo,  que como analisado anteriormente, é o estado com maior número de ocorrências, portanto este grupo será o grupo com os estados de maior número de ocorrências.\n",
        "\n",
        "3. O grupo restante é o dois, portanto como analisado anteriormente, todos os estados classificados nesse grupo serão estados com médio numero de ocorrências."
      ]
    },
    {
      "cell_type": "code",
      "metadata": {
        "id": "YvADYHjyTSHD"
      },
      "source": [
        "# Convertendo para excel\n",
        "\n",
        "dataframe_clusters_h.to_excel(\"cluster_ocorrencias.xlsx\")  "
      ],
      "execution_count": 33,
      "outputs": []
    },
    {
      "cell_type": "markdown",
      "metadata": {
        "id": "5Nq_w618G1zS"
      },
      "source": [
        "## Algoritmos de Clusterização para base de vítimas(Cluster Hierárquico)"
      ]
    },
    {
      "cell_type": "markdown",
      "metadata": {
        "id": "4yTRKEVbHrij"
      },
      "source": [
        "- Análisando o denograma obtido para os dados de vítimas, percebemos que podemos realizar a divisão dos dados em três clusters, podendo classificar os estados em três: baixo numero de vítimas, médio numero de vítimas e alto número de vítimas. Podemos perceber essa divisão ao traçar uma linha no eixo y na posição 1.2. Desta maneira conseguimos perceber de forma mais clara a divisão dos clusters, sendo que para este caso, percebemos uma maior quantidade de valores classificados como médio e alto, apresentando assim possivelmente um resultado com uma maior quantidade de estados com média e alta quantidade de vítimas."
      ]
    },
    {
      "cell_type": "code",
      "metadata": {
        "colab": {
          "base_uri": "https://localhost:8080/",
          "height": 468
        },
        "id": "agP3ROKNG3_G",
        "outputId": "564a8849-5ab8-48fd-af79-c976d769d05c"
      },
      "source": [
        "number_trasnformed_vitimas = dataset_transform_vitimas.loc[:, dataset_transform_vitimas.columns != 'UF']\n",
        "\n",
        "plt.figure(figsize=(10, 7))\n",
        "plt.title(\"Vítimas Dendrograms\")\n",
        "dend = shc.dendrogram(shc.linkage(number_trasnformed_vitimas, method='ward'))\n",
        "\n",
        "plt.axhline(y=1.2, c='k', ls='--')"
      ],
      "execution_count": 34,
      "outputs": [
        {
          "output_type": "execute_result",
          "data": {
            "text/plain": [
              "<matplotlib.lines.Line2D at 0x7f6afaffefd0>"
            ]
          },
          "metadata": {
            "tags": []
          },
          "execution_count": 34
        },
        {
          "output_type": "display_data",
          "data": {
            "image/png": "[encoded data removed]",
            "text/plain": [
              "<Figure size 720x504 with 1 Axes>"
            ]
          },
          "metadata": {
            "tags": [],
            "needs_background": "light"
          }
        }
      ]
    },
    {
      "cell_type": "code",
      "metadata": {
        "colab": {
          "base_uri": "https://localhost:8080/",
          "height": 857
        },
        "id": "NB04oQKpG9YI",
        "outputId": "2c77e2ac-74ac-4cf8-bd0d-7c91eb9aa122"
      },
      "source": [
        "# Realizando classificação aglomerativa\n",
        "\n",
        "agg_cluster = AgglomerativeClustering(affinity='euclidean', linkage='ward', n_clusters=3)\n",
        "agg_cluster.fit(number_trasnformed_vitimas)\n",
        "\n",
        "clusters_h = agg_cluster.labels_.tolist()\n",
        "clusters_dict_h = { 'Estados': list(dataset_transform_vitimas.UF), 'Index': dataset_transform_vitimas.index, 'cluster': clusters_h}\n",
        "dataframe_clusters_h = pd.DataFrame(clusters_dict_h, columns = ['cluster','Estados', 'Index'])\n",
        "\n",
        "dataframe_clusters_h"
      ],
      "execution_count": 35,
      "outputs": [
        {
          "output_type": "execute_result",
          "data": {
            "text/html": [
              "<div>\n",
              "<style scoped>\n",
              "    .dataframe tbody tr th:only-of-type {\n",
              "        vertical-align: middle;\n",
              "    }\n",
              "\n",
              "    .dataframe tbody tr th {\n",
              "        vertical-align: top;\n",
              "    }\n",
              "\n",
              "    .dataframe thead th {\n",
              "        text-align: right;\n",
              "    }\n",
              "</style>\n",
              "<table border=\"1\" class=\"dataframe\">\n",
              "  <thead>\n",
              "    <tr style=\"text-align: right;\">\n",
              "      <th></th>\n",
              "      <th>cluster</th>\n",
              "      <th>Estados</th>\n",
              "      <th>Index</th>\n",
              "    </tr>\n",
              "  </thead>\n",
              "  <tbody>\n",
              "    <tr>\n",
              "      <th>0</th>\n",
              "      <td>1</td>\n",
              "      <td>Acre</td>\n",
              "      <td>0</td>\n",
              "    </tr>\n",
              "    <tr>\n",
              "      <th>1</th>\n",
              "      <td>1</td>\n",
              "      <td>Alagoas</td>\n",
              "      <td>1</td>\n",
              "    </tr>\n",
              "    <tr>\n",
              "      <th>2</th>\n",
              "      <td>1</td>\n",
              "      <td>Amapá</td>\n",
              "      <td>2</td>\n",
              "    </tr>\n",
              "    <tr>\n",
              "      <th>3</th>\n",
              "      <td>1</td>\n",
              "      <td>Amazonas</td>\n",
              "      <td>3</td>\n",
              "    </tr>\n",
              "    <tr>\n",
              "      <th>4</th>\n",
              "      <td>2</td>\n",
              "      <td>Bahia</td>\n",
              "      <td>4</td>\n",
              "    </tr>\n",
              "    <tr>\n",
              "      <th>5</th>\n",
              "      <td>0</td>\n",
              "      <td>Ceará</td>\n",
              "      <td>5</td>\n",
              "    </tr>\n",
              "    <tr>\n",
              "      <th>6</th>\n",
              "      <td>1</td>\n",
              "      <td>Distrito Federal</td>\n",
              "      <td>6</td>\n",
              "    </tr>\n",
              "    <tr>\n",
              "      <th>7</th>\n",
              "      <td>1</td>\n",
              "      <td>Espírito Santo</td>\n",
              "      <td>7</td>\n",
              "    </tr>\n",
              "    <tr>\n",
              "      <th>8</th>\n",
              "      <td>0</td>\n",
              "      <td>Goiás</td>\n",
              "      <td>8</td>\n",
              "    </tr>\n",
              "    <tr>\n",
              "      <th>9</th>\n",
              "      <td>0</td>\n",
              "      <td>Maranhão</td>\n",
              "      <td>9</td>\n",
              "    </tr>\n",
              "    <tr>\n",
              "      <th>10</th>\n",
              "      <td>1</td>\n",
              "      <td>Mato Grosso</td>\n",
              "      <td>10</td>\n",
              "    </tr>\n",
              "    <tr>\n",
              "      <th>11</th>\n",
              "      <td>1</td>\n",
              "      <td>Mato Grosso do Sul</td>\n",
              "      <td>11</td>\n",
              "    </tr>\n",
              "    <tr>\n",
              "      <th>12</th>\n",
              "      <td>0</td>\n",
              "      <td>Minas Gerais</td>\n",
              "      <td>12</td>\n",
              "    </tr>\n",
              "    <tr>\n",
              "      <th>13</th>\n",
              "      <td>0</td>\n",
              "      <td>Paraná</td>\n",
              "      <td>13</td>\n",
              "    </tr>\n",
              "    <tr>\n",
              "      <th>14</th>\n",
              "      <td>1</td>\n",
              "      <td>Paraíba</td>\n",
              "      <td>14</td>\n",
              "    </tr>\n",
              "    <tr>\n",
              "      <th>15</th>\n",
              "      <td>2</td>\n",
              "      <td>Pará</td>\n",
              "      <td>15</td>\n",
              "    </tr>\n",
              "    <tr>\n",
              "      <th>16</th>\n",
              "      <td>2</td>\n",
              "      <td>Pernambuco</td>\n",
              "      <td>16</td>\n",
              "    </tr>\n",
              "    <tr>\n",
              "      <th>17</th>\n",
              "      <td>1</td>\n",
              "      <td>Piauí</td>\n",
              "      <td>17</td>\n",
              "    </tr>\n",
              "    <tr>\n",
              "      <th>18</th>\n",
              "      <td>0</td>\n",
              "      <td>Rio Grande do Norte</td>\n",
              "      <td>18</td>\n",
              "    </tr>\n",
              "    <tr>\n",
              "      <th>19</th>\n",
              "      <td>2</td>\n",
              "      <td>Rio Grande do Sul</td>\n",
              "      <td>19</td>\n",
              "    </tr>\n",
              "    <tr>\n",
              "      <th>20</th>\n",
              "      <td>2</td>\n",
              "      <td>Rio de Janeiro</td>\n",
              "      <td>20</td>\n",
              "    </tr>\n",
              "    <tr>\n",
              "      <th>21</th>\n",
              "      <td>1</td>\n",
              "      <td>Rondônia</td>\n",
              "      <td>21</td>\n",
              "    </tr>\n",
              "    <tr>\n",
              "      <th>22</th>\n",
              "      <td>1</td>\n",
              "      <td>Roraima</td>\n",
              "      <td>22</td>\n",
              "    </tr>\n",
              "    <tr>\n",
              "      <th>23</th>\n",
              "      <td>1</td>\n",
              "      <td>Santa Catarina</td>\n",
              "      <td>23</td>\n",
              "    </tr>\n",
              "    <tr>\n",
              "      <th>24</th>\n",
              "      <td>1</td>\n",
              "      <td>Sergipe</td>\n",
              "      <td>24</td>\n",
              "    </tr>\n",
              "    <tr>\n",
              "      <th>25</th>\n",
              "      <td>2</td>\n",
              "      <td>São Paulo</td>\n",
              "      <td>25</td>\n",
              "    </tr>\n",
              "    <tr>\n",
              "      <th>26</th>\n",
              "      <td>1</td>\n",
              "      <td>Tocantins</td>\n",
              "      <td>26</td>\n",
              "    </tr>\n",
              "  </tbody>\n",
              "</table>\n",
              "</div>"
            ],
            "text/plain": [
              "    cluster              Estados  Index\n",
              "0         1                 Acre      0\n",
              "1         1              Alagoas      1\n",
              "2         1                Amapá      2\n",
              "3         1             Amazonas      3\n",
              "4         2                Bahia      4\n",
              "5         0                Ceará      5\n",
              "6         1     Distrito Federal      6\n",
              "7         1       Espírito Santo      7\n",
              "8         0                Goiás      8\n",
              "9         0             Maranhão      9\n",
              "10        1          Mato Grosso     10\n",
              "11        1   Mato Grosso do Sul     11\n",
              "12        0         Minas Gerais     12\n",
              "13        0               Paraná     13\n",
              "14        1              Paraíba     14\n",
              "15        2                 Pará     15\n",
              "16        2           Pernambuco     16\n",
              "17        1                Piauí     17\n",
              "18        0  Rio Grande do Norte     18\n",
              "19        2    Rio Grande do Sul     19\n",
              "20        2       Rio de Janeiro     20\n",
              "21        1             Rondônia     21\n",
              "22        1              Roraima     22\n",
              "23        1       Santa Catarina     23\n",
              "24        1              Sergipe     24\n",
              "25        2            São Paulo     25\n",
              "26        1            Tocantins     26"
            ]
          },
          "metadata": {
            "tags": []
          },
          "execution_count": 35
        }
      ]
    },
    {
      "cell_type": "markdown",
      "metadata": {
        "id": "9ehfGZAcSQFF"
      },
      "source": [
        "- Analisando o resultado obtido pelo algoritimo de classificação aglomerativa, temos como resultado os seguintes grupos:\n",
        "\n",
        "1. O grupo um contém o estado Acre, que como analisado anteriormente, é o estado com menor número de vítimas, portanto este grupo será o grupo com os estados de menor número de vítimas.\n",
        "\n",
        "2. O grupo dois contém o estado da Bahia, que como analisado anteriormente, é o estado com maior número de vítimas, portanto este grupo será o grupo com os estados de maior número de vítimas.\n",
        "\n",
        "3. O grupo restante é o zero, portanto como analisado anteriormente, todos os estados classificados nesse grupo serão estados com médio numero de vítimas."
      ]
    },
    {
      "cell_type": "code",
      "metadata": {
        "id": "wcrq0wmuTwOS"
      },
      "source": [
        "# Convertendo para excel\n",
        "\n",
        "dataframe_clusters_h.to_excel(\"cluster_vitimas.xlsx\")  "
      ],
      "execution_count": 36,
      "outputs": []
    },
    {
      "cell_type": "markdown",
      "metadata": {
        "id": "PcWGOYAPU851"
      },
      "source": [
        "## Visualização dos Dados\n",
        "\n",
        "- A visualização dos dados foi feita atráves do PowerBi\n",
        "\n",
        "- Segue respectivamente as representações dos estados com os valores para ocorrência e vítimas "
      ]
    },
    {
      "cell_type": "markdown",
      "metadata": {
        "id": "1A1qk16Xag7p"
      },
      "source": [
        "![image.png](data:image/png;base64,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)"
      ]
    },
    {
      "cell_type": "markdown",
      "metadata": {
        "id": "6K7XAodramJ-"
      },
      "source": [
        "![image.png](data:image/png;base64,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)"
      ]
    }
  ]
}