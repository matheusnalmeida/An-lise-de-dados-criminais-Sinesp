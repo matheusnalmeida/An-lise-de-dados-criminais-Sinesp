{
  "nbformat": 4,
  "nbformat_minor": 0,
  "metadata": {
    "colab": {
      "name": "Trabalho Prático 2 - Analisando dados criminais.ipynb",
      "provenance": [],
      "collapsed_sections": [],
      "toc_visible": true,
      "authorship_tag": "ABX9TyPC73qP/3rHJy6rjZDblgkM",
      "include_colab_link": true
    },
    "kernelspec": {
      "name": "python3",
      "display_name": "Python 3"
    },
    "language_info": {
      "name": "python"
    }
  },
  "cells": [
    {
      "cell_type": "markdown",
      "metadata": {
        "id": "view-in-github",
        "colab_type": "text"
      },
      "source": [
        "<a href=\"https://colab.research.google.com/github/matheusnalmeida/Analise-de-dados-criminais-Sinesp/blob/main/Trabalho_Pr%C3%A1tico_2_Analisando_dados_criminais.ipynb\" target=\"_parent\"><img src=\"https://colab.research.google.com/assets/colab-badge.svg\" alt=\"Open In Colab\"/></a>"
      ]
    },
    {
      "cell_type": "markdown",
      "metadata": {
        "id": "YU1eKJfXutnH"
      },
      "source": [
        "# Trabalho Prático 2 - Analisando dados criminais\n"
      ]
    },
    {
      "cell_type": "markdown",
      "metadata": {
        "id": "-wJPvVq2y07O"
      },
      "source": [
        "## Análise dos dados(Teórica)"
      ]
    },
    {
      "cell_type": "markdown",
      "metadata": {
        "id": "6OQ0QYgPzvfn"
      },
      "source": [
        "- Os dados escolhidos para análise, foram extraídos das soluções SinespJC e Sinesp e possuem dados agrupados por mês de cada ano, \n",
        "que apresentam a quantidade de vítimas e ocorrências para cada tipo de crime em cada estado. \n",
        "<br><br>\n",
        "- As colunas que temos para a base de dados de ocorrência são:\n",
        "1. UF: Estado das ocorrências dos crimes registrados.\n",
        "\n",
        "2. Tipo do crime: Descrição do respectivo tipo do crime associado.\n",
        "\n",
        "3. Ano: Ano em que foi registrada a respectiva ocorrência.\n",
        "\n",
        "4. Mês: Mês em que foi registrada a ocorrência.\n",
        "\n",
        "5. Ocorrência: Quantidade de ocorrências relacionadas com o mês e ano, para a respectiva UF.\n",
        "<br><br>\n",
        "\n",
        "- As colunas que temos para a base de dados de vítimas são:\n",
        "1. UF: Estado das vítimas dos crimes registrados.\n",
        "\n",
        "2. Tipo do crime: Descrição do respectivo tipo do crime associado.\n",
        "\n",
        "3. Ano: Ano em que foi registrada as respectivas vítimas.\n",
        "\n",
        "4. Mês: Mês em que foram registradas as respectivas vítimas.\n",
        "\n",
        "5. Vítimas: Quantidade de vítimas relacionadas com o mês e ano, para a respectiva UF.\n",
        "\n"
      ]
    },
    {
      "cell_type": "markdown",
      "metadata": {
        "id": "XXAz4LVD4Hkm"
      },
      "source": [
        "Em relação a classificação dos dados em qualitativos e quantitativos, temos as seguintes classificações para cada base:\n",
        "\n",
        "#### <center> Ocorrências\n",
        "\n",
        "| Variável    |   Tipo   |      Escala  | \n",
        "|:--------------|:------------------:|:---------------:|\n",
        "| UF | Qualitativo | Nominal |\n",
        "| Tipo Crime | Qualitativo | Nominal |\n",
        "| Ano | Quantitativo | Ordinal |\n",
        "| Mês | Qualitativo | Ordinal |\n",
        "| Ocorrências | Quantitativo Discreto | Racional |\n",
        "\n",
        "#### <center> Vítimas\n",
        "\n",
        "| Variável    |   Tipo   |      Escala  | \n",
        "|:--------------|:------------------:|:---------------:|\n",
        "| UF | Qualitativo | Nominal |\n",
        "| Tipo Crime | Qualitativo | Nominal |\n",
        "| Ano | Quantitativo | Ordinal |\n",
        "| Mês | Qualitativo | Ordinal |\n",
        "| Vítimas | Quantitativo Discreto | Racional |"
      ]
    },
    {
      "cell_type": "markdown",
      "metadata": {
        "id": "WixlMH747tgG"
      },
      "source": [
        "## Análise dos dados(Prática)"
      ]
    },
    {
      "cell_type": "code",
      "metadata": {
        "id": "w3KijdwQ8_IC"
      },
      "source": [
        "# Imports\n",
        "import pandas as pd\n",
        "import numpy as np \n",
        "import seaborn as sns\n",
        "import matplotlib.pyplot as plt\n",
        "from matplotlib.cbook import boxplot_stats\n",
        "from sklearn import preprocessing\n"
      ],
      "execution_count": 16,
      "outputs": []
    },
    {
      "cell_type": "code",
      "metadata": {
        "id": "dNY1Uw4w1ZGh"
      },
      "source": [
        "xls = pd.ExcelFile('indicadoressegurancapublicauf.xlsx')\n",
        "dados_ocorrencias = pd.read_excel(xls, 'Ocorrências')\n",
        "dados_vitimas  = pd.read_excel(xls, 'Vítimas')"
      ],
      "execution_count": 17,
      "outputs": []
    },
    {
      "cell_type": "code",
      "metadata": {
        "colab": {
          "base_uri": "https://localhost:8080/",
          "height": 197
        },
        "id": "oHozVXkc9gSm",
        "outputId": "128f6803-84f5-47b8-db18-3b2ee55e2a63"
      },
      "source": [
        "dados_ocorrencias.head()"
      ],
      "execution_count": 18,
      "outputs": [
        {
          "output_type": "execute_result",
          "data": {
            "text/html": [
              "<div>\n",
              "<style scoped>\n",
              "    .dataframe tbody tr th:only-of-type {\n",
              "        vertical-align: middle;\n",
              "    }\n",
              "\n",
              "    .dataframe tbody tr th {\n",
              "        vertical-align: top;\n",
              "    }\n",
              "\n",
              "    .dataframe thead th {\n",
              "        text-align: right;\n",
              "    }\n",
              "</style>\n",
              "<table border=\"1\" class=\"dataframe\">\n",
              "  <thead>\n",
              "    <tr style=\"text-align: right;\">\n",
              "      <th></th>\n",
              "      <th>UF</th>\n",
              "      <th>Tipo Crime</th>\n",
              "      <th>Ano</th>\n",
              "      <th>Mês</th>\n",
              "      <th>Ocorrências</th>\n",
              "    </tr>\n",
              "  </thead>\n",
              "  <tbody>\n",
              "    <tr>\n",
              "      <th>0</th>\n",
              "      <td>Acre</td>\n",
              "      <td>Estupro</td>\n",
              "      <td>2015</td>\n",
              "      <td>janeiro</td>\n",
              "      <td>6</td>\n",
              "    </tr>\n",
              "    <tr>\n",
              "      <th>1</th>\n",
              "      <td>Acre</td>\n",
              "      <td>Furto de veículo</td>\n",
              "      <td>2015</td>\n",
              "      <td>janeiro</td>\n",
              "      <td>0</td>\n",
              "    </tr>\n",
              "    <tr>\n",
              "      <th>2</th>\n",
              "      <td>Acre</td>\n",
              "      <td>Homicídio doloso</td>\n",
              "      <td>2015</td>\n",
              "      <td>janeiro</td>\n",
              "      <td>13</td>\n",
              "    </tr>\n",
              "    <tr>\n",
              "      <th>3</th>\n",
              "      <td>Acre</td>\n",
              "      <td>Lesão corporal seguida de morte</td>\n",
              "      <td>2015</td>\n",
              "      <td>janeiro</td>\n",
              "      <td>0</td>\n",
              "    </tr>\n",
              "    <tr>\n",
              "      <th>4</th>\n",
              "      <td>Acre</td>\n",
              "      <td>Roubo a instituição financeira</td>\n",
              "      <td>2015</td>\n",
              "      <td>janeiro</td>\n",
              "      <td>0</td>\n",
              "    </tr>\n",
              "  </tbody>\n",
              "</table>\n",
              "</div>"
            ],
            "text/plain": [
              "     UF                       Tipo Crime   Ano      Mês  Ocorrências\n",
              "0  Acre                          Estupro  2015  janeiro            6\n",
              "1  Acre                 Furto de veículo  2015  janeiro            0\n",
              "2  Acre                 Homicídio doloso  2015  janeiro           13\n",
              "3  Acre  Lesão corporal seguida de morte  2015  janeiro            0\n",
              "4  Acre   Roubo a instituição financeira  2015  janeiro            0"
            ]
          },
          "metadata": {
            "tags": []
          },
          "execution_count": 18
        }
      ]
    },
    {
      "cell_type": "code",
      "metadata": {
        "colab": {
          "base_uri": "https://localhost:8080/",
          "height": 197
        },
        "id": "GkTY4kr09iw4",
        "outputId": "b28f074f-4642-4089-b18d-feffcd9aeca6"
      },
      "source": [
        "dados_vitimas.head()"
      ],
      "execution_count": 19,
      "outputs": [
        {
          "output_type": "execute_result",
          "data": {
            "text/html": [
              "<div>\n",
              "<style scoped>\n",
              "    .dataframe tbody tr th:only-of-type {\n",
              "        vertical-align: middle;\n",
              "    }\n",
              "\n",
              "    .dataframe tbody tr th {\n",
              "        vertical-align: top;\n",
              "    }\n",
              "\n",
              "    .dataframe thead th {\n",
              "        text-align: right;\n",
              "    }\n",
              "</style>\n",
              "<table border=\"1\" class=\"dataframe\">\n",
              "  <thead>\n",
              "    <tr style=\"text-align: right;\">\n",
              "      <th></th>\n",
              "      <th>UF</th>\n",
              "      <th>Tipo Crime</th>\n",
              "      <th>Ano</th>\n",
              "      <th>Mês</th>\n",
              "      <th>Vítimas</th>\n",
              "    </tr>\n",
              "  </thead>\n",
              "  <tbody>\n",
              "    <tr>\n",
              "      <th>0</th>\n",
              "      <td>Acre</td>\n",
              "      <td>Homicídio doloso</td>\n",
              "      <td>2015</td>\n",
              "      <td>janeiro</td>\n",
              "      <td>13</td>\n",
              "    </tr>\n",
              "    <tr>\n",
              "      <th>1</th>\n",
              "      <td>Acre</td>\n",
              "      <td>Homicídio doloso</td>\n",
              "      <td>2015</td>\n",
              "      <td>fevereiro</td>\n",
              "      <td>10</td>\n",
              "    </tr>\n",
              "    <tr>\n",
              "      <th>2</th>\n",
              "      <td>Acre</td>\n",
              "      <td>Homicídio doloso</td>\n",
              "      <td>2015</td>\n",
              "      <td>março</td>\n",
              "      <td>16</td>\n",
              "    </tr>\n",
              "    <tr>\n",
              "      <th>3</th>\n",
              "      <td>Acre</td>\n",
              "      <td>Homicídio doloso</td>\n",
              "      <td>2015</td>\n",
              "      <td>abril</td>\n",
              "      <td>22</td>\n",
              "    </tr>\n",
              "    <tr>\n",
              "      <th>4</th>\n",
              "      <td>Acre</td>\n",
              "      <td>Homicídio doloso</td>\n",
              "      <td>2015</td>\n",
              "      <td>maio</td>\n",
              "      <td>15</td>\n",
              "    </tr>\n",
              "  </tbody>\n",
              "</table>\n",
              "</div>"
            ],
            "text/plain": [
              "     UF        Tipo Crime   Ano        Mês  Vítimas\n",
              "0  Acre  Homicídio doloso  2015    janeiro       13\n",
              "1  Acre  Homicídio doloso  2015  fevereiro       10\n",
              "2  Acre  Homicídio doloso  2015      março       16\n",
              "3  Acre  Homicídio doloso  2015      abril       22\n",
              "4  Acre  Homicídio doloso  2015       maio       15"
            ]
          },
          "metadata": {
            "tags": []
          },
          "execution_count": 19
        }
      ]
    },
    {
      "cell_type": "markdown",
      "metadata": {
        "id": "cUXfzjGvAAQ2"
      },
      "source": [
        "### Abaixo seguem algumas representações e análise dos dados para a base de ocorrência:"
      ]
    },
    {
      "cell_type": "markdown",
      "metadata": {
        "id": "_PeDFCbmAaxk"
      },
      "source": [
        "#### Análise da quantidade de ocorrências por ano\n",
        "\n",
        "- Nesta análise da quantidade de ocorrências por ano, podemos ter uma idéias da distribuição dos dados pelo tempo. Neste caso percebemos um pico no número de ocorrências no ano de 2017 e uma menor quantidade no ano 2021. Esta difereça para o ano de 2021, aconteceu pois existem poucos dados registrados para o ano de 2021. Então podemos desconsiderar o ano de 2021 e considerar o menor ano com ocorrências o ano de 2020."
      ]
    },
    {
      "cell_type": "code",
      "metadata": {
        "colab": {
          "base_uri": "https://localhost:8080/",
          "height": 312
        },
        "id": "S5LOnTWKAiiW",
        "outputId": "18d53299-dd02-4823-c440-73aeddc6f2f5"
      },
      "source": [
        "dfocorrencias_por_ano = dados_ocorrencias.groupby(['Ano'])['Ocorrências'].sum()\n",
        "dfocorrencias_por_ano.plot(kind='bar', stacked='True', color=['#0613e2', '#be12b4', '#cba45c', '#5d1648', '#fd279a', '#b856b4', '#2cff09'])"
      ],
      "execution_count": 20,
      "outputs": [
        {
          "output_type": "execute_result",
          "data": {
            "text/plain": [
              "<matplotlib.axes._subplots.AxesSubplot at 0x7f7415737710>"
            ]
          },
          "metadata": {
            "tags": []
          },
          "execution_count": 20
        },
        {
          "output_type": "display_data",
          "data": {
            "image/png": "[encoded data removed]",
            "text/plain": [
              "<Figure size 432x288 with 1 Axes>"
            ]
          },
          "metadata": {
            "tags": [],
            "needs_background": "light"
          }
        }
      ]
    },
    {
      "cell_type": "markdown",
      "metadata": {
        "id": "HG5M6-4egIAj"
      },
      "source": [
        "#### Análise da quantidade de ocorrências por crime\n",
        "\n",
        "- Nesta análise da quantidade de ocorrências por crime, podemos ter uma idéia do número de ocorrências por crime, ajudando assim a descobrir quais tipos de crimes que possuem a maior quantidade de ocorrências, podendo assim ajudar em possiveis futuras classificações. Nesse caso, os crimes que possuem maior quantidade de ocorrências registradas são os de \"Furto de veículo\" e \"Roubo de veículo\", possuindo uma quantidade de ocorrências bem discrepante em relação aos outros crimes."
      ]
    },
    {
      "cell_type": "code",
      "metadata": {
        "colab": {
          "base_uri": "https://localhost:8080/",
          "height": 477
        },
        "id": "pf-tFG6S_qwS",
        "outputId": "7e8b8a57-3452-413e-e205-1e33e35d6f38"
      },
      "source": [
        "dfocorrencias_por_crime = dados_ocorrencias.groupby(['Tipo Crime'])['Ocorrências'].sum()\n",
        "dfocorrencias_por_crime.plot(kind='bar', stacked='True', color=['#0613e2', '#be12b4', '#cba45c', '#5d1648', '#fd279a', '#b856b4', '#2cff09'])"
      ],
      "execution_count": 21,
      "outputs": [
        {
          "output_type": "execute_result",
          "data": {
            "text/plain": [
              "<matplotlib.axes._subplots.AxesSubplot at 0x7f7416088d10>"
            ]
          },
          "metadata": {
            "tags": []
          },
          "execution_count": 21
        },
        {
          "output_type": "display_data",
          "data": {
            "image/png": "[encoded data removed]",
            "text/plain": [
              "<Figure size 432x288 with 1 Axes>"
            ]
          },
          "metadata": {
            "tags": [],
            "needs_background": "light"
          }
        }
      ]
    },
    {
      "cell_type": "markdown",
      "metadata": {
        "id": "LSGoeHOdmMUr"
      },
      "source": [
        "#### Análise da quantidade de ocorrências por UF\n",
        "\n",
        "- Nesta análise da quantidade de ocorrências por UF, podemos ter uma idéia do número de ocorrências por estado, ajudando assim a descobrir quais estados que possuem a maior quantidade de ocorrências, podendo assim ajudar em possiveis futuras classificações. Nesse caso, percebemos uma quantidade de ocorrências discrepantes de ocorrências quando comparamos o estado de \"São Paulo\" com os outro estados. Logo em segundo estado com maior número de ocorrências, temos o \"Rio de Janeiro\" e \"Minas gerais\"."
      ]
    },
    {
      "cell_type": "code",
      "metadata": {
        "colab": {
          "base_uri": "https://localhost:8080/",
          "height": 400
        },
        "id": "s1x6Y_o1mMiV",
        "outputId": "b652c02f-b74a-4bf7-92e3-97378673ccca"
      },
      "source": [
        "dfocorrencias_por_uf = dados_ocorrencias.groupby(['UF'])['Ocorrências'].sum()\n",
        "dfocorrencias_por_uf.plot(kind='bar', stacked='True', color=['#0613e2', '#be12b4', '#cba45c', '#5d1648', '#fd279a', '#b856b4', '#2cff09'])"
      ],
      "execution_count": 22,
      "outputs": [
        {
          "output_type": "execute_result",
          "data": {
            "text/plain": [
              "<matplotlib.axes._subplots.AxesSubplot at 0x7f74159d0a50>"
            ]
          },
          "metadata": {
            "tags": []
          },
          "execution_count": 22
        },
        {
          "output_type": "display_data",
          "data": {
            "image/png": "[encoded data removed]",
            "text/plain": [
              "<Figure size 432x288 with 1 Axes>"
            ]
          },
          "metadata": {
            "tags": [],
            "needs_background": "light"
          }
        }
      ]
    },
    {
      "cell_type": "markdown",
      "metadata": {
        "id": "33Fn1r7iqbQ_"
      },
      "source": [
        "### Abaixo seguem algumas representações e análise dos dados para a base de vítimas:"
      ]
    },
    {
      "cell_type": "markdown",
      "metadata": {
        "id": "PGMcAFqJqeZm"
      },
      "source": [
        "#### Análise da quantidade de vítimas por ano\n",
        "\n",
        "- Nesta análise da quantidade de vítimas por ano, podemos ter uma idéias da distribuição dos dados pelo tempo. Neste caso percebemos um pico no número de ocorrências no ano de 2016 e 2017, e uma menor quantidade no ano 2021. Esta difereça para o ano de 2021, assim como para o numero de ocorrências, aconteceu pois existem poucos dados registrados para o ano de 2021. Então podemos desconsiderar o ano de 2021 e considerar o menor ano com vítimas o ano de 2019."
      ]
    },
    {
      "cell_type": "code",
      "metadata": {
        "colab": {
          "base_uri": "https://localhost:8080/",
          "height": 312
        },
        "id": "UfLXdw89qeJr",
        "outputId": "cfce2062-e492-46c5-8bcc-a94919d32813"
      },
      "source": [
        "dfvitimas_por_ano = dados_vitimas.groupby(['Ano'])['Vítimas'].sum()\n",
        "dfvitimas_por_ano.plot(kind='bar', stacked='True', color=['#0613e2', '#be12b4', '#cba45c', '#5d1648', '#fd279a', '#b856b4', '#2cff09'])"
      ],
      "execution_count": 23,
      "outputs": [
        {
          "output_type": "execute_result",
          "data": {
            "text/plain": [
              "<matplotlib.axes._subplots.AxesSubplot at 0x7f74158e3e50>"
            ]
          },
          "metadata": {
            "tags": []
          },
          "execution_count": 23
        },
        {
          "output_type": "display_data",
          "data": {
            "image/png": "[encoded data removed]",
            "text/plain": [
              "<Figure size 432x288 with 1 Axes>"
            ]
          },
          "metadata": {
            "tags": [],
            "needs_background": "light"
          }
        }
      ]
    },
    {
      "cell_type": "markdown",
      "metadata": {
        "id": "7Qi7PQaqsYgN"
      },
      "source": [
        "#### Análise da quantidade de vítimas por crime\n",
        "\n",
        "- Nesta análise da quantidade de vítimas por crime, diferente da análise de ocorrências, aqui a quantidade de crimes é bem menor(somente 3), neste caso sendo os crimes agrupados de maneira mais genêrica e não tão especifica. Para estes casos, temos uma quantidade de vítimas bem maior para crimes classificados como \"Homicidio doloso\", quando comparado com os crimes classificados como \"Lesão corporal seguida de morte\" ou \"Roubo seguido de morte (latrocínio)\"."
      ]
    },
    {
      "cell_type": "code",
      "metadata": {
        "colab": {
          "base_uri": "https://localhost:8080/",
          "height": 466
        },
        "id": "yKZBX7KksYuu",
        "outputId": "097a137b-4ee2-498c-897c-0853ea8be034"
      },
      "source": [
        "dfvitimas_por_crime = dados_vitimas.groupby(['Tipo Crime'])['Vítimas'].sum()\n",
        "dfvitimas_por_crime.plot(kind='bar', stacked='True', color=['#0613e2', '#be12b4', '#cba45c', '#5d1648', '#fd279a', '#b856b4', '#2cff09'])"
      ],
      "execution_count": 24,
      "outputs": [
        {
          "output_type": "execute_result",
          "data": {
            "text/plain": [
              "<matplotlib.axes._subplots.AxesSubplot at 0x7f741586ff90>"
            ]
          },
          "metadata": {
            "tags": []
          },
          "execution_count": 24
        },
        {
          "output_type": "display_data",
          "data": {
            "image/png": "[encoded data removed]",
            "text/plain": [
              "<Figure size 432x288 with 1 Axes>"
            ]
          },
          "metadata": {
            "tags": [],
            "needs_background": "light"
          }
        }
      ]
    },
    {
      "cell_type": "markdown",
      "metadata": {
        "id": "VoWcFPI-t1Gl"
      },
      "source": [
        "#### Análise da quantidade de vítimas por UF\n",
        "\n",
        "- Nesta análise da quantidade de vítimas por UF, podemos ter uma idéia do número de vítimas por estado, ajudando assim a descobrir quais estados que possuem a maior quantidade de vítimas, podendo assim ajudar em possiveis futuras classificações. Nesse caso, percebemos a maior quantidade de vítimas para o estado da \"Bahia\", e o segundo maior o \"Rio de Janeiro\". Analisando esse resultado com a quantidade de ocorrências por estado, percebemos que apesar de o estado de \"São Paulo\" possuir a maior quantidade de ocorrências, o mesmo possui uma quantidade relativamente baixa de vítimas quando comparado com os outros estados, o mesmo valendo para o estado da \"Bahia\", que apesar de possuir um número grande de vítimas, possui uma pequena quantidade de ocorrências registradas."
      ]
    },
    {
      "cell_type": "code",
      "metadata": {
        "colab": {
          "base_uri": "https://localhost:8080/",
          "height": 388
        },
        "id": "evuUW1wot1VS",
        "outputId": "f19563c9-8bf1-4a33-afc1-510a552a9612"
      },
      "source": [
        "dfvitimas_por_uf = dados_vitimas.groupby(['UF'])['Vítimas'].sum()\n",
        "dfvitimas_por_uf.plot(kind='bar', stacked='True', color=['#0613e2', '#be12b4', '#cba45c', '#5d1648', '#fd279a', '#b856b4', '#2cff09'])"
      ],
      "execution_count": 25,
      "outputs": [
        {
          "output_type": "execute_result",
          "data": {
            "text/plain": [
              "<matplotlib.axes._subplots.AxesSubplot at 0x7f74158446d0>"
            ]
          },
          "metadata": {
            "tags": []
          },
          "execution_count": 25
        },
        {
          "output_type": "display_data",
          "data": {
            "image/png": "[encoded data removed]",
            "text/plain": [
              "<Figure size 432x288 with 1 Axes>"
            ]
          },
          "metadata": {
            "tags": [],
            "needs_background": "light"
          }
        }
      ]
    }
  ]
}